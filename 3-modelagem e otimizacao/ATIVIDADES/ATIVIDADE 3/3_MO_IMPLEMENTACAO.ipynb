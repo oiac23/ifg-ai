{
  "nbformat": 4,
  "nbformat_minor": 0,
  "metadata": {
    "colab": {
      "provenance": [],
      "toc_visible": true
    },
    "kernelspec": {
      "name": "python3",
      "display_name": "Python 3"
    },
    "language_info": {
      "name": "python"
    }
  },
  "cells": [
    {
      "cell_type": "code",
      "source": [
        "%pip install pulp"
      ],
      "metadata": {
        "colab": {
          "base_uri": "https://localhost:8080/"
        },
        "id": "E8mQ-YLGobkH",
        "outputId": "a468d5cf-c874-421f-8b8a-b9188b157aa8"
      },
      "execution_count": 1,
      "outputs": [
        {
          "output_type": "stream",
          "name": "stdout",
          "text": [
            "Collecting pulp\n",
            "  Downloading PuLP-2.8.0-py3-none-any.whl (17.7 MB)\n",
            "\u001b[2K     \u001b[90m━━━━━━━━━━━━━━━━━━━━━━━━━━━━━━━━━━━━━━━━\u001b[0m \u001b[32m17.7/17.7 MB\u001b[0m \u001b[31m26.0 MB/s\u001b[0m eta \u001b[36m0:00:00\u001b[0m\n",
            "\u001b[?25hInstalling collected packages: pulp\n",
            "Successfully installed pulp-2.8.0\n"
          ]
        }
      ]
    },
    {
      "cell_type": "code",
      "source": [
        "import warnings\n",
        "warnings.filterwarnings(\"ignore\")"
      ],
      "metadata": {
        "id": "v8-NIQwT1qMk"
      },
      "execution_count": 17,
      "outputs": []
    },
    {
      "cell_type": "markdown",
      "source": [
        "## Exemplo Aula\n",
        "\n"
      ],
      "metadata": {
        "id": "OGfWyDpL11o0"
      }
    },
    {
      "cell_type": "code",
      "execution_count": null,
      "metadata": {
        "colab": {
          "base_uri": "https://localhost:8080/"
        },
        "id": "c074g3F1oDm1",
        "outputId": "71060fac-4ecf-4952-edcb-1bafa7b036bd"
      },
      "outputs": [
        {
          "output_type": "stream",
          "name": "stdout",
          "text": [
            "Flow = {(1, 3): 50.0, (3, 5): 50.0, (5, 7): 50.0}\n"
          ]
        }
      ],
      "source": [
        "import pulp\n",
        "\n",
        "costs = {(1, 2): 5.50,\n",
        "         (1, 3): 3.20,\n",
        "         (2, 4): 6.20,\n",
        "         (2, 5): 8.80,\n",
        "         (3, 5): 5.00,\n",
        "         (3, 6): 4.50,\n",
        "         (4, 7): 2.50,\n",
        "         (5, 7): 3.40,\n",
        "         (6, 7): 9.50\n",
        "        }\n",
        "\n",
        "x_keys = costs.keys()\n",
        "\n",
        "# Define the model\n",
        "mdl = pulp.LpProblem('MinCostFlow', sense=pulp.LpMinimize)\n",
        "\n",
        "# Add variables\n",
        "x = pulp.LpVariable.dicts(indices=x_keys, cat=pulp.LpContinuous, lowBound=0, name='x')\n",
        "\n",
        "# Add Constraints\n",
        "mdl.addConstraint(x[4, 7] + x[5, 7] + x[6, 7] == 50, name='c1')\n",
        "mdl.addConstraint(x[2, 4] + x[2, 5] == x[1, 2], name='c2')\n",
        "mdl.addConstraint(x[3, 5] + x[3, 6] == x[1, 3], name='c3')\n",
        "mdl.addConstraint(x[1, 2] + x[1, 3] == 50, name='c4')\n",
        "mdl.addConstraint(x[4, 7] == x[2, 4], name='c5')\n",
        "mdl.addConstraint(x[6, 7] == x[3, 6], name='c6')\n",
        "mdl.addConstraint(x[2, 5] + x[3, 5] == x[5, 7], name='c7')\n",
        "\n",
        "# Set the objective function\n",
        "mdl.setObjective(pulp.lpSum(costs[i, j] * x[i, j] for i, j in x_keys))\n",
        "\n",
        "# Optimize\n",
        "mdl.solve()\n",
        "\n",
        "x_sol = {(i, j): x[i, j].value() for i, j in x_keys if x[i, j].value() > 1e-4}\n",
        "print(f\"Flow = {x_sol}\")"
      ]
    },
    {
      "cell_type": "markdown",
      "source": [
        "## Lista 2 - *1.1*"
      ],
      "metadata": {
        "id": "Bt7GL-5I2Oqa"
      }
    },
    {
      "cell_type": "code",
      "source": [
        "import pulp\n",
        "\n",
        "x_keys = [1, 2]\n",
        "\n",
        "# Define the model\n",
        "mdl = pulp.LpProblem('Maximize Profit', sense=pulp.LpMaximize)\n",
        "\n",
        "# Add variables\n",
        "x = pulp.LpVariable.dicts(indices=x_keys, cat=pulp.LpContinuous, lowBound=0, name='x')\n",
        "\n",
        "# Add Constraints\n",
        "mdl.addConstraint(-x[1] + x[2] <= 4, name='c1')\n",
        "mdl.addConstraint(x[1] + 2*x[2] <= 6, name='c2')\n",
        "mdl.addConstraint(x[1] + 3*x[2] <= 9, name='c3')\n",
        "mdl.addConstraint(x[1] >= 0, name='c4')\n",
        "mdl.addConstraint(x[2] >= 0, name='c5')\n",
        "\n",
        "# Set the objective function\n",
        "mdl.setObjective(2*x[1] + 3*x[2])\n",
        "\n",
        "# Optimize\n",
        "mdl.solve()\n",
        "\n",
        "x_sol = {i: x[i].value() for i in x_keys}\n",
        "print(f\"Flow = {x_sol}\")\n",
        "print(f'Solução: {x_sol[1]*2 + x_sol[2]*3}')"
      ],
      "metadata": {
        "colab": {
          "base_uri": "https://localhost:8080/"
        },
        "id": "UYdB171-oV3i",
        "outputId": "cdd05684-cb3f-4605-edd3-ebd9755d79cb"
      },
      "execution_count": null,
      "outputs": [
        {
          "output_type": "stream",
          "name": "stdout",
          "text": [
            "Flow = {1: 6.0, 2: 0.0}\n",
            "Solução: 12.0\n"
          ]
        }
      ]
    },
    {
      "cell_type": "markdown",
      "source": [
        "## Lista 2 - *1.2*"
      ],
      "metadata": {
        "id": "c7Cbj6IL2URF"
      }
    },
    {
      "cell_type": "code",
      "source": [
        "import pulp\n",
        "\n",
        "x_keys = [1, 2]\n",
        "\n",
        "# Define the model\n",
        "mdl = pulp.LpProblem('Maximize Revenue', sense=pulp.LpMaximize)\n",
        "\n",
        "# Add variables\n",
        "x = pulp.LpVariable.dicts(indices=x_keys, cat=pulp.LpContinuous, lowBound=0, name='x')\n",
        "\n",
        "# Add Constraints\n",
        "mdl.addConstraint(2*x[1] + x[2] <= 2, name='c1')\n",
        "mdl.addConstraint(x[1] + 3*x[2] <= 3, name='c2')\n",
        "mdl.addConstraint(x[1] >= 0, name='c3')\n",
        "mdl.addConstraint(x[2] >= 0, name='c4')\n",
        "\n",
        "# Set the objective function\n",
        "mdl.setObjective(0.3*x[1] + 0.5*x[2])\n",
        "\n",
        "# Optimize\n",
        "mdl.solve()\n",
        "\n",
        "x_sol = {i: x[i].value() for i in x_keys}\n",
        "print(f\"Flow = {x_sol}\")\n",
        "print(f'Solução: {x_sol[1]*0.3 + x_sol[2]*0.5}')"
      ],
      "metadata": {
        "colab": {
          "base_uri": "https://localhost:8080/"
        },
        "id": "20REwfkP1Qoa",
        "outputId": "b48869b1-d067-4b60-cc7e-95e57d7d74cf"
      },
      "execution_count": null,
      "outputs": [
        {
          "output_type": "stream",
          "name": "stdout",
          "text": [
            "Flow = {1: 0.6, 2: 0.8}\n",
            "Solução: 0.5800000000000001\n"
          ]
        }
      ]
    },
    {
      "cell_type": "markdown",
      "source": [
        "## Lista 2 - *1.3*"
      ],
      "metadata": {
        "id": "EDCOWs382797"
      }
    },
    {
      "cell_type": "code",
      "source": [
        "import pulp\n",
        "\n",
        "x_keys = [1, 2]\n",
        "\n",
        "\n",
        "# Define the model\n",
        "mdl = pulp.LpProblem('Maximize Profit', sense=pulp.LpMaximize)\n",
        "\n",
        "# Add variables\n",
        "x = pulp.LpVariable.dicts(indices=x_keys, cat=pulp.LpContinuous, lowBound=0, name='x')\n",
        "\n",
        "# Add Constraints\n",
        "mdl.addConstraint(x[1] + 3*x[2] <= 9, name='c1')\n",
        "mdl.addConstraint(-x[1] + 2*x[2] <= 4, name='c2')\n",
        "mdl.addConstraint(x[1] + x[2] <= 6, name='c3')\n",
        "mdl.addConstraint(x[1] >= 0, name='c4')\n",
        "mdl.addConstraint(x[2] >= 0, name='c5')\n",
        "\n",
        "# Set the objective function\n",
        "mdl.setObjective(2*x[1] + 3*x[2])\n",
        "\n",
        "# Optimize\n",
        "mdl.solve()\n",
        "\n",
        "x_sol = {i: x[i].value() for i in x_keys}\n",
        "print(f\"Flow = {x_sol}\")\n",
        "print(f'Solução: {x_sol[1]*2 + x_sol[2]*3}')"
      ],
      "metadata": {
        "colab": {
          "base_uri": "https://localhost:8080/"
        },
        "id": "1F-OLdVeveyA",
        "outputId": "8732be27-a2b2-4e0f-ce40-c7674dba6842"
      },
      "execution_count": null,
      "outputs": [
        {
          "output_type": "stream",
          "name": "stdout",
          "text": [
            "Flow = {1: 4.5, 2: 1.5}\n",
            "Solução: 13.5\n"
          ]
        }
      ]
    },
    {
      "cell_type": "markdown",
      "source": [
        "## Lista 2 - *1.4*"
      ],
      "metadata": {
        "id": "f1yKod3E3SmN"
      }
    },
    {
      "cell_type": "code",
      "source": [
        "import pulp\n",
        "\n",
        "x_keys = [1, 2]\n",
        "\n",
        "# Define the model\n",
        "mdl = pulp.LpProblem('Minimize Costs', sense=pulp.LpMinimize)\n",
        "\n",
        "# Add variables\n",
        "x = pulp.LpVariable.dicts(indices=x_keys, cat=pulp.LpContinuous, lowBound=0, name='x')\n",
        "\n",
        "# Add Constraints\n",
        "mdl.addConstraint(x[1] + x[2] <= 20, name='c1')\n",
        "mdl.addConstraint(x[1] + x[2] >= 10, name='c2')\n",
        "mdl.addConstraint(5*x[1] + 6*x[2] >= 54, name='c3')\n",
        "mdl.addConstraint(x[1] >= 0, name='c4')\n",
        "mdl.addConstraint(x[2] >= 0, name='c5')\n",
        "\n",
        "# Set the objective function\n",
        "mdl.setObjective(10*x[1] + 12*x[2])\n",
        "\n",
        "# Optimize\n",
        "mdl.solve()\n",
        "\n",
        "x_sol = {i: x[i].value() for i in x_keys}\n",
        "print(f\"Flow = {x_sol}\")\n",
        "print(f'Solução: {x_sol[1]*10 + x_sol[2]*12}')"
      ],
      "metadata": {
        "colab": {
          "base_uri": "https://localhost:8080/"
        },
        "id": "TzE9wK-g3Ose",
        "outputId": "50974047-fd29-44c6-bc0b-af6c102d4bd4"
      },
      "execution_count": null,
      "outputs": [
        {
          "output_type": "stream",
          "name": "stdout",
          "text": [
            "Flow = {1: 10.8, 2: 0.0}\n",
            "Solução: 108.0\n"
          ]
        }
      ]
    },
    {
      "cell_type": "markdown",
      "source": [
        "## Lista 2 - *1.5*\n",
        "\n",
        "\n",
        "\n"
      ],
      "metadata": {
        "id": "dqHyAl9H3zHH"
      }
    },
    {
      "cell_type": "code",
      "source": [
        "import pulp\n",
        "\n",
        "x_keys = [1, 2]\n",
        "\n",
        "# Define the model\n",
        "mdl = pulp.LpProblem('Minimize Z', sense=pulp.LpMinimize)\n",
        "\n",
        "# Add variables\n",
        "x = pulp.LpVariable.dicts(indices=x_keys, cat=pulp.LpContinuous, lowBound=0, name='x')\n",
        "\n",
        "# Add Constraints\n",
        "mdl.addConstraint(-x[1] + x[2] <= 2, name='c1')\n",
        "mdl.addConstraint(3*x[1] + 5*x[2] >= 15, name='c2')\n",
        "mdl.addConstraint(5*x[1] + 4*x[2] >= 20, name='c3')\n",
        "mdl.addConstraint(x[1] >= 0, name='c4')\n",
        "mdl.addConstraint(x[2] >= 0, name='c5')\n",
        "mdl.addConstraint(x[1] <= 5, name='c6')\n",
        "mdl.addConstraint(x[2] <= 6, name='c7')\n",
        "\n",
        "# Set the objective function\n",
        "mdl.setObjective(7*x[1] + 9*x[2])\n",
        "\n",
        "# Optimize\n",
        "mdl.solve()\n",
        "\n",
        "x_sol = {i: x[i].value() for i in x_keys}\n",
        "print(f\"Flow = {x_sol}\")\n",
        "print(f'Solução: {x_sol[1]*7 + x_sol[2]*9}')"
      ],
      "metadata": {
        "colab": {
          "base_uri": "https://localhost:8080/"
        },
        "id": "QBGcyMd93wDb",
        "outputId": "a4da973d-161e-4553-c735-941db394aed4"
      },
      "execution_count": null,
      "outputs": [
        {
          "output_type": "stream",
          "name": "stdout",
          "text": [
            "Flow = {1: 3.0769231, 2: 1.1538462}\n",
            "Solução: 31.923077499999998\n"
          ]
        }
      ]
    },
    {
      "cell_type": "markdown",
      "source": [
        "## Lista 2 - *2 - Problema 1 - Lista 1*\n"
      ],
      "metadata": {
        "id": "2JXlTr0r6by5"
      }
    },
    {
      "cell_type": "code",
      "source": [
        "import pulp\n",
        "\n",
        "x_keys = [1, 2]\n",
        "\n",
        "# Define the model\n",
        "mdl = pulp.LpProblem('Maximize Hourly Profit', sense=pulp.LpMaximize)\n",
        "\n",
        "# Add variables\n",
        "x = pulp.LpVariable.dicts(indices=x_keys, cat=pulp.LpContinuous, lowBound=0, name='x')\n",
        "\n",
        "# Set the objective function\n",
        "mdl.setObjective(5*x[1] + 2*x[2])\n",
        "\n",
        "# Add Constraints\n",
        "mdl.addConstraint(2*x[1] + x[2] <= 6, name='c1')\n",
        "mdl.addConstraint(x[1] >= 0, name='c2')\n",
        "mdl.addConstraint(x[2] >= 0, name='c3')\n",
        "mdl.addConstraint(x[1] <= 6, name='c4')\n",
        "mdl.addConstraint(x[2] <= 5, name='c5')\n",
        "\n",
        "# Optimize\n",
        "mdl.solve()\n",
        "\n",
        "x_sol = {i: x[i].value() for i in x_keys}\n",
        "print(f\"Flow = {x_sol}\")\n",
        "print(f'Solução: {x_sol[1]*5 + x_sol[2]*2}')"
      ],
      "metadata": {
        "colab": {
          "base_uri": "https://localhost:8080/"
        },
        "id": "D652uabX5r3m",
        "outputId": "9d56f180-e210-4fe8-8cb2-5acbb7db7c99"
      },
      "execution_count": null,
      "outputs": [
        {
          "output_type": "stream",
          "name": "stdout",
          "text": [
            "Flow = {1: 3.0, 2: 0.0}\n",
            "Solução: 15.0\n"
          ]
        }
      ]
    },
    {
      "cell_type": "markdown",
      "source": [
        "## Lista 2 - *3 - Problema 2 - Lista 1*\n"
      ],
      "metadata": {
        "id": "cNoHwE5c7x1q"
      }
    },
    {
      "cell_type": "code",
      "source": [
        "import pulp\n",
        "\n",
        "x_keys = [1, 2]\n",
        "\n",
        "# Define the model\n",
        "mdl = pulp.LpProblem('Maximize Profit', sense=pulp.LpMaximize)\n",
        "\n",
        "# Add variables\n",
        "x = pulp.LpVariable.dicts(indices=x_keys, cat=pulp.LpContinuous, lowBound=0, name='x')\n",
        "\n",
        "# Set the objective function\n",
        "mdl.setObjective(100*x[1] + 150*x[2])\n",
        "\n",
        "# Add Constraints\n",
        "mdl.addConstraint(2*x[1] + 3*x[2] <= 120, name='c1')\n",
        "mdl.addConstraint(x[1] >= 0, name='c4')\n",
        "mdl.addConstraint(x[2] >= 0, name='c5')\n",
        "mdl.addConstraint(x[1] <= 40, name='c6')\n",
        "mdl.addConstraint(x[2] <= 30, name='c7')\n",
        "\n",
        "# Optimize\n",
        "mdl.solve()\n",
        "\n",
        "x_sol = {i: x[i].value() for i in x_keys}\n",
        "print(f\"Flow = {x_sol}\")\n",
        "print(f'Solução: {x_sol[1]*100 + x_sol[2]*150}')"
      ],
      "metadata": {
        "colab": {
          "base_uri": "https://localhost:8080/"
        },
        "id": "WBcHQ-Vi7rEJ",
        "outputId": "6eeb46f0-255b-4bb7-cdde-2a6a82a65108"
      },
      "execution_count": null,
      "outputs": [
        {
          "output_type": "stream",
          "name": "stdout",
          "text": [
            "Flow = {1: 15.0, 2: 30.0}\n",
            "Solução: 6000.0\n"
          ]
        }
      ]
    },
    {
      "cell_type": "markdown",
      "source": [
        "## Lista 2 - *4 - Problema 3 - Lista 1*\n"
      ],
      "metadata": {
        "id": "EnhdUarx8pWt"
      }
    },
    {
      "cell_type": "code",
      "source": [
        "import pulp\n",
        "\n",
        "x_keys = [1, 2]\n",
        "\n",
        "# Define the model\n",
        "mdl = pulp.LpProblem('Maximize Profit', sense=pulp.LpMaximize)\n",
        "\n",
        "# Add variables\n",
        "x = pulp.LpVariable.dicts(indices=x_keys, cat=pulp.LpContinuous, lowBound=0, name='x')\n",
        "\n",
        "# Set the objective function\n",
        "mdl.setObjective(10*x[1] + 30*x[2] + 20*200)\n",
        "\n",
        "# Add Constraints\n",
        "mdl.addConstraint(x[1] + x[2] <= 600, name='c1')\n",
        "mdl.addConstraint(x[1] >= 0, name='c4')\n",
        "mdl.addConstraint(x[2] >= 0, name='c5')\n",
        "mdl.addConstraint(x[1] >= 100, name='c6')\n",
        "mdl.addConstraint(x[2] <= 200, name='c7')\n",
        "\n",
        "# Optimize\n",
        "mdl.solve()\n",
        "\n",
        "x_sol = {i: x[i].value() for i in x_keys}\n",
        "print(f\"Flow = {x_sol}\")\n",
        "print(f'Solução: {x_sol[1]*10 + x_sol[2]*30 + 20*200}')"
      ],
      "metadata": {
        "colab": {
          "base_uri": "https://localhost:8080/"
        },
        "id": "91DUi9_R8Lhw",
        "outputId": "8ce14245-e79f-4639-a108-dbab19d97308"
      },
      "execution_count": null,
      "outputs": [
        {
          "output_type": "stream",
          "name": "stdout",
          "text": [
            "Flow = {1: 400.0, 2: 200.0}\n",
            "Solução: 14000.0\n"
          ]
        }
      ]
    },
    {
      "cell_type": "markdown",
      "source": [
        "## Lista 2 - *5 - Problema 4 - Lista 1*\n"
      ],
      "metadata": {
        "id": "qogxVhr79HWK"
      }
    },
    {
      "cell_type": "code",
      "source": [
        "import pulp\n",
        "\n",
        "x_keys = [1, 2]\n",
        "\n",
        "# Define the model\n",
        "mdl = pulp.LpProblem('Maximize Viewership', sense=pulp.LpMaximize)\n",
        "\n",
        "# Add variables\n",
        "x = pulp.LpVariable.dicts(indices=x_keys, cat=pulp.LpContinuous, lowBound=0, name='x')\n",
        "\n",
        "# Set the objective function\n",
        "mdl.setObjective(30000*x[1] + 10000*x[2])\n",
        "\n",
        "# Add Constraints\n",
        "mdl.addConstraint(20*x[1] + 10*x[2] <= 80, name='c1')\n",
        "mdl.addConstraint(x[1] + x[2] >= 5, name='c2')\n",
        "\n",
        "mdl.addConstraint(x[1] >= 0, name='c4')\n",
        "mdl.addConstraint(x[2] >= 0, name='c5')\n",
        "\n",
        "# Optimize\n",
        "mdl.solve()\n",
        "\n",
        "x_sol = {i: x[i].value() for i in x_keys}\n",
        "print(f\"Flow = {x_sol}\")\n",
        "print(f'Solução: {x_sol[1]*30000 + x_sol[2]*10000}')"
      ],
      "metadata": {
        "colab": {
          "base_uri": "https://localhost:8080/"
        },
        "id": "2bnegrWa9AMl",
        "outputId": "7c4c725c-9689-46b7-c52d-81c7e1485fb1"
      },
      "execution_count": null,
      "outputs": [
        {
          "output_type": "stream",
          "name": "stdout",
          "text": [
            "Flow = {1: 3.0, 2: 2.0}\n",
            "Solução: 110000.0\n"
          ]
        }
      ]
    },
    {
      "cell_type": "markdown",
      "source": [
        "## Lista 2 - *6 - Problema 5 - Lista 1*\n"
      ],
      "metadata": {
        "id": "8mG_uwvg-6Fp"
      }
    },
    {
      "cell_type": "code",
      "source": [
        "import pulp\n",
        "\n",
        "x_keys = [1, 2]\n",
        "\n",
        "# Define the model\n",
        "mdl = pulp.LpProblem('Maximize Profit', sense=pulp.LpMaximize)\n",
        "\n",
        "# Add variables\n",
        "x = pulp.LpVariable.dicts(indices=x_keys, cat=pulp.LpContinuous, lowBound=0, name='x')\n",
        "\n",
        "# Set the objective function\n",
        "mdl.setObjective(4*x[1] + 3*x[2])\n",
        "\n",
        "# Add Constraints\n",
        "mdl.addConstraint(2*x[1] + 1*x[2] <= 1000, name='c1')\n",
        "mdl.addConstraint(x[1] + x[2] <= 800, name='c2')\n",
        "\n",
        "mdl.addConstraint(x[1] >= 0, name='c4')\n",
        "mdl.addConstraint(x[2] >= 0, name='c5')\n",
        "mdl.addConstraint(x[1] <= 400, name='c6')\n",
        "mdl.addConstraint(x[2] <= 700, name='c7')\n",
        "\n",
        "# Optimize\n",
        "mdl.solve()\n",
        "\n",
        "x_sol = {i: x[i].value() for i in x_keys}\n",
        "print(f\"Flow = {x_sol}\")\n",
        "print(f'Solução: {x_sol[1]*4 + x_sol[2]*3}')"
      ],
      "metadata": {
        "colab": {
          "base_uri": "https://localhost:8080/"
        },
        "id": "n3AMKhrD9qhf",
        "outputId": "e7a95745-a163-4d64-8347-edaf9a7d24fb"
      },
      "execution_count": null,
      "outputs": [
        {
          "output_type": "stream",
          "name": "stdout",
          "text": [
            "Flow = {1: 200.0, 2: 600.0}\n",
            "Solução: 2600.0\n"
          ]
        }
      ]
    },
    {
      "cell_type": "markdown",
      "source": [
        "## Lista 2 - *7*"
      ],
      "metadata": {
        "id": "-6OfWGmy_piZ"
      }
    },
    {
      "cell_type": "code",
      "source": [
        "import pulp\n",
        "\n",
        "x_keys = [1, 2]\n",
        "\n",
        "# Define the model\n",
        "mdl = pulp.LpProblem('Minimize Operation Costs', sense=pulp.LpMinimize)\n",
        "\n",
        "# Add variables\n",
        "x = pulp.LpVariable.dicts(indices=x_keys, cat=pulp.LpContinuous, lowBound=0, name='x')\n",
        "\n",
        "# Set the objective function\n",
        "mdl.setObjective(1000*x[1] + 2000*x[2])\n",
        "\n",
        "# Add Constraints\n",
        "mdl.addConstraint(8*x[1] + 2*x[2] >= 16, name='c1')\n",
        "mdl.addConstraint(  x[1] +   x[2] >=  6, name='c2')\n",
        "mdl.addConstraint(2*x[1] + 7*x[2] >=  28, name='c3')\n",
        "\n",
        "mdl.addConstraint(x[1] >= 0, name='c4')\n",
        "mdl.addConstraint(x[2] >= 0, name='c5')\n",
        "\n",
        "\n",
        "# Optimize\n",
        "mdl.solve()\n",
        "\n",
        "x_sol = {i: x[i].value() for i in x_keys}\n",
        "print(f\"Flow = {x_sol}\")\n",
        "print(f'Solução: {x_sol[1]*1000 + x_sol[2]*2000}')"
      ],
      "metadata": {
        "colab": {
          "base_uri": "https://localhost:8080/"
        },
        "id": "5oS1j6yl_Sx9",
        "outputId": "36741ccd-1565-48e8-d21e-9af33dd7b73a"
      },
      "execution_count": null,
      "outputs": [
        {
          "output_type": "stream",
          "name": "stdout",
          "text": [
            "Flow = {1: 2.8, 2: 3.2}\n",
            "Solução: 9200.0\n"
          ]
        }
      ]
    },
    {
      "cell_type": "markdown",
      "source": [
        "## Lista 2 - *8*"
      ],
      "metadata": {
        "id": "_44hnygRAZoq"
      }
    },
    {
      "cell_type": "code",
      "source": [
        "import pulp\n",
        "\n",
        "x_keys = [1, 2]\n",
        "\n",
        "# Define the model\n",
        "mdl = pulp.LpProblem('Minimize Operation Costs', sense=pulp.LpMinimize)\n",
        "\n",
        "# Add variables\n",
        "x = pulp.LpVariable.dicts(indices=x_keys, cat=pulp.LpContinuous, lowBound=0, name='x')\n",
        "\n",
        "# Set the objective function\n",
        "mdl.setObjective(1100*x[1] + 750*x[2])\n",
        "\n",
        "# Add Constraints\n",
        "mdl.addConstraint(2*x[1] + 2*x[2] >= 16, name='c1')\n",
        "mdl.addConstraint(3*x[1] +   x[2] >= 12, name='c2')\n",
        "\n",
        "\n",
        "mdl.addConstraint(x[1] >= 0, name='c4')\n",
        "mdl.addConstraint(x[2] >= 0, name='c5')\n",
        "\n",
        "\n",
        "# Optimize\n",
        "mdl.solve()\n",
        "\n",
        "x_sol = {i: x[i].value() for i in x_keys}\n",
        "print(f\"Flow = {x_sol}\")\n",
        "print(f'Solução: {x_sol[1]*1100 + x_sol[2]*750}')"
      ],
      "metadata": {
        "colab": {
          "base_uri": "https://localhost:8080/"
        },
        "id": "eHAlh7tLATy8",
        "outputId": "c739087f-1dde-4fc8-fe08-c1c77f50f98b"
      },
      "execution_count": null,
      "outputs": [
        {
          "output_type": "stream",
          "name": "stdout",
          "text": [
            "Flow = {1: 2.0, 2: 6.0}\n",
            "Solução: 6700.0\n"
          ]
        }
      ]
    },
    {
      "cell_type": "markdown",
      "source": [
        "## Lista 2 - *9.1*"
      ],
      "metadata": {
        "id": "GgLWgk89Awz4"
      }
    },
    {
      "cell_type": "code",
      "source": [
        "import pulp\n",
        "\n",
        "x_keys = [1, 2]\n",
        "\n",
        "# Define the model\n",
        "mdl = pulp.LpProblem('Maximize Revenue', sense=pulp.LpMaximize)\n",
        "\n",
        "# Add variables\n",
        "x = pulp.LpVariable.dicts(indices=x_keys, cat=pulp.LpContinuous, lowBound=0, name='x')\n",
        "\n",
        "# Set the objective function\n",
        "mdl.setObjective(1900*x[1] + 2100*x[2])\n",
        "\n",
        "# Add Constraints\n",
        "mdl.addConstraint(4*x[1] + 2*x[2] <= 20, name='c1')\n",
        "mdl.addConstraint(2*x[1] + 3*x[2] <= 10, name='c2')\n",
        "mdl.addConstraint(  x[1] + 2*x[2] <= 5, name='c3')\n",
        "\n",
        "\n",
        "mdl.addConstraint(x[1] >= 0, name='c4')\n",
        "mdl.addConstraint(x[2] >= 0, name='c5')\n",
        "\n",
        "\n",
        "# Optimize\n",
        "mdl.solve()\n",
        "\n",
        "x_sol = {i: x[i].value() for i in x_keys}\n",
        "print(f\"Flow = {x_sol}\")\n",
        "print(f'Solução: {x_sol[1]*1900 + x_sol[2]*2100}')"
      ],
      "metadata": {
        "colab": {
          "base_uri": "https://localhost:8080/"
        },
        "id": "WEYoEjzQAi83",
        "outputId": "37b3704d-6634-484c-c24b-18623ab3fbfd"
      },
      "execution_count": null,
      "outputs": [
        {
          "output_type": "stream",
          "name": "stdout",
          "text": [
            "Flow = {1: 5.0, 2: 0.0}\n",
            "Solução: 9500.0\n"
          ]
        }
      ]
    },
    {
      "cell_type": "markdown",
      "source": [
        "## Lista 2 - *9.2*"
      ],
      "metadata": {
        "id": "wTjO7jxIBWBq"
      }
    },
    {
      "cell_type": "code",
      "source": [
        "import pulp\n",
        "\n",
        "x_keys = [1, 2]\n",
        "\n",
        "# Define the model\n",
        "mdl = pulp.LpProblem('Maximize Revenue', sense=pulp.LpMaximize)\n",
        "\n",
        "# Add variables\n",
        "x = pulp.LpVariable.dicts(indices=x_keys, cat=pulp.LpContinuous, lowBound=0, name='x')\n",
        "\n",
        "# Set the objective function\n",
        "mdl.setObjective(1000*x[1] + 1300*x[2])\n",
        "\n",
        "# Add Constraints\n",
        "mdl.addConstraint(4*x[1] + 2*x[2] <= 20, name='c1')\n",
        "mdl.addConstraint(2*x[1] + 3*x[2] <= 10, name='c2')\n",
        "mdl.addConstraint(  x[1] + 2*x[2] <= 5, name='c3')\n",
        "\n",
        "\n",
        "mdl.addConstraint(x[1] >= 0, name='c4')\n",
        "mdl.addConstraint(x[2] >= 0, name='c5')\n",
        "\n",
        "\n",
        "# Optimize\n",
        "mdl.solve()\n",
        "\n",
        "x_sol = {i: x[i].value() for i in x_keys}\n",
        "print(f\"Flow = {x_sol}\")\n",
        "print(f'Solução: {x_sol[1]*1000 + x_sol[2]*1300}')"
      ],
      "metadata": {
        "colab": {
          "base_uri": "https://localhost:8080/"
        },
        "id": "XFZrIR-fBQIi",
        "outputId": "63c440c0-2476-443b-b641-0fb4508c8267"
      },
      "execution_count": null,
      "outputs": [
        {
          "output_type": "stream",
          "name": "stdout",
          "text": [
            "Flow = {1: 5.0, 2: 0.0}\n",
            "Solução: 5000.0\n"
          ]
        }
      ]
    },
    {
      "cell_type": "markdown",
      "source": [
        "## Lista 2 - *10*"
      ],
      "metadata": {
        "id": "e16buOeHBgFE"
      }
    },
    {
      "cell_type": "code",
      "source": [
        "import pulp\n",
        "\n",
        "x_keys = [1, 2]\n",
        "\n",
        "# Define the model\n",
        "mdl = pulp.LpProblem('Maximize Profit', sense=pulp.LpMaximize)\n",
        "\n",
        "# Add variables\n",
        "x = pulp.LpVariable.dicts(indices=x_keys, cat=pulp.LpContinuous, lowBound=0, name='x')\n",
        "\n",
        "# Set the objective function\n",
        "mdl.setObjective(7*x[1] + 5*x[2])\n",
        "\n",
        "# Add Constraints\n",
        "mdl.addConstraint(6*x[1] + 5*x[2] <= 3000000, name='c1')\n",
        "mdl.addConstraint(5*x[1] + 7*x[2] <= 3500000, name='c2')\n",
        "\n",
        "\n",
        "mdl.addConstraint(x[1] >= 0, name='c4')\n",
        "mdl.addConstraint(x[2] >= 0, name='c5')\n",
        "mdl.addConstraint(x[1] <= 400000, name='c6')\n",
        "mdl.addConstraint(x[2] <= 450000, name='c7')\n",
        "\n",
        "# Optimize\n",
        "mdl.solve()\n",
        "\n",
        "x_sol = {i: x[i].value() for i in x_keys}\n",
        "print(f\"Flow = {x_sol}\")\n",
        "print(f'Solução: {x_sol[1]*7 + x_sol[2]*5}')"
      ],
      "metadata": {
        "colab": {
          "base_uri": "https://localhost:8080/"
        },
        "id": "4E1qMNVkBcTG",
        "outputId": "9ed303a2-1260-4106-d3a6-2404fd50fd90"
      },
      "execution_count": null,
      "outputs": [
        {
          "output_type": "stream",
          "name": "stdout",
          "text": [
            "Flow = {1: 400000.0, 2: 120000.0}\n",
            "Solução: 3400000.0\n"
          ]
        }
      ]
    },
    {
      "cell_type": "markdown",
      "source": [
        "## Freshly"
      ],
      "metadata": {
        "id": "b_HEDJjSE0nk"
      }
    },
    {
      "cell_type": "code",
      "source": [
        "import pulp\n",
        "\n",
        "x_keys = [1, 2]\n",
        "\n",
        "# Define the model\n",
        "mdl = pulp.LpProblem('Maximize Profit', sense=pulp.LpMaximize)\n",
        "\n",
        "# Add variables\n",
        "x = pulp.LpVariable.dicts(indices=x_keys, cat=pulp.LpContinuous, lowBound=0, name='x')\n",
        "\n",
        "# Set the objective function\n",
        "mdl.setObjective(0.3825*x[1] + 0.4056*x[2])\n",
        "\n",
        "# Add Constraints\n",
        "mdl.addConstraint(9*  x[1] + 5*   x[2] <= 1800, name='c1')\n",
        "mdl.addConstraint(0.9*x[1] + 1.04*x[2] <= 100, name='c2')\n",
        "\n",
        "\n",
        "mdl.addConstraint(x[1] >= 0, name='c4')\n",
        "mdl.addConstraint(x[2] >= 0, name='c5')\n",
        "mdl.addConstraint(x[2] >= 28.85, name='c7')\n",
        "\n",
        "# Optimize\n",
        "mdl.solve()\n",
        "\n",
        "x_sol = {i: x[i].value() for i in x_keys}\n",
        "print(f\"Flow = {x_sol}\")\n",
        "print(f'Solução: {x_sol[1]*0.3825 + x_sol[2]*0.4056}')"
      ],
      "metadata": {
        "id": "ZCvqvxRrB_kp",
        "colab": {
          "base_uri": "https://localhost:8080/"
        },
        "outputId": "33719160-535f-4ffd-d2d5-ce263aa4e3c2"
      },
      "execution_count": null,
      "outputs": [
        {
          "output_type": "stream",
          "name": "stdout",
          "text": [
            "Flow = {1: 77.773333, 2: 28.85}\n",
            "Solução: 41.4498598725\n"
          ]
        }
      ]
    },
    {
      "cell_type": "markdown",
      "source": [
        "## PinkPig"
      ],
      "metadata": {
        "id": "LGM_y2pYF-xe"
      }
    },
    {
      "cell_type": "code",
      "source": [
        "import pulp\n",
        "\n",
        "x_keys = [1, 2]\n",
        "\n",
        "# Define the model\n",
        "mdl = pulp.LpProblem('Minimize Costs', sense=pulp.LpMinimize)\n",
        "\n",
        "# Add variables\n",
        "x = pulp.LpVariable.dicts(indices=x_keys, cat=pulp.LpContinuous, lowBound=0, name='x')\n",
        "\n",
        "# Set the objective function\n",
        "mdl.setObjective(1.5*x[1] + 2.23*x[2])\n",
        "\n",
        "# Add Constraints\n",
        "mdl.addConstraint(0.77*x[1] + 0.66*x[2] <= 7.5, name='c1')\n",
        "mdl.addConstraint(0.77*x[1] + 0.66*x[2] >= 6, name='c2')\n",
        "\n",
        "mdl.addConstraint(0.08*x[1] + 0.14*x[2] <= 1.6, name='c3')\n",
        "mdl.addConstraint(0.08*x[1] + 0.14*x[2] >= 0.9, name='c4')\n",
        "\n",
        "mdl.addConstraint(x[1] >= 0, name='c5')\n",
        "mdl.addConstraint(x[2] >= 0, name='c6')\n",
        "\n",
        "# Optimize\n",
        "mdl.solve()\n",
        "\n",
        "x_sol = {i: x[i].value() for i in x_keys}\n",
        "print(f\"Flow = {x_sol}\")\n",
        "print(f'Solução: {x_sol[1]*1.5 + x_sol[2]*2.23}')"
      ],
      "metadata": {
        "colab": {
          "base_uri": "https://localhost:8080/"
        },
        "id": "yTyCMLYPF4fK",
        "outputId": "ba8ca3ec-95d8-4ce6-abfa-6e301eabe865"
      },
      "execution_count": null,
      "outputs": [
        {
          "output_type": "stream",
          "name": "stdout",
          "text": [
            "Flow = {1: 4.4727273, 2: 3.8727273}\n",
            "Solução: 15.345272829\n"
          ]
        }
      ]
    },
    {
      "cell_type": "markdown",
      "source": [
        "## Avengers Problem"
      ],
      "metadata": {
        "id": "71-e1KlXIrQj"
      }
    },
    {
      "cell_type": "code",
      "source": [
        "import pulp\n",
        "\n",
        "costs = {'Strange': 24,\n",
        "         'Iron Man': 21,\n",
        "         'Thor': 30,\n",
        "         'Captain America': 13,\n",
        "         'Black Widow': 8,\n",
        "         'Spider-Man': 18,\n",
        "         'Star-Lord': 6\n",
        "        }\n",
        "\n",
        "x_keys = costs.keys()\n",
        "\n",
        "# Define the model\n",
        "mdl = pulp.LpProblem('Maximize Profit', sense=pulp.LpMaximize)\n",
        "\n",
        "# Add variables\n",
        "x = pulp.LpVariable.dicts(indices=x_keys, cat=pulp.LpInteger, lowBound=0, name='x')\n",
        "\n",
        "# Add Constraints\n",
        "mdl.addConstraint(x['Iron Man'] + x['Captain America'] + x['Black Widow'] + x['Star-Lord'] >= x['Strange'] + x['Iron Man'], name='c1')\n",
        "\n",
        "mdl.addConstraint(x['Strange'] * 33 <= 250, name='c2')\n",
        "mdl.addConstraint(x['Iron Man'] * 21 <= 200, name='c3')\n",
        "mdl.addConstraint(x['Thor'] * 35 <= 300, name='c4')\n",
        "mdl.addConstraint(x['Captain America'] * 13 <= 130, name='c5')\n",
        "mdl.addConstraint(x['Black Widow'] * 11 <= 90, name='c6')\n",
        "mdl.addConstraint(x['Spider-Man'] * 18 <= 120, name='c7')\n",
        "mdl.addConstraint(x['Star-Lord'] * 7 <= 50, name='c8')\n",
        "\n",
        "mdl.addConstraint(x['Strange'] * 22 <= 120, name='c9')\n",
        "mdl.addConstraint(x['Iron Man'] * 20 <= 120, name='c10')\n",
        "mdl.addConstraint(x['Thor'] * 25 <= 120, name='c11')\n",
        "mdl.addConstraint(x['Captain America'] * 10 <= 120, name='c12')\n",
        "mdl.addConstraint(x['Black Widow'] * 19 <= 120, name='c13')\n",
        "mdl.addConstraint(x['Spider-Man'] * 24 <= 120, name='c14')\n",
        "mdl.addConstraint(x['Star-Lord'] * 14 <= 120, name='c15')\n",
        "\n",
        "mdl.addConstraint(x['Spider-Man'] >= 5, name='c16')\n",
        "mdl.addConstraint(x['Thor'] <= 6, name='c17')\n",
        "\n",
        "\n",
        "# Set the objective function\n",
        "mdl.setObjective(pulp.lpSum(costs[i] * x[i] for i in x_keys))\n",
        "\n",
        "# Optimize\n",
        "mdl.solve()\n",
        "\n",
        "x_sol = {i: x[i].value() for i in x_keys}\n",
        "print(f\"Flow = {x_sol}\")\n",
        "print(f'Solução: {pulp.lpSum(costs[i] * x_sol[i] for i in x_keys)}')"
      ],
      "metadata": {
        "id": "YkcWZHqxHBOe",
        "colab": {
          "base_uri": "https://localhost:8080/"
        },
        "outputId": "19bc3b3d-21ae-4b65-931f-59d7c5ffebb7"
      },
      "execution_count": null,
      "outputs": [
        {
          "output_type": "stream",
          "name": "stdout",
          "text": [
            "Flow = {'Strange': 5.0, 'Iron Man': 6.0, 'Thor': 4.0, 'Captain America': 10.0, 'Black Widow': 6.0, 'Spider-Man': 5.0, 'Star-Lord': 7.0}\n",
            "Solução: 676.0\n"
          ]
        }
      ]
    },
    {
      "cell_type": "markdown",
      "source": [
        "## Pastesian"
      ],
      "metadata": {
        "id": "cmPJ4MGOrZuw"
      }
    },
    {
      "cell_type": "code",
      "source": [
        "import pulp\n",
        "\n",
        "pcosts = {1: 5.50,\n",
        "          2: 7.20,\n",
        "          3: 8.80,\n",
        "          4: 10.90,\n",
        "          }\n",
        "\n",
        "scosts = {0: 0,\n",
        "          1: 1.30,\n",
        "          2: 1.95,\n",
        "          3: 2.20,\n",
        "          4: 0,\n",
        "          }\n",
        "\n",
        "demand = {1: 200,\n",
        "          2: 350,\n",
        "          3: 150,\n",
        "          4: 250,\n",
        "          }\n",
        "\n",
        "p_keys = pcosts.keys()\n",
        "s_keys = scosts.keys()\n",
        "\n",
        "# Define the model\n",
        "mdl = pulp.LpProblem('Minimize Costs', sense=pulp.LpMinimize)\n",
        "\n",
        "# Add variables\n",
        "p = pulp.LpVariable.dicts(indices=p_keys, cat=pulp.LpInteger, lowBound=0, name='p')\n",
        "s = pulp.LpVariable.dicts(indices=s_keys, cat=pulp.LpInteger, lowBound=0, name='s')\n",
        "\n",
        "s[0].setInitialValue(50)\n",
        "s[0].fixValue()\n",
        "\n",
        "s[4].setInitialValue(0)\n",
        "s[4].fixValue()\n",
        "\n",
        "# Add Constraints\n",
        "for i in p_keys:\n",
        "  mdl.addConstraint(s[i-1] + p[i] == demand[i] + s[i], name=f'c{i}')\n",
        "\n",
        "# Set the objective function\n",
        "mdl.setObjective(pulp.lpSum(pcosts[i] * p[i] for i in p_keys)+pulp.lpSum(scosts[i] * s[i] for i in s_keys))\n",
        "\n",
        "mdl.solve()\n",
        "\n",
        "# Optimize\n",
        "\n",
        "p_sol = {i: p[i].value() for i in p_keys}\n",
        "s_sol = {i: s[i].value() for i in s_keys}\n",
        "\n",
        "print(f\"Production Flow = {p_sol}\\nStorage Flow = {s_sol}\")\n",
        "#print(f'Solução: {pulp.lpSum(costs[i] * x_sol[i] for i in x_keys)}')"
      ],
      "metadata": {
        "colab": {
          "base_uri": "https://localhost:8080/"
        },
        "id": "eUfPeE0NyOPr",
        "outputId": "0f6b13b7-e88b-476f-b1bc-5fcb8ffea7cd"
      },
      "execution_count": 58,
      "outputs": [
        {
          "output_type": "stream",
          "name": "stdout",
          "text": [
            "Production Flow = {1: 650.0, 2: 0.0, 3: 0.0, 4: 250.0}\n",
            "Storage Flow = {0: 50.0, 1: 500.0, 2: 150.0, 3: 0.0, 4: 0.0}\n"
          ]
        }
      ]
    },
    {
      "cell_type": "code",
      "source": [],
      "metadata": {
        "id": "ojhr6UmJ4QZ6"
      },
      "execution_count": null,
      "outputs": []
    }
  ]
}