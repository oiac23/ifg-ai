{
 "cells": [
  {
   "cell_type": "markdown",
   "metadata": {},
   "source": [
    "# Pastesian Formulation\n",
    "The statement of the use case is on Mip Wise's website: \n",
    "[mipwise.com/use-cases/pastesian](https://www.mipwise.com/use-cases/pastesian)."
   ]
  },
  {
   "cell_type": "markdown",
   "metadata": {},
   "source": [
    "### Imports"
   ]
  },
  {
   "cell_type": "code",
   "execution_count": 11,
   "metadata": {},
   "outputs": [],
   "source": [
    "import pulp\n",
    "\n",
    "import warnings\n",
    "warnings.filterwarnings(\"ignore\")"
   ]
  },
  {
   "cell_type": "markdown",
   "metadata": {},
   "source": [
    "## Formulation"
   ]
  },
  {
   "cell_type": "markdown",
   "metadata": {},
   "source": [
    "### Decision Variables\n",
    "The image below illustrates the flow of lasagnas through\n",
    "time.\n",
    "\n",
    "![Pastesian Flow](https://raw.githubusercontent.com/mipwise/use-cases/d7bcb1223aa74a4c30db440ebfda976912577bb8/pastesian/docs/pastesian_flow.png)\n"
   ]
  },
  {
   "cell_type": "code",
   "execution_count": 12,
   "metadata": {},
   "outputs": [],
   "source": [
    "def name_constraint(model: pulp.LpProblem):\n",
    "    for i in range(1, len(model.constraints.keys())+2):\n",
    "        name = f'c{i}'\n",
    "        if name not in model.constraints.keys():\n",
    "            return name\n",
    "        "
   ]
  },
  {
   "cell_type": "code",
   "execution_count": 13,
   "metadata": {},
   "outputs": [],
   "source": [
    "pcosts = {1: 5.50,\n",
    "          2: 7.20,\n",
    "          3: 8.80,\n",
    "          4: 10.90,\n",
    "          }\n",
    "\n",
    "scosts = {0: 0,\n",
    "          1: 1.30,\n",
    "          2: 1.95,\n",
    "          3: 2.20,\n",
    "          4: 0,\n",
    "          }\n",
    "\n",
    "demand = {1: 200,\n",
    "          2: 350,\n",
    "          3: 150,\n",
    "          4: 250,\n",
    "          }"
   ]
  },
  {
   "cell_type": "markdown",
   "metadata": {},
   "source": [
    "\n",
    "In particular, this chart suggests that the decision variables we need to define are the amounts to be produced\n",
    "in each month, and the amounts of inventory to carry over from one month to the next:\n",
    "- $x_1$\t- Number of lasagnas to be produced in month 1.\n",
    "- $x_2$\t- Number of lasagnas to be produced in month 2.\n",
    "- $x_3$\t- Number of lasagnas to be produced in month 3.\n",
    "- $x_4$\t- Number of lasagnas to be produced in month 4.\n",
    "- $s_0$\t- Initially stored 50 lasagnas.\n",
    "- $s_1$\t- Number of lasagnas stored from month 1 to month 2.\n",
    "- $s_2$\t- Number of lasagnas stored from month 2 to month 3.\n",
    "- $s_3$\t- Number of lasagnas stored from month 3 to month 4.\n",
    "- $s_4$\t- There will be no stored lasagnas after month 4."
   ]
  },
  {
   "cell_type": "code",
   "execution_count": 14,
   "metadata": {},
   "outputs": [],
   "source": [
    "p_keys = pcosts.keys()\n",
    "s_keys = scosts.keys()\n",
    "\n",
    "# Define the model\n",
    "mdl = pulp.LpProblem('Minimize Costs', sense=pulp.LpMinimize)\n",
    "\n",
    "# Add variables\n",
    "p = pulp.LpVariable.dicts(indices=p_keys, cat=pulp.LpInteger, lowBound=0, name='p')\n",
    "s = pulp.LpVariable.dicts(indices=s_keys, cat=pulp.LpInteger, lowBound=0, name='s')\n",
    "\n",
    "s[0].setInitialValue(50)\n",
    "s[0].fixValue()\n",
    "\n",
    "s[4].setInitialValue(0)\n",
    "s[4].fixValue()"
   ]
  },
  {
   "cell_type": "markdown",
   "metadata": {},
   "source": [
    "### Constraints\n",
    "* Flow balance constraint for month 1:\n",
    "$$50 + x_1 = 200 + s_1.$$\n",
    "\n",
    "* Flow balance constraint for month 2:\n",
    "$$s_1 + x_2 = 350 + s_2.$$\n",
    "\n",
    "* Flow balance constraint for month 3:\n",
    "$$s_2 + x_3 = 150 + s_3.$$\n",
    "\n",
    "* Flow balance constraint for month 4:\n",
    "$$s_3 + x_4 = 250.$$"
   ]
  },
  {
   "cell_type": "code",
   "execution_count": 15,
   "metadata": {},
   "outputs": [],
   "source": [
    "# Add Constraints\n",
    "for i in p_keys:\n",
    "  mdl.addConstraint(s[i-1] + p[i] == demand[i] + s[i], name=name_constraint(mdl))"
   ]
  },
  {
   "cell_type": "markdown",
   "metadata": {},
   "source": [
    "### Objective\n",
    "The objective is to minimize the total production and inventory cost.\n",
    "$$\\min{5.50 x_1 + 7.20 x_2 + 8.80 x_3 + 10.90 x_4 + 1.30 s_1 + 1.95 s_2 + 2.20 s_3}.$$"
   ]
  },
  {
   "cell_type": "code",
   "execution_count": 16,
   "metadata": {},
   "outputs": [],
   "source": [
    "# Set the objective function\n",
    "mdl.setObjective(pulp.lpSum(pcosts[i] * p[i] for i in p_keys)+pulp.lpSum(scosts[i] * s[i] for i in s_keys))"
   ]
  },
  {
   "cell_type": "markdown",
   "metadata": {},
   "source": [
    "### Final formulation\n",
    "$$\n",
    "\\begin{darray}{rcl}\n",
    "\\begin{array}{rcl}\n",
    "& \\min & 5.50 x_1 + 7.20 x_2 + 8.80 x_3 + 10.90 x_4 + 1.30 s_1 + 1.95 s_2 + 2.20 s_3\\\\\n",
    "& \\text{s.t.}& 50 + x_1 = 200 + s_1,\\\\\n",
    "&& s_1 + x_2 = 350 + s_2,\\\\\n",
    "&& s_2 + x_3 = 150 + s_3,\\\\\n",
    "&& s_3 + x_4 = 250,\\\\\n",
    "&& x_1, x_2, x_3, x_4, s_1, s_2, s_3 \\geq 0.\n",
    "\\end{array}\n",
    "\\end{darray}\n",
    "$$"
   ]
  },
  {
   "cell_type": "code",
   "execution_count": 17,
   "metadata": {},
   "outputs": [
    {
     "name": "stdout",
     "output_type": "stream",
     "text": [
      "Production Flow = {1: 650.0, 2: 0.0, 3: 0.0, 4: 250.0}\n",
      "Storage Flow = {0: 50.0, 1: 500.0, 2: 150.0, 3: 0.0, 4: 0.0}\n"
     ]
    }
   ],
   "source": [
    "mdl.solve()\n",
    "\n",
    "# Optimize\n",
    "\n",
    "p_sol = {i: p[i].value() for i in p_keys}\n",
    "s_sol = {i: s[i].value() for i in s_keys}\n",
    "\n",
    "print(f\"Production Flow = {p_sol}\\nStorage Flow = {s_sol}\")\n",
    "#print(f'Solução: {pulp.lpSum(costs[i] * x_sol[i] for i in x_keys)}')"
   ]
  },
  {
   "cell_type": "markdown",
   "metadata": {},
   "source": [
    "## Additional complexities\n",
    "\n",
    "### New decision variables\n",
    "- $y_t$\t- Number of lasagnas to be produced beyond the regular capacity in month t."
   ]
  },
  {
   "cell_type": "code",
   "execution_count": 18,
   "metadata": {},
   "outputs": [],
   "source": [
    "y_keys = demand.keys()\n",
    "\n",
    "y = pulp.LpVariable.dicts(indices=y_keys, cat=pulp.LpInteger, lowBound=0, name='y')"
   ]
  },
  {
   "cell_type": "markdown",
   "metadata": {},
   "source": [
    "### New constraints\n",
    "* Storage capacity:\n",
    "$$\n",
    "s_t \\leq 200, \\quad t=1, 2, 3, 4.\n",
    "$$\n",
    "* Procution capacity:\n",
    "$$\n",
    "x_t \\leq 400, \\quad t=1, 2, 3, 4.\n",
    "$$\n",
    "* Number of lasagnas produced beyond the regular capacity in month $t=1, 2, 3, 4$:\n",
    "$$\n",
    "x_t - 300 \\leq y_t.\n",
    "$$\n"
   ]
  },
  {
   "cell_type": "code",
   "execution_count": 19,
   "metadata": {},
   "outputs": [],
   "source": [
    "for i in s_keys:\n",
    "    mdl.addConstraint(s[i] <= 200, name=name_constraint(mdl))"
   ]
  },
  {
   "cell_type": "code",
   "execution_count": 22,
   "metadata": {},
   "outputs": [],
   "source": [
    "for i in p_keys:\n",
    "    mdl.addConstraint(p[i] <= 400, name=name_constraint(mdl))"
   ]
  },
  {
   "cell_type": "code",
   "execution_count": 25,
   "metadata": {},
   "outputs": [],
   "source": [
    "for i in y_keys:\n",
    "    mdl.addConstraint(p[i] - y[i] <= 300, name=name_constraint(mdl))"
   ]
  },
  {
   "cell_type": "code",
   "execution_count": 26,
   "metadata": {},
   "outputs": [
    {
     "data": {
      "text/plain": [
       "Minimize_Costs:\n",
       "MINIMIZE\n",
       "5.5*p_1 + 7.2*p_2 + 8.8*p_3 + 10.9*p_4 + 1.3*s_1 + 1.95*s_2 + 2.2*s_3 + 0.0\n",
       "SUBJECT TO\n",
       "c1: p_1 + s_0 - s_1 = 200\n",
       "\n",
       "c2: p_2 + s_1 - s_2 = 350\n",
       "\n",
       "c3: p_3 + s_2 - s_3 = 150\n",
       "\n",
       "c4: p_4 + s_3 - s_4 = 250\n",
       "\n",
       "c5: s_0 <= 200\n",
       "\n",
       "c6: s_1 <= 200\n",
       "\n",
       "c7: s_2 <= 200\n",
       "\n",
       "c8: s_3 <= 200\n",
       "\n",
       "c9: s_4 <= 200\n",
       "\n",
       "c10: p_1 <= 400\n",
       "\n",
       "c11: p_2 <= 400\n",
       "\n",
       "c12: p_3 <= 400\n",
       "\n",
       "c13: p_4 <= 400\n",
       "\n",
       "c14: p_1 - y_1 <= 300\n",
       "\n",
       "c15: p_2 - y_2 <= 300\n",
       "\n",
       "c16: p_3 - y_3 <= 300\n",
       "\n",
       "c17: p_4 - y_4 <= 300\n",
       "\n",
       "VARIABLES\n",
       "0 <= p_1 Integer\n",
       "0 <= p_2 Integer\n",
       "0 <= p_3 Integer\n",
       "0 <= p_4 Integer\n",
       "s_0 = 50 Integer\n",
       "0 <= s_1 Integer\n",
       "0 <= s_2 Integer\n",
       "0 <= s_3 Integer\n",
       "s_4 = 0 Integer\n",
       "0 <= y_1 Integer\n",
       "0 <= y_2 Integer\n",
       "0 <= y_3 Integer\n",
       "0 <= y_4 Integer"
      ]
     },
     "execution_count": 26,
     "metadata": {},
     "output_type": "execute_result"
    }
   ],
   "source": [
    "mdl"
   ]
  },
  {
   "cell_type": "markdown",
   "metadata": {},
   "source": [
    "\n",
    "\n",
    "### Upadated objective function\n",
    "$$\\min{5.50 x_1 + 7.20 x_2 + 8.80 x_3 + 10.90 x_4 + 1.30 s_1 + 1.95 s_2 + 2.20 s_3 + 0.35(y_1 + y_2, + y_3 + y_4)}.$$"
   ]
  },
  {
   "cell_type": "code",
   "execution_count": 28,
   "metadata": {},
   "outputs": [],
   "source": [
    "ycost = 0.35\n",
    "\n",
    "# Set the objective function\n",
    "mdl.setObjective(pulp.lpSum(pcosts[i] * p[i] for i in p_keys)\n",
    "               + pulp.lpSum(scosts[i] * s[i] for i in s_keys)\n",
    "               + pulp.lpSum(ycost * y[i] for i in y_keys))"
   ]
  },
  {
   "cell_type": "code",
   "execution_count": 30,
   "metadata": {},
   "outputs": [
    {
     "name": "stdout",
     "output_type": "stream",
     "text": [
      "Production Flow = {1: 350.0, 2: 150.0, 3: 150.0, 4: 250.0}\n",
      "Storage Flow = {0: 50.0, 1: 200.0, 2: 0.0, 3: 0.0, 4: 0.0}\n"
     ]
    }
   ],
   "source": [
    "mdl.solve()\n",
    "\n",
    "# Optimize\n",
    "\n",
    "p_sol = {i: p[i].value() for i in p_keys}\n",
    "s_sol = {i: s[i].value() for i in s_keys}\n",
    "\n",
    "print(f\"Production Flow = {p_sol}\\nStorage Flow = {s_sol}\")\n",
    "#print(f'Solução: {pulp.lpSum(costs[i] * x_sol[i] for i in x_keys)}')"
   ]
  }
 ],
 "metadata": {
  "kernelspec": {
   "display_name": "Python 3 (ipykernel)",
   "language": "python",
   "name": "python3"
  },
  "language_info": {
   "codemirror_mode": {
    "name": "ipython",
    "version": 3
   },
   "file_extension": ".py",
   "mimetype": "text/x-python",
   "name": "python",
   "nbconvert_exporter": "python",
   "pygments_lexer": "ipython3",
   "version": "3.10.14"
  }
 },
 "nbformat": 4,
 "nbformat_minor": 2
}
