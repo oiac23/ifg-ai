{
 "cells": [
  {
   "cell_type": "code",
   "execution_count": 1,
   "metadata": {},
   "outputs": [],
   "source": [
    "#IMPORTANDO AS BIBLIOTECAS\n",
    "from geopy.geocoders import Nominatim\n",
    "from geopy.extra.rate_limiter import RateLimiter\n",
    "\n",
    "import pandas as pd"
   ]
  },
  {
   "cell_type": "code",
   "execution_count": 2,
   "metadata": {},
   "outputs": [],
   "source": [
    "#CRIANDO O GEOLOCALIZADOR\n",
    "geolocator = Nominatim(user_agent='minha_aplicacao')\n",
    "\n",
    "#LIMITADOR DE TEMPO PARA NAO ULTRAPASSAR O LIMITE DE SOLICITACOES\n",
    "geocode = RateLimiter(geolocator.geocode, min_delay_seconds=1)"
   ]
  },
  {
   "cell_type": "code",
   "execution_count": 3,
   "metadata": {},
   "outputs": [
    {
     "data": {
      "text/html": [
       "<div>\n",
       "<style scoped>\n",
       "    .dataframe tbody tr th:only-of-type {\n",
       "        vertical-align: middle;\n",
       "    }\n",
       "\n",
       "    .dataframe tbody tr th {\n",
       "        vertical-align: top;\n",
       "    }\n",
       "\n",
       "    .dataframe thead th {\n",
       "        text-align: right;\n",
       "    }\n",
       "</style>\n",
       "<table border=\"1\" class=\"dataframe\">\n",
       "  <thead>\n",
       "    <tr style=\"text-align: right;\">\n",
       "      <th></th>\n",
       "      <th>Logradouro/Nome:</th>\n",
       "      <th>Bairro/Distrito:</th>\n",
       "      <th>Localidade/UF:</th>\n",
       "      <th>CEP:</th>\n",
       "    </tr>\n",
       "  </thead>\n",
       "  <tbody>\n",
       "    <tr>\n",
       "      <th>0</th>\n",
       "      <td>Avenida Mutirão</td>\n",
       "      <td>Setor Bueno</td>\n",
       "      <td>Goiânia/GO</td>\n",
       "      <td>74215-240</td>\n",
       "    </tr>\n",
       "    <tr>\n",
       "      <th>1</th>\n",
       "      <td>Avenida T 10</td>\n",
       "      <td>Setor Bueno</td>\n",
       "      <td>Goiânia/GO</td>\n",
       "      <td>74223-060</td>\n",
       "    </tr>\n",
       "    <tr>\n",
       "      <th>2</th>\n",
       "      <td>Avenida T 11</td>\n",
       "      <td>Setor Bueno</td>\n",
       "      <td>Goiânia/GO</td>\n",
       "      <td>74223-070</td>\n",
       "    </tr>\n",
       "    <tr>\n",
       "      <th>3</th>\n",
       "      <td>Avenida T 12</td>\n",
       "      <td>Setor Bueno</td>\n",
       "      <td>Goiânia/GO</td>\n",
       "      <td>74223-080</td>\n",
       "    </tr>\n",
       "    <tr>\n",
       "      <th>4</th>\n",
       "      <td>Avenida T 15</td>\n",
       "      <td>Setor Bueno</td>\n",
       "      <td>Goiânia/GO</td>\n",
       "      <td>74230-010</td>\n",
       "    </tr>\n",
       "  </tbody>\n",
       "</table>\n",
       "</div>"
      ],
      "text/plain": [
       "   Logradouro/Nome:  Bairro/Distrito:  Localidade/UF:        CEP:\n",
       "0  Avenida Mutirão       Setor Bueno      Goiânia/GO    74215-240\n",
       "1     Avenida T 10       Setor Bueno      Goiânia/GO    74223-060\n",
       "2     Avenida T 11       Setor Bueno      Goiânia/GO    74223-070\n",
       "3     Avenida T 12       Setor Bueno      Goiânia/GO    74223-080\n",
       "4     Avenida T 15       Setor Bueno      Goiânia/GO    74230-010"
      ]
     },
     "execution_count": 3,
     "metadata": {},
     "output_type": "execute_result"
    }
   ],
   "source": [
    "#IMPORTANDO OS ENDERECOS\n",
    "enderecos = pd.read_csv('repo/enderecos.csv')\n",
    "\n",
    "#EXPLORANDO OS DADOS\n",
    "enderecos.head()"
   ]
  },
  {
   "cell_type": "code",
   "execution_count": 4,
   "metadata": {},
   "outputs": [],
   "source": [
    "#COPIANDO O DATAFRAME PARA A VARIAVEL QUE VAMOS MODIFICAR\n",
    "df = enderecos.copy()"
   ]
  },
  {
   "cell_type": "code",
   "execution_count": 6,
   "metadata": {},
   "outputs": [],
   "source": [
    "#ORGANIZANDO OS DADOS EM UMA UNICA COLUNA\n",
    "df['Endereco:'] = df['Logradouro/Nome: '] + ', ' + df['Bairro/Distrito: '] + ', ' + df['Localidade/UF: ']"
   ]
  },
  {
   "cell_type": "code",
   "execution_count": 7,
   "metadata": {},
   "outputs": [],
   "source": [
    "#GEOCODIFICANDO\n",
    "df['Localizacao'] = df['Endereco:'].apply(geocode)\n",
    "\n",
    "#EXTRAINDO AS COORDENADAS\n",
    "df['Coordenadas'] = df['Localizacao'].apply(lambda loc: tuple(loc.point) if loc else None)"
   ]
  },
  {
   "cell_type": "code",
   "execution_count": 8,
   "metadata": {},
   "outputs": [],
   "source": [
    "#ORGANIZANDO O FORMATO DA COLUNA DAS COORDENADAS\n",
    "df['Coordenadas'] = df['Coordenadas'].apply(lambda x: tuple([n for n in x if n != 0]))"
   ]
  },
  {
   "cell_type": "code",
   "execution_count": 9,
   "metadata": {},
   "outputs": [],
   "source": [
    "#ORGANIZANDO A SERIE PARA EXPORTAR\n",
    "df_out = df['Coordenadas']"
   ]
  },
  {
   "cell_type": "code",
   "execution_count": 10,
   "metadata": {},
   "outputs": [],
   "source": [
    "#EXPORTANDO AS COORDENADAS\n",
    "df_out.to_csv('repo/enderecos_proc.csv', index=False)"
   ]
  },
  {
   "cell_type": "code",
   "execution_count": null,
   "metadata": {},
   "outputs": [],
   "source": []
  }
 ],
 "metadata": {
  "kernelspec": {
   "display_name": "base",
   "language": "python",
   "name": "python3"
  },
  "language_info": {
   "codemirror_mode": {
    "name": "ipython",
    "version": 3
   },
   "file_extension": ".py",
   "mimetype": "text/x-python",
   "name": "python",
   "nbconvert_exporter": "python",
   "pygments_lexer": "ipython3",
   "version": "3.9.17"
  }
 },
 "nbformat": 4,
 "nbformat_minor": 2
}
