{
 "cells": [
  {
   "cell_type": "code",
   "execution_count": null,
   "metadata": {},
   "outputs": [],
   "source": [
    "#ferramentas para o problema\n",
    "import pandas as pd\n",
    "import numpy as np\n",
    "import random\n",
    "import ast\n",
    "\n",
    "#ferramentas para o mapa interativo\n",
    "import folium\n",
    "from folium.plugins import AntPath"
   ]
  },
  {
   "cell_type": "code",
   "execution_count": null,
   "metadata": {},
   "outputs": [],
   "source": [
    "def haversine(c1, c2):\n",
    "\n",
    "    # Converte graus decimais para radians:\n",
    "    lat1 = np.radians(c1[0])\n",
    "    lon1 = np.radians(c1[1])\n",
    "    lat2 = np.radians(c2[0])\n",
    "    lon2 = np.radians(c2[1])\n",
    "    \n",
    "    # Implementando a formula haversine:\n",
    "    dlon = np.subtract(lon2, lon1)\n",
    "    dlat = np.subtract(lat2, lat1)\n",
    "\n",
    "    a = np.add(np.power(np.sin(np.divide(dlat, 2)), 2),\n",
    "               np.multiply(np.cos(lat1),\n",
    "                           np.multiply(np.cos(lat2),\n",
    "                                       np.power(np.sin(np.divide(dlon, 2)), 2))))\n",
    "\n",
    "    c = np.multiply(2, np.arcsin(np.sqrt(a)))\n",
    "    r = 6371\n",
    "\n",
    "    return c*r"
   ]
  },
  {
   "cell_type": "code",
   "execution_count": null,
   "metadata": {},
   "outputs": [],
   "source": [
    "def cost(permutation, cities):\n",
    "    distance = 0\n",
    "    for i, c1 in enumerate(permutation):\n",
    "        if i == len(permutation) - 1:\n",
    "            c2 = permutation[0]\n",
    "        else:\n",
    "            c2 = permutation[i + 1]\n",
    "        distance += haversine(cities[c1], cities[c2])\n",
    "    return distance"
   ]
  },
  {
   "cell_type": "code",
   "execution_count": null,
   "metadata": {},
   "outputs": [],
   "source": [
    "def random_permutation(cities):\n",
    "    perm = list(range(len(cities)))\n",
    "    for i in range(len(perm)):\n",
    "        r = random.randint(i, len(perm)-1)\n",
    "        perm[r], perm[i] = perm[i], perm[r]\n",
    "    return perm"
   ]
  },
  {
   "cell_type": "code",
   "execution_count": null,
   "metadata": {},
   "outputs": [],
   "source": [
    "def initialise_pheromone_matrix(num_cities, naive_score):\n",
    "    v = float(num_cities) / naive_score\n",
    "    return [[v] * num_cities for _ in range(num_cities)]"
   ]
  },
  {
   "cell_type": "code",
   "execution_count": null,
   "metadata": {},
   "outputs": [],
   "source": [
    "def calculate_choices(cities, last_city, exclude, pheromone, c_heur, c_hist):\n",
    "    choices = []\n",
    "    for i, coord in enumerate(cities):\n",
    "        if i in exclude:\n",
    "            continue\n",
    "        prob = {'city': i}\n",
    "        prob['history'] = pheromone[last_city][i] ** c_hist\n",
    "        prob['distance'] = haversine(cities[last_city], coord)\n",
    "        prob['heuristic'] = (1.0/prob['distance']) ** c_heur\n",
    "        prob['prob'] = prob['history'] * prob['heuristic']\n",
    "        choices.append(prob)\n",
    "    return choices"
   ]
  },
  {
   "cell_type": "code",
   "execution_count": null,
   "metadata": {},
   "outputs": [],
   "source": [
    "def select_next_city(choices):\n",
    "    total_prob = sum(choice['prob'] for choice in choices)\n",
    "    if total_prob == 0.0:\n",
    "        return choices[random.randint(0, len(choices)-1)]['city']\n",
    "    v = random.random()\n",
    "    for choice in choices:\n",
    "        v -= choice['prob'] / total_prob\n",
    "        if v <= 0.0:\n",
    "            return choice['city']\n",
    "    return choices[-1]['city']"
   ]
  },
  {
   "cell_type": "code",
   "execution_count": null,
   "metadata": {},
   "outputs": [],
   "source": [
    "def stepwise_const(cities, phero, c_heur, c_hist):\n",
    "    perm = []\n",
    "    perm.append(random.randint(0, len(cities) - 1))\n",
    "    while len(perm) < len(cities):\n",
    "        choices = calculate_choices(cities, perm[-1], perm, phero, c_heur, c_hist)\n",
    "        next_city = select_next_city(choices)\n",
    "        perm.append(next_city)\n",
    "    return perm"
   ]
  },
  {
   "cell_type": "code",
   "execution_count": null,
   "metadata": {},
   "outputs": [],
   "source": [
    "def decay_pheromone(pheromone, decay_factor):\n",
    "    for array in pheromone:\n",
    "        for i in range(len(array)):\n",
    "            array[i] = (1.0 - decay_factor) * array[i]\n"
   ]
  },
  {
   "cell_type": "code",
   "execution_count": null,
   "metadata": {},
   "outputs": [],
   "source": [
    "def update_pheromone(pheromone, solutions):\n",
    "    for other in solutions:\n",
    "        for i, x in enumerate(other['vector']):\n",
    "            if i == len(other['vector']) - 1:\n",
    "                y = other['vector'][0]\n",
    "            else:\n",
    "                y = other['vector'][i+1]\n",
    "            pheromone[x][y] += (1.0 / other['cost'])\n",
    "            pheromone[y][x] += (1.0 / other['cost'])"
   ]
  },
  {
   "cell_type": "code",
   "execution_count": null,
   "metadata": {},
   "outputs": [],
   "source": [
    "def status_update(list, cities, iter):\n",
    "    print(\" > Iteração {}, Melhor={}\".format(iter, list['cost']))\n",
    "    y = [cities[i][0] for i in list['vector']]\n",
    "    x = [cities[i][1] for i in list['vector']]"
   ]
  },
  {
   "cell_type": "code",
   "execution_count": null,
   "metadata": {},
   "outputs": [],
   "source": [
    "def search(cities, max_it, num_ants, decay_factor, c_heur, c_hist):\n",
    "    best = {'vector': random_permutation(cities)}\n",
    "    best['cost'] = cost(best['vector'], cities)\n",
    "    pheromone = initialise_pheromone_matrix(len(cities), best['cost'])\n",
    "    for iter in range(max_it):\n",
    "        solutions = []\n",
    "        for _ in range(num_ants):\n",
    "            candidate = {}\n",
    "            candidate['vector'] = stepwise_const(cities, pheromone, c_heur, c_hist)\n",
    "            candidate['cost'] = cost(candidate['vector'], cities)\n",
    "            if candidate['cost'] < best['cost']:\n",
    "                best = candidate\n",
    "            solutions.append(candidate)\n",
    "        decay_pheromone(pheromone, decay_factor)\n",
    "        update_pheromone(pheromone, solutions)\n",
    "        status_update(best, cities, iter+1)\n",
    "    return best"
   ]
  },
  {
   "cell_type": "code",
   "execution_count": null,
   "metadata": {},
   "outputs": [],
   "source": [
    "def mapa(list, cities):\n",
    "    best_path = [cities[i] for i in list]\n",
    "    mapObj = folium.Map(\n",
    "            location=cities[0],\n",
    "            zoom_start=13\n",
    "    )\n",
    "    for i, city in enumerate(cities):\n",
    "        folium.Marker(city, popup=i).add_to(mapObj)\n",
    "    AntPath(best_path).add_to(mapObj)\n",
    "    mapObj.save('output/mapa.html')"
   ]
  },
  {
   "cell_type": "code",
   "execution_count": null,
   "metadata": {},
   "outputs": [],
   "source": [
    "enderecos = pd.read_csv('REPO/enderecos_proc.csv')\n",
    "enderecos['Coordenadas'] = enderecos['Coordenadas'].apply(ast.literal_eval)\n",
    "df = enderecos.sample(30)\n",
    "coordenadas = list(df['Coordenadas'])"
   ]
  },
  {
   "cell_type": "markdown",
   "metadata": {},
   "source": [
    "### EXECUTANDO O PROBLEMA"
   ]
  },
  {
   "cell_type": "code",
   "execution_count": null,
   "metadata": {},
   "outputs": [],
   "source": [
    "if __name__ == \"__main__\":\n",
    "    # configuracao do problema\n",
    "\n",
    "    max_it = 100 # numero de iteracoes\n",
    "    num_ants = 30 # numero de formigas\n",
    "    decay_factor = 0.9 # fator de decrescimento\n",
    "    c_heur = 4 # coeficiente da heuristica\n",
    "    c_hist = 1.0 # coeficiente do historico\n",
    "    \n",
    "    # executando o algoritmo\n",
    "    best = search(coordenadas, max_it, num_ants, decay_factor, c_heur, c_hist)\n",
    "    print(f\"Completo. Melhor solução: c={best['cost']}, v={best['vector']}\")"
   ]
  },
  {
   "cell_type": "code",
   "execution_count": null,
   "metadata": {},
   "outputs": [],
   "source": [
    "vector = best['vector']\n",
    "vector.append(best['vector'][0])\n"
   ]
  },
  {
   "cell_type": "code",
   "execution_count": null,
   "metadata": {},
   "outputs": [],
   "source": [
    "output = pd.DataFrame(vector)"
   ]
  },
  {
   "cell_type": "code",
   "execution_count": null,
   "metadata": {},
   "outputs": [],
   "source": [
    "mapa(vector, coordenadas)\n",
    "output.to_csv('output/caminho.csv', index=False, header=False)"
   ]
  }
 ],
 "metadata": {
  "kernelspec": {
   "display_name": "base",
   "language": "python",
   "name": "python3"
  },
  "language_info": {
   "codemirror_mode": {
    "name": "ipython",
    "version": 3
   },
   "file_extension": ".py",
   "mimetype": "text/x-python",
   "name": "python",
   "nbconvert_exporter": "python",
   "pygments_lexer": "ipython3",
   "version": "3.9.17"
  },
  "orig_nbformat": 4
 },
 "nbformat": 4,
 "nbformat_minor": 2
}
