{
  "cells": [
    {
      "cell_type": "markdown",
      "metadata": {
        "id": "Xm9Z4QaogxL-"
      },
      "source": [
        "\n",
        "\n",
        "```\n",
        "# Código Exemplo: Autoencoders\n",
        "# Adaptado de https://blog.keras.io/building-autoencoders-in-keras.html\n",
        "```\n",
        "\n"
      ]
    },
    {
      "cell_type": "markdown",
      "metadata": {
        "id": "hTN92_T3mP35"
      },
      "source": [
        "Autoencoder: Versão mais simples possível!"
      ]
    },
    {
      "cell_type": "code",
      "execution_count": 1,
      "metadata": {
        "id": "4htgT8iqgvYV"
      },
      "outputs": [],
      "source": [
        "import keras\n",
        "from keras import layers\n"
      ]
    },
    {
      "cell_type": "code",
      "execution_count": 2,
      "metadata": {},
      "outputs": [],
      "source": [
        "# from keras import regularizers\n",
        "\n",
        "# This is the size of our encoded representations\n",
        "encoding_dim = 32  # 32 floats -> compression of factor 24.5, assuming the input is 784 floats\n"
      ]
    },
    {
      "cell_type": "code",
      "execution_count": null,
      "metadata": {},
      "outputs": [],
      "source": [
        "\n",
        "# This is our input image\n",
        "input_img = keras.Input(shape=(784,))\n",
        "\n",
        "# 'encoded' is the encoded representation of the input.\n",
        "# Para uma representação menos sucetível a overfitting e ruído, adicione regularização l1\n",
        "# A regularização l1 confere mais esparsidade (seleção interna de atributos) com o parâmetro:  activity_regularizer=regularizers.l1(10e-5)\n",
        "encoded = layers.Dense(encoding_dim, activation='relu')(input_img)\n",
        "\n",
        "# 'decoded' is the lossy reconstruction of the input\n",
        "decoded = layers.Dense(784, activation='sigmoid')(encoded)\n",
        "\n",
        "# This model maps an input to its reconstruction\n",
        "autoencoder = keras.Model(input_img, decoded)"
      ]
    },
    {
      "cell_type": "code",
      "execution_count": 13,
      "metadata": {
        "id": "R5X-R0lDg0P9"
      },
      "outputs": [],
      "source": [
        "# This model maps an input to its encoded representation\n",
        "encoder = keras.Model(input_img, encoded)"
      ]
    },
    {
      "cell_type": "code",
      "execution_count": 14,
      "metadata": {
        "id": "fhIDUJMVg3OJ"
      },
      "outputs": [],
      "source": [
        "# This is our encoded (32-dimensional) input\n",
        "encoded_input = keras.Input(shape=(encoding_dim,))\n",
        "# Retrieve the last layer of the autoencoder model\n",
        "decoder_layer = autoencoder.layers[-1]\n",
        "# Create the decoder model\n",
        "decoder = keras.Model(encoded_input, decoder_layer(encoded_input))"
      ]
    },
    {
      "cell_type": "code",
      "execution_count": 15,
      "metadata": {
        "id": "IdEx2iRjg3_l"
      },
      "outputs": [],
      "source": [
        "autoencoder.compile(optimizer='adam', loss='binary_crossentropy')"
      ]
    },
    {
      "cell_type": "code",
      "execution_count": 17,
      "metadata": {},
      "outputs": [
        {
          "name": "stdout",
          "output_type": "stream",
          "text": [
            "Model: \"model_1\"\n",
            "_________________________________________________________________\n",
            " Layer (type)                Output Shape              Param #   \n",
            "=================================================================\n",
            " input_7 (InputLayer)        [(None, 784)]             0         \n",
            "                                                                 \n",
            " dense_8 (Dense)             (None, 32)                25120     \n",
            "                                                                 \n",
            " dense_9 (Dense)             (None, 784)               25872     \n",
            "                                                                 \n",
            "=================================================================\n",
            "Total params: 50,992\n",
            "Trainable params: 50,992\n",
            "Non-trainable params: 0\n",
            "_________________________________________________________________\n"
          ]
        }
      ],
      "source": [
        "autoencoder.summary()"
      ]
    },
    {
      "cell_type": "code",
      "execution_count": 32,
      "metadata": {},
      "outputs": [],
      "source": [
        "import keras\n",
        "from keras.models import Sequential\n",
        "\n",
        "def autoencoder_create(parameters: dict):\n",
        "    \n",
        "    model = Sequential()\n",
        "    model.add(keras.Input(shape=(784,)))\n",
        "\n",
        "    for i in range(parameters['intermediate']):\n",
        "        model.add(layers.Dense(units=parameters['dim'][-1-i],\n",
        "                               activation=parameters['activation']\n",
        "                               ))\n",
        "\n",
        "    model.add(layers.Dense(units=parameters['dim'][0],\n",
        "                           activation=parameters['activation']\n",
        "                           ))\n",
        "\n",
        "    for i in range(parameters['intermediate']):\n",
        "        model.add(layers.Dense(units=parameters['dim'][i-parameters['intermediate']],\n",
        "                               activation=parameters['activation']\n",
        "                               ))\n",
        "\n",
        "    model.add(layers.Dense(units=784, activation=parameters['out_activation']))\n",
        "    \n",
        "    return model"
      ]
    },
    {
      "cell_type": "code",
      "execution_count": 17,
      "metadata": {},
      "outputs": [],
      "source": [
        "from keras.optimizers import Adam\n",
        "from keras.callbacks import EarlyStopping\n",
        "\n",
        "def train_mlp(model: keras.Model,\n",
        "              train_params: dict,\n",
        "              train_dataset: tuple,\n",
        "              val_dataset: tuple,\n",
        "              ):\n",
        "    \n",
        "    optimizer = Adam(learning_rate=train_params['learning_rate'],\n",
        "                     #weight_decay=train_params['weight_decay'],\n",
        "                     decay=train_params['decay'],\n",
        "                     )\n",
        "    \n",
        "    model.compile(optimizer=optimizer,\n",
        "                  loss='binary_crossentropy',\n",
        "                  #loss='MeanSquaredError',\n",
        "                  metrics=['RootMeanSquaredError'],\n",
        "                  )\n",
        "\n",
        "    early = EarlyStopping(monitor='val_loss',\n",
        "                          mode='min',\n",
        "                          patience=train_params['early_stop_patience'],\n",
        "                          restore_best_weights=True,\n",
        "                          )\n",
        "    \n",
        "    callback_list = [early]\n",
        "\n",
        "    hist = model.fit(x=train_dataset[0],\n",
        "                     y=train_dataset[1],\n",
        "                     epochs=train_params['num_epochs'],\n",
        "                     validation_data=val_dataset,\n",
        "                     callbacks=callback_list,\n",
        "                     )\n",
        "    \n",
        "    return model, hist"
      ]
    },
    {
      "cell_type": "code",
      "execution_count": 2,
      "metadata": {
        "id": "GRMcLCrAg5yl"
      },
      "outputs": [],
      "source": [
        "from keras.datasets import mnist\n",
        "import numpy as np\n",
        "(x_train, _), (x_test, _) = mnist.load_data()"
      ]
    },
    {
      "cell_type": "code",
      "execution_count": 7,
      "metadata": {
        "colab": {
          "base_uri": "https://localhost:8080/"
        },
        "id": "Jdyy8OQShROe",
        "outputId": "3555aa5f-57a5-44ec-a94c-af2388327a79"
      },
      "outputs": [
        {
          "name": "stdout",
          "output_type": "stream",
          "text": [
            "(60000, 784)\n",
            "(10000, 784)\n"
          ]
        }
      ],
      "source": [
        "x_train = x_train.astype('float32') / 255.\n",
        "#x_train = x_train.astype('float32')\n",
        "x_test = x_test.astype('float32') / 255.\n",
        "#x_test = x_test.astype('float32')\n",
        "x_train = x_train.reshape((len(x_train), np.prod(x_train.shape[1:])))\n",
        "x_test = x_test.reshape((len(x_test), np.prod(x_test.shape[1:])))\n",
        "print(x_train.shape)\n",
        "print(x_test.shape)"
      ]
    },
    {
      "cell_type": "code",
      "execution_count": 28,
      "metadata": {},
      "outputs": [],
      "source": [
        "autoencoder = autoencoder_create([784/32, 784/8], 1)\n",
        "autoencoder.compile(optimizer='adam',\n",
        "                  loss='binary_crossentropy',\n",
        "                  #loss='MeanSquaredError'(name='mse'),\n",
        "                  metrics=['RootMeanSquaredError']\n",
        "                  )"
      ]
    },
    {
      "cell_type": "code",
      "execution_count": 29,
      "metadata": {},
      "outputs": [
        {
          "name": "stdout",
          "output_type": "stream",
          "text": [
            "Model: \"sequential_5\"\n",
            "_________________________________________________________________\n",
            " Layer (type)                Output Shape              Param #   \n",
            "=================================================================\n",
            " dense_20 (Dense)            (None, 98)                76930     \n",
            "                                                                 \n",
            " dense_21 (Dense)            (None, 24)                2376      \n",
            "                                                                 \n",
            " dense_22 (Dense)            (None, 98)                2450      \n",
            "                                                                 \n",
            " dense_23 (Dense)            (None, 784)               77616     \n",
            "                                                                 \n",
            "=================================================================\n",
            "Total params: 159,372\n",
            "Trainable params: 159,372\n",
            "Non-trainable params: 0\n",
            "_________________________________________________________________\n",
            "None\n"
          ]
        }
      ],
      "source": [
        "print(autoencoder.summary())"
      ]
    },
    {
      "cell_type": "code",
      "execution_count": null,
      "metadata": {
        "colab": {
          "base_uri": "https://localhost:8080/"
        },
        "id": "GWtCXPnahUqW",
        "outputId": "624aba60-3513-4cb7-c04d-5da1be83c378"
      },
      "outputs": [],
      "source": [
        "history = autoencoder.fit(x=x_train,\n",
        "                          y=x_train,\n",
        "                          epochs=10,\n",
        "                          batch_size=256,\n",
        "                          shuffle=True,\n",
        "                          validation_data=(x_test, x_test))"
      ]
    },
    {
      "cell_type": "code",
      "execution_count": 9,
      "metadata": {},
      "outputs": [
        {
          "data": {
            "image/png": "[encoded data removed]",
            "text/plain": [
              "<Figure size 800x500 with 1 Axes>"
            ]
          },
          "metadata": {},
          "output_type": "display_data"
        }
      ],
      "source": [
        "import pandas as pd\n",
        "import matplotlib.pyplot as plt\n",
        "\n",
        "pd.DataFrame(history.history).plot(figsize=(8,5))\n",
        "plt.grid(True)\n",
        "plt.gca().set_ylim(0,0.2)\n",
        "plt.show()"
      ]
    },
    {
      "cell_type": "code",
      "execution_count": 10,
      "metadata": {
        "colab": {
          "base_uri": "https://localhost:8080/"
        },
        "id": "OCKlLRxXiiYg",
        "outputId": "ddf2007a-3844-4a1c-82c6-c46ee60271d8"
      },
      "outputs": [
        {
          "name": "stdout",
          "output_type": "stream",
          "text": [
            "313/313 [==============================] - 1s 2ms/step\n"
          ]
        }
      ],
      "source": [
        "# Encode and decode some digits\n",
        "# Note that we take them from the *test* set\n",
        "encoded_imgs = autoencoder.predict(x_test)\n",
        "#decoded_imgs = decoder.predict(encoded_imgs)"
      ]
    },
    {
      "cell_type": "code",
      "execution_count": 11,
      "metadata": {
        "colab": {
          "base_uri": "https://localhost:8080/",
          "height": 244
        },
        "id": "FM-6Tv1xiqyD",
        "outputId": "73bf7e65-740f-4bef-8db2-15d66af75764"
      },
      "outputs": [
        {
          "data": {
            "image/png": "[encoded data removed]",
            "text/plain": [
              "<Figure size 2000x400 with 20 Axes>"
            ]
          },
          "metadata": {},
          "output_type": "display_data"
        }
      ],
      "source": [
        "# Use Matplotlib (don't ask)\n",
        "import matplotlib.pyplot as plt\n",
        "\n",
        "n = 10  # How many digits we will display\n",
        "plt.figure(figsize=(20, 4))\n",
        "for i in range(n):\n",
        "    # Display original\n",
        "    ax = plt.subplot(2, n, i + 1)\n",
        "    plt.imshow(x_test[i].reshape(28, 28))\n",
        "    plt.gray()\n",
        "    ax.get_xaxis().set_visible(False)\n",
        "    ax.get_yaxis().set_visible(False)\n",
        "\n",
        "    # Display reconstruction\n",
        "    ax = plt.subplot(2, n, i + 1 + n)\n",
        "    plt.imshow(encoded_imgs[i].reshape(28, 28))\n",
        "    plt.gray()\n",
        "    ax.get_xaxis().set_visible(False)\n",
        "    ax.get_yaxis().set_visible(False)\n",
        "plt.show()"
      ]
    },
    {
      "cell_type": "code",
      "execution_count": null,
      "metadata": {},
      "outputs": [],
      "source": []
    }
  ],
  "metadata": {
    "colab": {
      "provenance": []
    },
    "kernelspec": {
      "display_name": "Python 3",
      "name": "python3"
    },
    "language_info": {
      "codemirror_mode": {
        "name": "ipython",
        "version": 3
      },
      "file_extension": ".py",
      "mimetype": "text/x-python",
      "name": "python",
      "nbconvert_exporter": "python",
      "pygments_lexer": "ipython3",
      "version": "3.10.14"
    }
  },
  "nbformat": 4,
  "nbformat_minor": 0
}
