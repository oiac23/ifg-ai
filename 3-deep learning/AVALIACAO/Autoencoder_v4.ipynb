{
  "cells": [
    {
      "cell_type": "markdown",
      "metadata": {
        "id": "Xm9Z4QaogxL-"
      },
      "source": [
        "\n",
        "\n",
        "```\n",
        "# Código Exemplo: Autoencoders\n",
        "# Adaptado de https://blog.keras.io/building-autoencoders-in-keras.html\n",
        "# mlflow server --backend-store-uri=sqlite:///mlflow.db\n",
        "```\n",
        "\n"
      ]
    },
    {
      "cell_type": "markdown",
      "metadata": {
        "id": "hTN92_T3mP35"
      },
      "source": [
        "Autoencoder: Versão mais simples possível!"
      ]
    },
    {
      "cell_type": "markdown",
      "metadata": {},
      "source": [
        "## Imports"
      ]
    },
    {
      "cell_type": "code",
      "execution_count": 1,
      "metadata": {
        "id": "4htgT8iqgvYV"
      },
      "outputs": [],
      "source": [
        "import keras\n",
        "\n",
        "from keras import layers\n",
        "from keras.models import Sequential\n",
        "from keras.optimizers import Adam\n",
        "from keras.callbacks import EarlyStopping\n",
        "\n",
        "from hyperopt import fmin, hp, tpe, Trials, space_eval, STATUS_OK\n",
        "from hyperopt.pyll import scope as ho_scope\n",
        "from hyperopt.pyll.stochastic import sample as ho_sample\n",
        "\n",
        "import mlflow\n",
        "\n",
        "import pandas as pd\n",
        "import numpy as np"
      ]
    },
    {
      "cell_type": "markdown",
      "metadata": {},
      "source": [
        "---\n",
        "### Dataset"
      ]
    },
    {
      "cell_type": "code",
      "execution_count": 2,
      "metadata": {},
      "outputs": [],
      "source": [
        "df = pd.read_csv('models\\milk_0_val\\milk_updated.csv', index_col=['AnEar', 'Date'])"
      ]
    },
    {
      "cell_type": "code",
      "execution_count": 3,
      "metadata": {},
      "outputs": [],
      "source": [
        "def serialization(dataframe: pd.DataFrame):\n",
        "    series = []\n",
        "    for vaca in dataframe.index.levels[0]:\n",
        "        series.append(dataframe.loc[vaca])\n",
        "    return np.array(series).squeeze()"
      ]
    },
    {
      "cell_type": "code",
      "execution_count": 4,
      "metadata": {},
      "outputs": [],
      "source": [
        "series = serialization(df)"
      ]
    },
    {
      "cell_type": "code",
      "execution_count": 5,
      "metadata": {},
      "outputs": [],
      "source": [
        "import sklearn\n",
        "import sklearn.model_selection\n",
        "\n",
        "train, test = sklearn.model_selection.train_test_split(series,\n",
        "                                                       train_size=0.8,\n",
        "                                                       random_state=10,\n",
        "                                                       shuffle=True,\n",
        "                                                       )\n",
        "from sklearn.preprocessing import StandardScaler, MinMaxScaler\n",
        "\n",
        "scaler = MinMaxScaler()\n",
        "scaler.fit(train)\n",
        "\n",
        "train = scaler.transform(train)\n",
        "test = scaler.transform(test)"
      ]
    },
    {
      "cell_type": "code",
      "execution_count": 6,
      "metadata": {
        "id": "GRMcLCrAg5yl"
      },
      "outputs": [],
      "source": [
        "from keras.datasets import mnist\n",
        "import numpy as np\n",
        "(x_train, _), (x_test, _) = mnist.load_data()"
      ]
    },
    {
      "cell_type": "code",
      "execution_count": 7,
      "metadata": {
        "colab": {
          "base_uri": "https://localhost:8080/"
        },
        "id": "Jdyy8OQShROe",
        "outputId": "3555aa5f-57a5-44ec-a94c-af2388327a79"
      },
      "outputs": [
        {
          "name": "stdout",
          "output_type": "stream",
          "text": [
            "(60000, 784)\n",
            "(10000, 784)\n"
          ]
        }
      ],
      "source": [
        "x_train = x_train.astype('float32') / 255.\n",
        "#x_train = x_train.astype('float32')\n",
        "x_test = x_test.astype('float32') / 255.\n",
        "#x_test = x_test.astype('float32')\n",
        "x_train = x_train.reshape((len(x_train), np.prod(x_train.shape[1:])))\n",
        "x_test = x_test.reshape((len(x_test), np.prod(x_test.shape[1:])))\n",
        "print(x_train.shape)\n",
        "print(x_test.shape)"
      ]
    },
    {
      "cell_type": "markdown",
      "metadata": {},
      "source": [
        "---\n",
        "### Criação do Modelo"
      ]
    },
    {
      "cell_type": "markdown",
      "metadata": {},
      "source": [
        "#### Undercomplete Autoencoder"
      ]
    },
    {
      "cell_type": "code",
      "execution_count": 8,
      "metadata": {},
      "outputs": [],
      "source": [
        "import keras.layers\n",
        "\n",
        "def undercomplete_create(parameters: dict, size: int):\n",
        "    dim = list(parameters['dim'])\n",
        "    for i in range(parameters['intermediate']):\n",
        "        if (dim[i] > dim[i-1]) & (i>0):\n",
        "            dim[i] = dim[i-1]\n",
        "        if dim[i] < parameters['encoder_out']:\n",
        "            dim[i]=parameters['encoder_out']\n",
        "\n",
        "\n",
        "    model = Sequential()\n",
        "    model.add(keras.Input(shape=(size,)))\n",
        "\n",
        "    for i in range(parameters['intermediate']):\n",
        "        model.add(layers.Dense(units=dim[i],\n",
        "                               activation=parameters['activation']\n",
        "                               ))\n",
        "        if parameters['dropout'] in [1, 2]:\n",
        "            model.add(keras.layers.Dropout(parameters['dropout_rate'], seed=10))\n",
        "    \n",
        "    \n",
        "    ################# ENCODER OUTPUT #################\n",
        "    model.add(layers.Dense(units=parameters['encoder_out'],\n",
        "                           activation=parameters['activation']\n",
        "                           ))\n",
        "    ##################################################\n",
        "\n",
        "    for i in range(parameters['intermediate']):\n",
        "        model.add(layers.Dense(units=dim[parameters['intermediate']-i-1],\n",
        "                               activation=parameters['activation']\n",
        "                               ))\n",
        "        if parameters['dropout'] in [2]:\n",
        "            model.add(keras.layers.Dropout(parameters['dropout_rate'], seed=10))\n",
        "\n",
        "    model.add(layers.Dense(units=size, activation=parameters['out_activation']))\n",
        "    \n",
        "    return model"
      ]
    },
    {
      "cell_type": "markdown",
      "metadata": {},
      "source": [
        "---\n",
        "#### Sparse Autoencoder"
      ]
    },
    {
      "cell_type": "code",
      "execution_count": 9,
      "metadata": {},
      "outputs": [],
      "source": [
        "import keras.layers\n",
        "import keras.regularizers\n",
        "\n",
        "\n",
        "def sparse_create(parameters: dict, size: int):\n",
        "    dim = list(parameters['dim'])\n",
        "    for i in range(parameters['intermediate']):\n",
        "        if (dim[i] > dim[i-1]) & (i>0):\n",
        "            dim[i] = dim[i-1]\n",
        "        if dim[i] < parameters['encoder_out']:\n",
        "            dim[i]=parameters['encoder_out']\n",
        "    \n",
        "    model = Sequential()\n",
        "    model.add(keras.Input(shape=(size,)))\n",
        "\n",
        "    for i in range(parameters['intermediate']):\n",
        "        model.add(layers.Dense(units=dim[i],\n",
        "                               activation=parameters['activation'],\n",
        "                               #activity_regularizer=keras.regularizers.L1(0.01),\n",
        "                               ))\n",
        "        \n",
        "    ################# ENCODER OUTPUT #################\n",
        "    model.add(layers.Dense(units=parameters['encoder_out'],\n",
        "                           activation=parameters['activation'],\n",
        "                           activity_regularizer=keras.regularizers.L1(0.0001),\n",
        "                           ))\n",
        "    ##################################################\n",
        "\n",
        "    for i in range(parameters['intermediate']):\n",
        "        model.add(layers.Dense(units=dim[parameters['intermediate']-1-i],\n",
        "                               activation=parameters['activation'],\n",
        "                               #activity_regularizer=keras.regularizers.L1(0.01),\n",
        "                               ))\n",
        "\n",
        "    model.add(layers.Dense(units=size, activation=parameters['out_activation']))\n",
        "    \n",
        "    return model"
      ]
    },
    {
      "cell_type": "code",
      "execution_count": 10,
      "metadata": {},
      "outputs": [],
      "source": [
        "def autoencoder_create(parameters: dict, size: int):\n",
        "    if parameters['type'] == 'undercomplete':\n",
        "        model = undercomplete_create(parameters, size)\n",
        "    elif parameters['type'] == 'sparse':\n",
        "        model = sparse_create(parameters, size)\n",
        "\n",
        "    return model"
      ]
    },
    {
      "cell_type": "code",
      "execution_count": 11,
      "metadata": {},
      "outputs": [],
      "source": [
        "import keras.optimizers\n",
        "\n",
        "def create_optimizer(parameters):\n",
        "    if parameters['optimizer']=='adam':\n",
        "        optimizer = keras.optimizers.Adam(learning_rate=parameters['learning_rate'])\n",
        "    elif parameters['optimizer']=='sgd':\n",
        "        optimizer = keras.optimizers.SGD(learning_rate=parameters['learning_rate'])\n",
        "    elif parameters['optimizer']=='rmsprop':\n",
        "        optimizer = keras.optimizers.RMSprop(learning_rate=parameters['learning_rate'])  \n",
        "    else:\n",
        "        optimizer = keras.optimizers.Adam()      \n",
        "    return optimizer"
      ]
    },
    {
      "cell_type": "markdown",
      "metadata": {},
      "source": [
        "---\n",
        "#### Train Autoencoder"
      ]
    },
    {
      "cell_type": "code",
      "execution_count": 12,
      "metadata": {},
      "outputs": [],
      "source": [
        "def train_autoencoder(model: keras.Model,\n",
        "                      train_params: dict,\n",
        "                      train_dataset,\n",
        "                      val_dataset,\n",
        "                      ):\n",
        "    \n",
        "    optimizer = create_optimizer(parameters=train_params)\n",
        "\n",
        "    model.compile(optimizer=optimizer,\n",
        "                  loss='MeanSquaredError',\n",
        "                  metrics=['mae'],\n",
        "                  )\n",
        "\n",
        "    early = EarlyStopping(monitor='val_loss',\n",
        "                          mode='min',\n",
        "                          patience=train_params['early_stop_patience'],\n",
        "                          restore_best_weights=True,\n",
        "                          )\n",
        "    \n",
        "    callback_list = [early]\n",
        "\n",
        "    hist = model.fit(x=train_dataset,\n",
        "                     y=train_dataset,\n",
        "                     batch_size=train_params['batch_size'],\n",
        "                     epochs=train_params['epochs'],\n",
        "                     verbose=0,\n",
        "                     validation_data=(val_dataset, val_dataset),\n",
        "                     callbacks=callback_list,\n",
        "                     )\n",
        "    \n",
        "    return model, hist"
      ]
    },
    {
      "cell_type": "code",
      "execution_count": 13,
      "metadata": {},
      "outputs": [],
      "source": [
        "import mlflow.keras\n",
        "\n",
        "\n",
        "def run_autoencoder(parameters):\n",
        "    mlflow.sklearn.autolog(disable=True)\n",
        "    size = 305\n",
        "\n",
        "    with mlflow.start_run(run_name='autoencoder'):\n",
        "        mlflow.set_tag(\"model_name\", \"AE\")\n",
        "\n",
        "        mlflow.log_params(parameters['create'])\n",
        "        mlflow.log_params(parameters['train'])\n",
        "\n",
        "\n",
        "        model = autoencoder_create(parameters=parameters['create'],\n",
        "                                   size=size,\n",
        "                                   )\n",
        "        \n",
        "        model, _ = train_autoencoder(model=model,\n",
        "                                     train_params=parameters['train'],\n",
        "                                     train_dataset=parameters['train_dataset'],\n",
        "                                     val_dataset=parameters['val_dataset'],\n",
        "                                     )\n",
        "\n",
        "        score, acc = model.evaluate(parameters['val_dataset'],\n",
        "                                    parameters['val_dataset'],\n",
        "                                    verbose=0)\n",
        "\n",
        "        mlflow.log_metrics({'score': score, 'error': acc})\n",
        "\n",
        "        mlflow.keras.log_model(model, \"ae_models\")\n",
        "\n",
        "        print(f'\\nTest accuracy: {acc}\\n')\n",
        "        \n",
        "    return {'loss': score, 'status': STATUS_OK, 'model': model}"
      ]
    },
    {
      "cell_type": "markdown",
      "metadata": {},
      "source": [
        "---\n",
        "### Hyperparameters optimization"
      ]
    },
    {
      "cell_type": "code",
      "execution_count": 14,
      "metadata": {},
      "outputs": [],
      "source": [
        "hp_space = {\n",
        "    'create': {'encoder_out': 50,\n",
        "                'dim': [ho_scope.int(hp.quniform('1',\n",
        "                                                 low=0,\n",
        "                                                 high=305,\n",
        "                                                 q=1),\n",
        "                                                 ),\n",
        "                        ho_scope.int(hp.quniform('2',\n",
        "                                                 low=0,\n",
        "                                                 high=305,\n",
        "                                                 q=1),\n",
        "                                                 ),\n",
        "                        ho_scope.int(hp.quniform('3',\n",
        "                                                 low=0,\n",
        "                                                 high=305,\n",
        "                                                 q=1),\n",
        "                                                 ),\n",
        "                        ho_scope.int(hp.quniform('4',\n",
        "                                                 low=0,\n",
        "                                                 high=305,\n",
        "                                                 q=1),\n",
        "                                                 ),\n",
        "                        ho_scope.int(hp.quniform('5',\n",
        "                                                 low=0,\n",
        "                                                 high=305,\n",
        "                                                 q=1),\n",
        "                                                 ),],\n",
        "               'intermediate': ho_scope.int(hp.quniform('intermediate',\n",
        "                                                        low=0,\n",
        "                                                        high=5,\n",
        "                                                        q=1),\n",
        "                                                        ),\n",
        "               'activation': hp.choice('activation',\n",
        "                                        ['relu',\n",
        "                                         #'softmax',\n",
        "                                         'sigmoid',\n",
        "                                         ]),\n",
        "\n",
        "               'out_activation': hp.choice('out_activation',\n",
        "                                            ['relu',\n",
        "                                             #'softmax',\n",
        "                                             'sigmoid',\n",
        "                                             ]),\n",
        "\n",
        "               'dropout' : hp.choice('dropout', [0, 1, 2]),\n",
        "               'dropout_rate' : hp.quniform('dropout_rate',\n",
        "                                            low=0.05,\n",
        "                                            high=0.4,\n",
        "                                            q=0.05),\n",
        "\n",
        "               'type' : hp.choice('type',\n",
        "                                   ['sparse',\n",
        "                                    'undercomplete',\n",
        "                                    ]),\n",
        "               },\n",
        "\n",
        "    'train': {'epochs': ho_scope.int(hp.quniform('epochs',\n",
        "                                                 low=50,\n",
        "                                                 high=300,\n",
        "                                                 q=10\n",
        "                                                 )),\n",
        "                'optimizer': hp.choice('optimizer',\n",
        "                                       ['adam',\n",
        "                                        'sgd',\n",
        "                                        'rmsprop'\n",
        "                                        ]),\n",
        "\n",
        "              'learning_rate': hp.quniform('learning_rate',\n",
        "                                           low=0.0005,\n",
        "                                           high=0.002,\n",
        "                                           q=0.0005,\n",
        "                                           ),\n",
        "                                           \n",
        "              'early_stop_patience': ho_scope.int(\n",
        "                  hp.quniform('early_stop_patience', low=0, high=100, q=10)),\n",
        "              'batch_size': hp.choice('batch_size', [ 1, 2, 4, 8, 16])\n",
        "              },\n",
        "\n",
        "    'train_dataset': train,\n",
        "    'val_dataset': test,\n",
        "}"
      ]
    },
    {
      "cell_type": "code",
      "execution_count": 15,
      "metadata": {},
      "outputs": [
        {
          "data": {
            "text/plain": [
              "<Experiment: artifact_location=('file:///c:/Users/Caio/OneDrive/ARQUIVOS/ACADEMICO/4-POS-GRAD '\n",
              " 'IA/2024-1-MODULO 3/3-DEEP LEARNING/AVALIACAO/mlruns/2'), creation_time=1716390470395, experiment_id='2', last_update_time=1716390470395, lifecycle_stage='active', name='autoencoder_milk', tags={}>"
            ]
          },
          "execution_count": 15,
          "metadata": {},
          "output_type": "execute_result"
        }
      ],
      "source": [
        "mlflow.set_tracking_uri(\"sqlite:///mlflow.db\")\n",
        "mlflow.set_experiment(\"autoencoder_milk\")"
      ]
    },
    {
      "cell_type": "code",
      "execution_count": 16,
      "metadata": {},
      "outputs": [],
      "source": [
        "trials = Trials()"
      ]
    },
    {
      "cell_type": "code",
      "execution_count": 17,
      "metadata": {},
      "outputs": [
        {
          "name": "stdout",
          "output_type": "stream",
          "text": [
            "  0%|          | 0/30 [00:00<?, ?trial/s, best loss=?]"
          ]
        },
        {
          "name": "stderr",
          "output_type": "stream",
          "text": [
            "2024/05/22 16:57:33 WARNING mlflow.utils.git_utils: Failed to import Git (the Git executable is probably not on your PATH), so Git SHA is not available. Error: Failed to initialize: Bad git executable.\n",
            "The git executable must be specified in one of the following ways:\n",
            "    - be included in your $PATH\n",
            "    - be set via $GIT_PYTHON_GIT_EXECUTABLE\n",
            "    - explicitly set via git.refresh()\n",
            "\n",
            "All git commands will error until this is rectified.\n",
            "\n",
            "This initial warning can be silenced or aggravated in the future by setting the\n",
            "$GIT_PYTHON_REFRESH environment variable. Use one of the following values:\n",
            "    - quiet|q|silence|s|none|n|0: for no warning or exception\n",
            "    - warn|w|warning|1: for a printed warning\n",
            "    - error|e|raise|r|2: for a raised exception\n",
            "\n",
            "Example:\n",
            "    export GIT_PYTHON_REFRESH=quiet\n",
            "\n",
            "\n",
            "2024/05/22 16:57:48 WARNING mlflow.tensorflow: You are saving a TensorFlow Core model or Keras model without a signature. Inference with mlflow.pyfunc.spark_udf() will not work unless the model's pyfunc representation accepts pandas DataFrames as inference inputs.\n",
            "\n"
          ]
        },
        {
          "name": "stdout",
          "output_type": "stream",
          "text": [
            "INFO:tensorflow:Assets written to: C:\\Users\\Caio\\AppData\\Local\\Temp\\tmppl_ozq9l\\model\\data\\model\\assets\n",
            "                                                      \n",
            "Test accuracy: 0.06784816086292267\n",
            "\n",
            "  3%|▎         | 1/30 [00:36<17:48, 36.84s/trial, best loss: 0.009484715759754181]"
          ]
        },
        {
          "name": "stderr",
          "output_type": "stream",
          "text": [
            "c:\\Users\\Caio\\anaconda3\\envs\\tf\\lib\\site-packages\\_distutils_hack\\__init__.py:33: UserWarning: Setuptools is replacing distutils.\n",
            "  warnings.warn(\"Setuptools is replacing distutils.\")\n",
            "\n",
            "2024/05/22 16:58:20 WARNING mlflow.tensorflow: You are saving a TensorFlow Core model or Keras model without a signature. Inference with mlflow.pyfunc.spark_udf() will not work unless the model's pyfunc representation accepts pandas DataFrames as inference inputs.\n",
            "\n"
          ]
        },
        {
          "name": "stdout",
          "output_type": "stream",
          "text": [
            "INFO:tensorflow:Assets written to: C:\\Users\\Caio\\AppData\\Local\\Temp\\tmpyqgclzg4\\model\\data\\model\\assets\n",
            "  3%|▎         | 1/30 [01:00<29:17, 60.61s/trial, best loss: 0.009484715759754181]\n"
          ]
        }
      ],
      "source": [
        "best_clf = fmin(fn = run_autoencoder,\n",
        "                space = hp_space,\n",
        "                algo = tpe.suggest,\n",
        "                max_evals = 30,\n",
        "                trials = trials,\n",
        "                verbose=False,\n",
        "                )"
      ]
    },
    {
      "cell_type": "code",
      "execution_count": 29,
      "metadata": {},
      "outputs": [
        {
          "data": {
            "text/plain": [
              "{'epochs': 30.0, 'intermediate': 1.0, 'out_activation': 1}"
            ]
          },
          "execution_count": 29,
          "metadata": {},
          "output_type": "execute_result"
        }
      ],
      "source": [
        "best_clf"
      ]
    },
    {
      "cell_type": "code",
      "execution_count": 14,
      "metadata": {},
      "outputs": [],
      "source": [
        "logged_model = 'runs:/f1d27c10689e4fbf970ec56cfc1a3ce2/ae_models'\n",
        "autoencoder = mlflow.pyfunc.load_model(logged_model)"
      ]
    },
    {
      "cell_type": "code",
      "execution_count": 224,
      "metadata": {
        "colab": {
          "base_uri": "https://localhost:8080/"
        },
        "id": "OCKlLRxXiiYg",
        "outputId": "ddf2007a-3844-4a1c-82c6-c46ee60271d8"
      },
      "outputs": [
        {
          "name": "stdout",
          "output_type": "stream",
          "text": [
            "313/313 [==============================] - 0s 1ms/step\n"
          ]
        }
      ],
      "source": [
        "# Encode and decode some digits\n",
        "# Note that we take them from the *test* set\n",
        "#encoded_imgs = autoencoder.predict(x_test)\n",
        "encoded_imgs = model.predict(x_test)\n",
        "\n",
        "#decoded_imgs = decoder.predict(encoded_imgs)"
      ]
    },
    {
      "cell_type": "code",
      "execution_count": 225,
      "metadata": {},
      "outputs": [
        {
          "name": "stdout",
          "output_type": "stream",
          "text": [
            "313/313 [==============================] - 1s 2ms/step - loss: 0.0072 - mae: 0.0260\n"
          ]
        },
        {
          "data": {
            "text/plain": [
              "[0.007154164835810661, 0.026019183918833733]"
            ]
          },
          "execution_count": 225,
          "metadata": {},
          "output_type": "execute_result"
        }
      ],
      "source": [
        "model.evaluate(x_test,x_test)"
      ]
    },
    {
      "cell_type": "code",
      "execution_count": 226,
      "metadata": {
        "colab": {
          "base_uri": "https://localhost:8080/",
          "height": 244
        },
        "id": "FM-6Tv1xiqyD",
        "outputId": "73bf7e65-740f-4bef-8db2-15d66af75764"
      },
      "outputs": [
        {
          "data": {
            "image/png": "[encoded data removed]",
            "text/plain": [
              "<Figure size 2000x400 with 20 Axes>"
            ]
          },
          "metadata": {},
          "output_type": "display_data"
        }
      ],
      "source": [
        "# Use Matplotlib (don't ask)\n",
        "import matplotlib.pyplot as plt\n",
        "\n",
        "n = 10  # How many digits we will display\n",
        "plt.figure(figsize=(20, 4))\n",
        "for i in range(n):\n",
        "    # Display original\n",
        "    ax = plt.subplot(2, n, i + 1)\n",
        "    plt.imshow(x_test[i].reshape(28, 28))\n",
        "    plt.gray()\n",
        "    ax.get_xaxis().set_visible(False)\n",
        "    ax.get_yaxis().set_visible(False)\n",
        "\n",
        "    # Display reconstruction\n",
        "    ax = plt.subplot(2, n, i + 1 + n)\n",
        "    plt.imshow(encoded_imgs[i].reshape(28, 28))\n",
        "    plt.gray()\n",
        "    ax.get_xaxis().set_visible(False)\n",
        "    ax.get_yaxis().set_visible(False)\n",
        "plt.show()"
      ]
    },
    {
      "cell_type": "code",
      "execution_count": 29,
      "metadata": {},
      "outputs": [
        {
          "data": {
            "text/html": [
              "<div>\n",
              "<style scoped>\n",
              "    .dataframe tbody tr th:only-of-type {\n",
              "        vertical-align: middle;\n",
              "    }\n",
              "\n",
              "    .dataframe tbody tr th {\n",
              "        vertical-align: top;\n",
              "    }\n",
              "\n",
              "    .dataframe thead th {\n",
              "        text-align: right;\n",
              "    }\n",
              "</style>\n",
              "<table border=\"1\" class=\"dataframe\">\n",
              "  <thead>\n",
              "    <tr style=\"text-align: right;\">\n",
              "      <th></th>\n",
              "      <th>loss</th>\n",
              "      <th>root_mean_squared_error</th>\n",
              "      <th>val_loss</th>\n",
              "      <th>val_root_mean_squared_error</th>\n",
              "    </tr>\n",
              "  </thead>\n",
              "  <tbody>\n",
              "    <tr>\n",
              "      <th>0</th>\n",
              "      <td>0.237090</td>\n",
              "      <td>0.239667</td>\n",
              "      <td>0.157878</td>\n",
              "      <td>0.176987</td>\n",
              "    </tr>\n",
              "    <tr>\n",
              "      <th>1</th>\n",
              "      <td>0.138415</td>\n",
              "      <td>0.157416</td>\n",
              "      <td>0.124623</td>\n",
              "      <td>0.143248</td>\n",
              "    </tr>\n",
              "    <tr>\n",
              "      <th>2</th>\n",
              "      <td>0.118340</td>\n",
              "      <td>0.135067</td>\n",
              "      <td>0.111195</td>\n",
              "      <td>0.126830</td>\n",
              "    </tr>\n",
              "    <tr>\n",
              "      <th>3</th>\n",
              "      <td>0.108474</td>\n",
              "      <td>0.122656</td>\n",
              "      <td>0.103780</td>\n",
              "      <td>0.116610</td>\n",
              "    </tr>\n",
              "    <tr>\n",
              "      <th>4</th>\n",
              "      <td>0.102842</td>\n",
              "      <td>0.115030</td>\n",
              "      <td>0.099292</td>\n",
              "      <td>0.110182</td>\n",
              "    </tr>\n",
              "    <tr>\n",
              "      <th>5</th>\n",
              "      <td>0.099078</td>\n",
              "      <td>0.109650</td>\n",
              "      <td>0.096255</td>\n",
              "      <td>0.105684</td>\n",
              "    </tr>\n",
              "    <tr>\n",
              "      <th>6</th>\n",
              "      <td>0.096335</td>\n",
              "      <td>0.105588</td>\n",
              "      <td>0.093773</td>\n",
              "      <td>0.101962</td>\n",
              "    </tr>\n",
              "    <tr>\n",
              "      <th>7</th>\n",
              "      <td>0.094197</td>\n",
              "      <td>0.102358</td>\n",
              "      <td>0.092369</td>\n",
              "      <td>0.099574</td>\n",
              "    </tr>\n",
              "    <tr>\n",
              "      <th>8</th>\n",
              "      <td>0.092365</td>\n",
              "      <td>0.099477</td>\n",
              "      <td>0.090630</td>\n",
              "      <td>0.097188</td>\n",
              "    </tr>\n",
              "    <tr>\n",
              "      <th>9</th>\n",
              "      <td>0.090824</td>\n",
              "      <td>0.097004</td>\n",
              "      <td>0.088932</td>\n",
              "      <td>0.094196</td>\n",
              "    </tr>\n",
              "  </tbody>\n",
              "</table>\n",
              "</div>"
            ],
            "text/plain": [
              "       loss  root_mean_squared_error  val_loss  val_root_mean_squared_error\n",
              "0  0.237090                 0.239667  0.157878                     0.176987\n",
              "1  0.138415                 0.157416  0.124623                     0.143248\n",
              "2  0.118340                 0.135067  0.111195                     0.126830\n",
              "3  0.108474                 0.122656  0.103780                     0.116610\n",
              "4  0.102842                 0.115030  0.099292                     0.110182\n",
              "5  0.099078                 0.109650  0.096255                     0.105684\n",
              "6  0.096335                 0.105588  0.093773                     0.101962\n",
              "7  0.094197                 0.102358  0.092369                     0.099574\n",
              "8  0.092365                 0.099477  0.090630                     0.097188\n",
              "9  0.090824                 0.097004  0.088932                     0.094196"
            ]
          },
          "execution_count": 29,
          "metadata": {},
          "output_type": "execute_result"
        }
      ],
      "source": [
        "import pandas as pd\n",
        "import matplotlib.pyplot as plt\n",
        "\n",
        "pd.DataFrame(hist.history)"
      ]
    },
    {
      "cell_type": "code",
      "execution_count": 20,
      "metadata": {},
      "outputs": [
        {
          "data": {
            "image/png": "[encoded data removed]",
            "text/plain": [
              "<Figure size 800x500 with 1 Axes>"
            ]
          },
          "metadata": {},
          "output_type": "display_data"
        }
      ],
      "source": [
        "pd.DataFrame(hist.history).plot(figsize=(8,5))\n",
        "plt.grid(True)\n",
        "#plt.gca().set_ylim(0,0.2)\n",
        "plt.show()"
      ]
    },
    {
      "cell_type": "code",
      "execution_count": null,
      "metadata": {
        "colab": {
          "base_uri": "https://localhost:8080/"
        },
        "id": "GWtCXPnahUqW",
        "outputId": "624aba60-3513-4cb7-c04d-5da1be83c378"
      },
      "outputs": [],
      "source": [
        "history = autoencoder.fit(x=x_train,\n",
        "                          y=x_train,\n",
        "                          epochs=10,\n",
        "                          batch_size=256,\n",
        "                          shuffle=True,\n",
        "                          validation_data=(x_test, x_test))"
      ]
    },
    {
      "cell_type": "code",
      "execution_count": 9,
      "metadata": {},
      "outputs": [
        {
          "data": {
            "image/png": "[encoded data removed]",
            "text/plain": [
              "<Figure size 800x500 with 1 Axes>"
            ]
          },
          "metadata": {},
          "output_type": "display_data"
        }
      ],
      "source": [
        "import pandas as pd\n",
        "import matplotlib.pyplot as plt\n",
        "\n",
        "pd.DataFrame(history.history).plot(figsize=(8,5))\n",
        "plt.grid(True)\n",
        "plt.gca().set_ylim(0,0.2)\n",
        "plt.show()"
      ]
    },
    {
      "cell_type": "code",
      "execution_count": null,
      "metadata": {},
      "outputs": [],
      "source": []
    }
  ],
  "metadata": {
    "colab": {
      "provenance": []
    },
    "kernelspec": {
      "display_name": "Python 3",
      "name": "python3"
    },
    "language_info": {
      "codemirror_mode": {
        "name": "ipython",
        "version": 3
      },
      "file_extension": ".py",
      "mimetype": "text/x-python",
      "name": "python",
      "nbconvert_exporter": "python",
      "pygments_lexer": "ipython3",
      "version": "3.10.14"
    }
  },
  "nbformat": 4,
  "nbformat_minor": 0
}
