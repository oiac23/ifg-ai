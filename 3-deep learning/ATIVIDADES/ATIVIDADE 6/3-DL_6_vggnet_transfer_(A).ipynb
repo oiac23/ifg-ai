{
  "cells": [
    {
      "cell_type": "markdown",
      "id": "kE_Y1Dy2P9J1",
      "metadata": {
        "id": "kE_Y1Dy2P9J1"
      },
      "source": [
        "**Código-exemplo para disciplina de Deep Learning: Convolução**\n",
        "\n",
        "Código para aproveitamento dos treinos já aprendidos pela VGG16. Para outras redes, acesse: https://keras.io/api/applications/\n",
        "\n",
        "Abril/2023\n",
        "\n",
        "Professor: Sérgio Canuto\n",
        "\n"
      ]
    },
    {
      "cell_type": "code",
      "execution_count": 1,
      "id": "f02d0346",
      "metadata": {
        "id": "f02d0346"
      },
      "outputs": [],
      "source": [
        "import tensorflow as tf\n",
        "from tensorflow import keras\n",
        "import warnings\n",
        "warnings.filterwarnings(\"ignore\")"
      ]
    },
    {
      "cell_type": "code",
      "execution_count": 2,
      "id": "8c681661",
      "metadata": {
        "colab": {
          "base_uri": "https://localhost:8080/",
          "height": 35
        },
        "id": "8c681661",
        "outputId": "342f8f1d-749a-4dfe-d962-d90822e348a1"
      },
      "outputs": [
        {
          "data": {
            "text/plain": [
              "'2.10.0'"
            ]
          },
          "execution_count": 2,
          "metadata": {},
          "output_type": "execute_result"
        }
      ],
      "source": [
        "tf.__version__"
      ]
    },
    {
      "cell_type": "code",
      "execution_count": 3,
      "id": "40815a63",
      "metadata": {
        "id": "40815a63",
        "scrolled": true
      },
      "outputs": [
        {
          "data": {
            "text/plain": [
              "'2.10.0'"
            ]
          },
          "execution_count": 3,
          "metadata": {},
          "output_type": "execute_result"
        }
      ],
      "source": [
        "keras.__version__"
      ]
    },
    {
      "cell_type": "markdown",
      "id": "Z8GAjiXBQmAU",
      "metadata": {
        "id": "Z8GAjiXBQmAU"
      },
      "source": [
        "**Compatibilidade com a versão 1 do tensorflow: Habilita recursos do tensorboard**\n",
        "\n",
        "\n"
      ]
    },
    {
      "cell_type": "code",
      "execution_count": 4,
      "id": "6a089648",
      "metadata": {
        "colab": {
          "base_uri": "https://localhost:8080/"
        },
        "id": "6a089648",
        "outputId": "ecb21116-149b-4c29-9910-efeaee5d8e4d"
      },
      "outputs": [],
      "source": [
        "#tf.compat.v1.disable_v2_behavior()"
      ]
    },
    {
      "cell_type": "code",
      "execution_count": 5,
      "id": "pAcS_FTSJtNs",
      "metadata": {
        "id": "pAcS_FTSJtNs"
      },
      "outputs": [
        {
          "name": "stdout",
          "output_type": "stream",
          "text": [
            "Model: \"vgg16\"\n",
            "_________________________________________________________________\n",
            " Layer (type)                Output Shape              Param #   \n",
            "=================================================================\n",
            " input_1 (InputLayer)        [(None, 224, 224, 3)]     0         \n",
            "                                                                 \n",
            " block1_conv1 (Conv2D)       (None, 224, 224, 64)      1792      \n",
            "                                                                 \n",
            " block1_conv2 (Conv2D)       (None, 224, 224, 64)      36928     \n",
            "                                                                 \n",
            " block1_pool (MaxPooling2D)  (None, 112, 112, 64)      0         \n",
            "                                                                 \n",
            " block2_conv1 (Conv2D)       (None, 112, 112, 128)     73856     \n",
            "                                                                 \n",
            " block2_conv2 (Conv2D)       (None, 112, 112, 128)     147584    \n",
            "                                                                 \n",
            " block2_pool (MaxPooling2D)  (None, 56, 56, 128)       0         \n",
            "                                                                 \n",
            " block3_conv1 (Conv2D)       (None, 56, 56, 256)       295168    \n",
            "                                                                 \n",
            " block3_conv2 (Conv2D)       (None, 56, 56, 256)       590080    \n",
            "                                                                 \n",
            " block3_conv3 (Conv2D)       (None, 56, 56, 256)       590080    \n",
            "                                                                 \n",
            " block3_pool (MaxPooling2D)  (None, 28, 28, 256)       0         \n",
            "                                                                 \n",
            " block4_conv1 (Conv2D)       (None, 28, 28, 512)       1180160   \n",
            "                                                                 \n",
            " block4_conv2 (Conv2D)       (None, 28, 28, 512)       2359808   \n",
            "                                                                 \n",
            " block4_conv3 (Conv2D)       (None, 28, 28, 512)       2359808   \n",
            "                                                                 \n",
            " block4_pool (MaxPooling2D)  (None, 14, 14, 512)       0         \n",
            "                                                                 \n",
            " block5_conv1 (Conv2D)       (None, 14, 14, 512)       2359808   \n",
            "                                                                 \n",
            " block5_conv2 (Conv2D)       (None, 14, 14, 512)       2359808   \n",
            "                                                                 \n",
            " block5_conv3 (Conv2D)       (None, 14, 14, 512)       2359808   \n",
            "                                                                 \n",
            " block5_pool (MaxPooling2D)  (None, 7, 7, 512)         0         \n",
            "                                                                 \n",
            " flatten (Flatten)           (None, 25088)             0         \n",
            "                                                                 \n",
            " fc1 (Dense)                 (None, 4096)              102764544 \n",
            "                                                                 \n",
            " fc2 (Dense)                 (None, 4096)              16781312  \n",
            "                                                                 \n",
            " predictions (Dense)         (None, 1000)              4097000   \n",
            "                                                                 \n",
            "=================================================================\n",
            "Total params: 138,357,544\n",
            "Trainable params: 138,357,544\n",
            "Non-trainable params: 0\n",
            "_________________________________________________________________\n",
            "None\n"
          ]
        }
      ],
      "source": [
        "from keras.applications.vgg16 import VGG16\n",
        "from tensorflow.keras.utils import plot_model\n",
        "model = VGG16()\n",
        "print(model.summary())\n",
        "#plot_model(model, to_file='vgg.png')"
      ]
    },
    {
      "cell_type": "code",
      "execution_count": 6,
      "id": "OaAGO96cKTEp",
      "metadata": {
        "id": "OaAGO96cKTEp"
      },
      "outputs": [],
      "source": [
        "import numpy as np\n",
        "from sklearn.utils import resample\n",
        "\n",
        "#obtém os dados\n",
        "fashion_mnist=keras.datasets.fashion_mnist\n",
        "(X_train_full, y_train_full), (X_test, y_test) = fashion_mnist.load_data()\n",
        "\n",
        "from sklearn.utils import resample\n",
        "X_train_full, y_train_full = resample(X_train_full,\n",
        "                                      y_train_full,\n",
        "                                      n_samples=10000,\n",
        "                                      random_state=0)"
      ]
    },
    {
      "cell_type": "code",
      "execution_count": 7,
      "id": "taE0oxC9QQS9",
      "metadata": {
        "id": "taE0oxC9QQS9"
      },
      "outputs": [],
      "source": [
        "X_valid, X_train = X_train_full[:9000]/255., X_train_full[9000:]/255.\n",
        "y_valid, y_train = y_train_full[:9000], y_train_full[9000:]"
      ]
    },
    {
      "cell_type": "code",
      "execution_count": 8,
      "id": "MV5xtz1_aXwd",
      "metadata": {
        "colab": {
          "base_uri": "https://localhost:8080/"
        },
        "id": "MV5xtz1_aXwd",
        "outputId": "edc4b39a-4983-4290-9943-4edcdc273e74"
      },
      "outputs": [
        {
          "name": "stdout",
          "output_type": "stream",
          "text": [
            "Dimensão dos documentos de treino:\n",
            "(1000, 28, 28, 3)\n"
          ]
        }
      ],
      "source": [
        "# e transforma um canal em preto-branco em três canais em preto-e-branco:\n",
        "# (necessário para entrada da VGG16)\n",
        "X_train=np.dstack([X_train]*3)\n",
        "X_valid=np.dstack([X_valid]*3)\n",
        "\n",
        "X_train = X_train.reshape(-1, 28, 28, 3)\n",
        "X_valid = X_valid.reshape(-1, 28, 28, 3)\n",
        "print(\"Dimensão dos documentos de treino:\")\n",
        "print(X_train.shape)"
      ]
    },
    {
      "cell_type": "code",
      "execution_count": 9,
      "id": "bX2u61TwUVeL",
      "metadata": {
        "colab": {
          "base_uri": "https://localhost:8080/"
        },
        "id": "bX2u61TwUVeL",
        "outputId": "4e61cb9c-1e8e-41d7-8bb2-576f7356f149"
      },
      "outputs": [
        {
          "data": {
            "text/plain": [
              "((1000, 48, 48, 3), (9000, 48, 48, 3))"
            ]
          },
          "execution_count": 9,
          "metadata": {},
          "output_type": "execute_result"
        }
      ],
      "source": [
        "# \"redimensiona o tamanho das imagens para\" 48x48 como requisito do VGG16 pré-treinado.\n",
        "# para mais informações, acesse: https://keras.io/api/applications/vgg/#vgg16-function\n",
        "\n",
        "from tensorflow.keras.utils import img_to_array, array_to_img\n",
        "X_train = np.asarray(\n",
        "    [img_to_array(array_to_img(im, scale=False).resize((48,48)))\n",
        "    for im in X_train]\n",
        "    )\n",
        "X_valid = np.asarray(\n",
        "    [img_to_array(array_to_img(im, scale=False).resize((48,48)))\n",
        "    for im in X_valid]\n",
        "    )\n",
        "\n",
        "X_train.shape, X_valid.shape"
      ]
    },
    {
      "cell_type": "code",
      "execution_count": 10,
      "id": "8tsFSrd2LSSY",
      "metadata": {
        "colab": {
          "base_uri": "https://localhost:8080/"
        },
        "id": "8tsFSrd2LSSY",
        "outputId": "ed463dcf-5181-4d42-b113-4e33e951032c"
      },
      "outputs": [
        {
          "name": "stdout",
          "output_type": "stream",
          "text": [
            "Model: \"vgg16\"\n",
            "_________________________________________________________________\n",
            " Layer (type)                Output Shape              Param #   \n",
            "=================================================================\n",
            " input_2 (InputLayer)        [(None, 48, 48, 3)]       0         \n",
            "                                                                 \n",
            " block1_conv1 (Conv2D)       (None, 48, 48, 64)        1792      \n",
            "                                                                 \n",
            " block1_conv2 (Conv2D)       (None, 48, 48, 64)        36928     \n",
            "                                                                 \n",
            " block1_pool (MaxPooling2D)  (None, 24, 24, 64)        0         \n",
            "                                                                 \n",
            " block2_conv1 (Conv2D)       (None, 24, 24, 128)       73856     \n",
            "                                                                 \n",
            " block2_conv2 (Conv2D)       (None, 24, 24, 128)       147584    \n",
            "                                                                 \n",
            " block2_pool (MaxPooling2D)  (None, 12, 12, 128)       0         \n",
            "                                                                 \n",
            " block3_conv1 (Conv2D)       (None, 12, 12, 256)       295168    \n",
            "                                                                 \n",
            " block3_conv2 (Conv2D)       (None, 12, 12, 256)       590080    \n",
            "                                                                 \n",
            " block3_conv3 (Conv2D)       (None, 12, 12, 256)       590080    \n",
            "                                                                 \n",
            " block3_pool (MaxPooling2D)  (None, 6, 6, 256)         0         \n",
            "                                                                 \n",
            " block4_conv1 (Conv2D)       (None, 6, 6, 512)         1180160   \n",
            "                                                                 \n",
            " block4_conv2 (Conv2D)       (None, 6, 6, 512)         2359808   \n",
            "                                                                 \n",
            " block4_conv3 (Conv2D)       (None, 6, 6, 512)         2359808   \n",
            "                                                                 \n",
            " block4_pool (MaxPooling2D)  (None, 3, 3, 512)         0         \n",
            "                                                                 \n",
            " block5_conv1 (Conv2D)       (None, 3, 3, 512)         2359808   \n",
            "                                                                 \n",
            " block5_conv2 (Conv2D)       (None, 3, 3, 512)         2359808   \n",
            "                                                                 \n",
            " block5_conv3 (Conv2D)       (None, 3, 3, 512)         2359808   \n",
            "                                                                 \n",
            " block5_pool (MaxPooling2D)  (None, 1, 1, 512)         0         \n",
            "                                                                 \n",
            "=================================================================\n",
            "Total params: 14,714,688\n",
            "Trainable params: 7,079,424\n",
            "Non-trainable params: 7,635,264\n",
            "_________________________________________________________________\n",
            "None\n"
          ]
        }
      ],
      "source": [
        "from keras.applications import VGG16\n",
        "#carrega o modelo VGG16\n",
        "vgg_model = VGG16(\n",
        "                weights='imagenet',\n",
        "                include_top=False,\n",
        "                input_shape=(48, 48, 3)\n",
        "                )\n",
        "\n",
        "# Seta as camadas iniciais para apenas leitura (não treináveis!)\n",
        "for layer in vgg_model.layers[:15]:\n",
        "    layer.trainable = False\n",
        "\n",
        "print(vgg_model.summary())"
      ]
    },
    {
      "cell_type": "code",
      "execution_count": 11,
      "id": "aTQHqPTkLuZC",
      "metadata": {
        "id": "aTQHqPTkLuZC"
      },
      "outputs": [],
      "source": [
        "#Obêm o modelo VGG e adiciona só duas camadas densas no topo do modelo para o treinamento.\n",
        "model=vgg_model.output\n",
        "topo_model = keras.layers.Flatten()(model)\n",
        "topo_model = keras.layers.Dense(40, activation='relu')(topo_model)\n",
        "topo_model = keras.layers.Dense(10, activation='softmax')(topo_model) # Softmax for multiclass\n",
        "modelo_final = tf.keras.Model(inputs=vgg_model.input, outputs=topo_model)"
      ]
    },
    {
      "cell_type": "code",
      "execution_count": 12,
      "id": "ziLYM0MeOxyV",
      "metadata": {
        "colab": {
          "base_uri": "https://localhost:8080/"
        },
        "id": "ziLYM0MeOxyV",
        "outputId": "ffea4d1a-8098-4a23-cb24-8027c8e7c1ce"
      },
      "outputs": [
        {
          "name": "stdout",
          "output_type": "stream",
          "text": [
            "Model: \"model\"\n",
            "_________________________________________________________________\n",
            " Layer (type)                Output Shape              Param #   \n",
            "=================================================================\n",
            " input_2 (InputLayer)        [(None, 48, 48, 3)]       0         \n",
            "                                                                 \n",
            " block1_conv1 (Conv2D)       (None, 48, 48, 64)        1792      \n",
            "                                                                 \n",
            " block1_conv2 (Conv2D)       (None, 48, 48, 64)        36928     \n",
            "                                                                 \n",
            " block1_pool (MaxPooling2D)  (None, 24, 24, 64)        0         \n",
            "                                                                 \n",
            " block2_conv1 (Conv2D)       (None, 24, 24, 128)       73856     \n",
            "                                                                 \n",
            " block2_conv2 (Conv2D)       (None, 24, 24, 128)       147584    \n",
            "                                                                 \n",
            " block2_pool (MaxPooling2D)  (None, 12, 12, 128)       0         \n",
            "                                                                 \n",
            " block3_conv1 (Conv2D)       (None, 12, 12, 256)       295168    \n",
            "                                                                 \n",
            " block3_conv2 (Conv2D)       (None, 12, 12, 256)       590080    \n",
            "                                                                 \n",
            " block3_conv3 (Conv2D)       (None, 12, 12, 256)       590080    \n",
            "                                                                 \n",
            " block3_pool (MaxPooling2D)  (None, 6, 6, 256)         0         \n",
            "                                                                 \n",
            " block4_conv1 (Conv2D)       (None, 6, 6, 512)         1180160   \n",
            "                                                                 \n",
            " block4_conv2 (Conv2D)       (None, 6, 6, 512)         2359808   \n",
            "                                                                 \n",
            " block4_conv3 (Conv2D)       (None, 6, 6, 512)         2359808   \n",
            "                                                                 \n",
            " block4_pool (MaxPooling2D)  (None, 3, 3, 512)         0         \n",
            "                                                                 \n",
            " block5_conv1 (Conv2D)       (None, 3, 3, 512)         2359808   \n",
            "                                                                 \n",
            " block5_conv2 (Conv2D)       (None, 3, 3, 512)         2359808   \n",
            "                                                                 \n",
            " block5_conv3 (Conv2D)       (None, 3, 3, 512)         2359808   \n",
            "                                                                 \n",
            " block5_pool (MaxPooling2D)  (None, 1, 1, 512)         0         \n",
            "                                                                 \n",
            " flatten (Flatten)           (None, 512)               0         \n",
            "                                                                 \n",
            " dense (Dense)               (None, 40)                20520     \n",
            "                                                                 \n",
            " dense_1 (Dense)             (None, 10)                410       \n",
            "                                                                 \n",
            "=================================================================\n",
            "Total params: 14,735,618\n",
            "Trainable params: 7,100,354\n",
            "Non-trainable params: 7,635,264\n",
            "_________________________________________________________________\n",
            "None\n"
          ]
        },
        {
          "data": {
            "image/png": "[encoded data removed]",
            "text/plain": [
              "<IPython.core.display.Image object>"
            ]
          },
          "execution_count": 12,
          "metadata": {},
          "output_type": "execute_result"
        }
      ],
      "source": [
        "print(modelo_final.summary())\n",
        "plot_model(modelo_final, to_file='vgg.png')"
      ]
    },
    {
      "cell_type": "code",
      "execution_count": 13,
      "id": "yKTAMxPpMrbj",
      "metadata": {
        "colab": {
          "base_uri": "https://localhost:8080/"
        },
        "id": "yKTAMxPpMrbj",
        "outputId": "e301924e-a1e6-4668-9a2c-d14558b8b041"
      },
      "outputs": [
        {
          "name": "stdout",
          "output_type": "stream",
          "text": [
            "Epoch 1/30\n",
            "63/63 [==============================] - 19s 231ms/step - loss: 2.2416 - accuracy: 0.1690 - val_loss: 2.1567 - val_accuracy: 0.2116\n",
            "Epoch 2/30\n",
            "63/63 [==============================] - 16s 265ms/step - loss: 2.0921 - accuracy: 0.2290 - val_loss: 2.1346 - val_accuracy: 0.2422\n",
            "Epoch 3/30\n",
            "63/63 [==============================] - 14s 225ms/step - loss: 1.9803 - accuracy: 0.2780 - val_loss: 2.0532 - val_accuracy: 0.2650\n",
            "Epoch 4/30\n",
            "63/63 [==============================] - 14s 227ms/step - loss: 1.9115 - accuracy: 0.3100 - val_loss: 2.0232 - val_accuracy: 0.2650\n",
            "Epoch 5/30\n",
            "63/63 [==============================] - 14s 226ms/step - loss: 1.8480 - accuracy: 0.3330 - val_loss: 2.0300 - val_accuracy: 0.2578\n",
            "Epoch 6/30\n",
            "63/63 [==============================] - 13s 211ms/step - loss: 1.8075 - accuracy: 0.3490 - val_loss: 2.0040 - val_accuracy: 0.2738\n",
            "Epoch 7/30\n",
            "63/63 [==============================] - 13s 207ms/step - loss: 1.7722 - accuracy: 0.3600 - val_loss: 1.9443 - val_accuracy: 0.2843\n",
            "Epoch 8/30\n",
            "63/63 [==============================] - 13s 206ms/step - loss: 1.7456 - accuracy: 0.3510 - val_loss: 1.9140 - val_accuracy: 0.2894\n",
            "Epoch 9/30\n",
            "63/63 [==============================] - 13s 207ms/step - loss: 1.6905 - accuracy: 0.3880 - val_loss: 1.9657 - val_accuracy: 0.2937\n",
            "Epoch 10/30\n",
            "63/63 [==============================] - 13s 208ms/step - loss: 1.6648 - accuracy: 0.3870 - val_loss: 2.6727 - val_accuracy: 0.1707\n",
            "Epoch 11/30\n",
            "63/63 [==============================] - 13s 209ms/step - loss: 1.6504 - accuracy: 0.3890 - val_loss: 2.0440 - val_accuracy: 0.2792\n",
            "Epoch 12/30\n",
            "63/63 [==============================] - 13s 208ms/step - loss: 1.6076 - accuracy: 0.4170 - val_loss: 1.9183 - val_accuracy: 0.3142\n",
            "Epoch 13/30\n",
            "63/63 [==============================] - 13s 207ms/step - loss: 1.5690 - accuracy: 0.4230 - val_loss: 2.0178 - val_accuracy: 0.2773\n",
            "Epoch 14/30\n",
            "63/63 [==============================] - 13s 205ms/step - loss: 1.5627 - accuracy: 0.4360 - val_loss: 1.9057 - val_accuracy: 0.3189\n",
            "Epoch 15/30\n",
            "63/63 [==============================] - 13s 206ms/step - loss: 1.5188 - accuracy: 0.4520 - val_loss: 1.9773 - val_accuracy: 0.3152\n",
            "Epoch 16/30\n",
            "63/63 [==============================] - 14s 224ms/step - loss: 1.5148 - accuracy: 0.4490 - val_loss: 2.0224 - val_accuracy: 0.2953\n",
            "Epoch 17/30\n",
            "63/63 [==============================] - 14s 227ms/step - loss: 1.4855 - accuracy: 0.4660 - val_loss: 1.8999 - val_accuracy: 0.3267\n",
            "Epoch 18/30\n",
            "63/63 [==============================] - 15s 245ms/step - loss: 1.4528 - accuracy: 0.4890 - val_loss: 2.0090 - val_accuracy: 0.2973\n",
            "Epoch 19/30\n",
            "63/63 [==============================] - 14s 218ms/step - loss: 1.4225 - accuracy: 0.4900 - val_loss: 1.9649 - val_accuracy: 0.3230\n",
            "Epoch 20/30\n",
            "63/63 [==============================] - 13s 211ms/step - loss: 1.4111 - accuracy: 0.5020 - val_loss: 2.0575 - val_accuracy: 0.3173\n",
            "Epoch 21/30\n",
            "63/63 [==============================] - 13s 210ms/step - loss: 1.4018 - accuracy: 0.4890 - val_loss: 2.1061 - val_accuracy: 0.2848\n",
            "Epoch 22/30\n",
            "63/63 [==============================] - 13s 209ms/step - loss: 1.3639 - accuracy: 0.5030 - val_loss: 1.9808 - val_accuracy: 0.3122\n",
            "Epoch 23/30\n",
            "63/63 [==============================] - 13s 208ms/step - loss: 1.3510 - accuracy: 0.5110 - val_loss: 2.0884 - val_accuracy: 0.3166\n",
            "Epoch 24/30\n",
            "63/63 [==============================] - 13s 208ms/step - loss: 1.3631 - accuracy: 0.5020 - val_loss: 2.0185 - val_accuracy: 0.2967\n",
            "Epoch 25/30\n",
            "63/63 [==============================] - 13s 208ms/step - loss: 1.3211 - accuracy: 0.5150 - val_loss: 2.1942 - val_accuracy: 0.2552\n",
            "Epoch 26/30\n",
            "63/63 [==============================] - 14s 224ms/step - loss: 1.2942 - accuracy: 0.5370 - val_loss: 1.9728 - val_accuracy: 0.3180\n",
            "Epoch 27/30\n",
            "63/63 [==============================] - 14s 219ms/step - loss: 1.3032 - accuracy: 0.5320 - val_loss: 2.1776 - val_accuracy: 0.3243\n",
            "Epoch 28/30\n",
            "63/63 [==============================] - 13s 211ms/step - loss: 1.2864 - accuracy: 0.5330 - val_loss: 2.0446 - val_accuracy: 0.3226\n",
            "Epoch 29/30\n",
            "63/63 [==============================] - 13s 210ms/step - loss: 1.2607 - accuracy: 0.5430 - val_loss: 1.9833 - val_accuracy: 0.3289\n",
            "Epoch 30/30\n",
            "63/63 [==============================] - 13s 210ms/step - loss: 1.2761 - accuracy: 0.5370 - val_loss: 2.1608 - val_accuracy: 0.3081\n"
          ]
        }
      ],
      "source": [
        "modelo_final.compile(\n",
        "                loss=\"sparse_categorical_crossentropy\",\n",
        "                optimizer=\"sgd\",\n",
        "                metrics=[\"accuracy\"],\n",
        "                )\n",
        "history=modelo_final.fit(\n",
        "                X_train,\n",
        "                y_train,\n",
        "                epochs=30,\n",
        "                batch_size=16,\n",
        "                validation_data=(X_valid,y_valid)\n",
        "                )"
      ]
    },
    {
      "cell_type": "code",
      "execution_count": 14,
      "id": "9zUyNMP8Wt05",
      "metadata": {
        "id": "9zUyNMP8Wt05"
      },
      "outputs": [
        {
          "data": {
            "text/plain": [
              "dict_keys(['loss', 'accuracy', 'val_loss', 'val_accuracy'])"
            ]
          },
          "execution_count": 14,
          "metadata": {},
          "output_type": "execute_result"
        }
      ],
      "source": [
        "history.history.keys()"
      ]
    },
    {
      "cell_type": "code",
      "execution_count": 15,
      "id": "6aa1d1ab",
      "metadata": {},
      "outputs": [
        {
          "data": {
            "image/png": "[encoded data removed]",
            "text/plain": [
              "<Figure size 800x500 with 1 Axes>"
            ]
          },
          "metadata": {},
          "output_type": "display_data"
        }
      ],
      "source": [
        "import pandas as pd\n",
        "import matplotlib.pyplot as plt\n",
        "\n",
        "pd.DataFrame(history.history).plot(figsize=(8,5))\n",
        "plt.grid(True)\n",
        "plt.gca().set_ylim(0,3)\n",
        "plt.show()"
      ]
    },
    {
      "cell_type": "code",
      "execution_count": 16,
      "id": "a64ddbba",
      "metadata": {},
      "outputs": [
        {
          "data": {
            "text/plain": [
              "(10000, 48, 48, 3)"
            ]
          },
          "execution_count": 16,
          "metadata": {},
          "output_type": "execute_result"
        }
      ],
      "source": [
        "X_test=np.dstack([X_test]*3)\n",
        "X_test = X_test.reshape(-1, 28, 28, 3)\n",
        "X_test = np.asarray(\n",
        "    [img_to_array(array_to_img(im, scale=False).resize((48,48)))\n",
        "    for im in X_test]\n",
        "    )\n",
        "X_test.shape"
      ]
    },
    {
      "cell_type": "code",
      "execution_count": 17,
      "id": "03ddfa6c",
      "metadata": {},
      "outputs": [
        {
          "name": "stdout",
          "output_type": "stream",
          "text": [
            "313/313 [==============================] - 9s 25ms/step - loss: 3.2307 - accuracy: 0.2973\n"
          ]
        },
        {
          "data": {
            "text/plain": [
              "[3.230710029602051, 0.2973000109195709]"
            ]
          },
          "execution_count": 17,
          "metadata": {},
          "output_type": "execute_result"
        }
      ],
      "source": [
        "modelo_final.evaluate(X_test/255.,y_test)"
      ]
    },
    {
      "cell_type": "code",
      "execution_count": null,
      "id": "7947414a",
      "metadata": {},
      "outputs": [],
      "source": []
    }
  ],
  "metadata": {
    "colab": {
      "provenance": []
    },
    "kernelspec": {
      "display_name": "Python 3 (ipykernel)",
      "language": "python",
      "name": "python3"
    },
    "language_info": {
      "codemirror_mode": {
        "name": "ipython",
        "version": 3
      },
      "file_extension": ".py",
      "mimetype": "text/x-python",
      "name": "python",
      "nbconvert_exporter": "python",
      "pygments_lexer": "ipython3",
      "version": "3.10.14"
    }
  },
  "nbformat": 4,
  "nbformat_minor": 5
}
