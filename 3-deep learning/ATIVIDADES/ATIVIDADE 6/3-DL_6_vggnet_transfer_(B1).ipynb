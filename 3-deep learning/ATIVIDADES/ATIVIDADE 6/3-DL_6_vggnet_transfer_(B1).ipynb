{
  "cells": [
    {
      "cell_type": "markdown",
      "id": "kE_Y1Dy2P9J1",
      "metadata": {
        "id": "kE_Y1Dy2P9J1"
      },
      "source": [
        "**Código-exemplo para disciplina de Deep Learning: Convolução**\n",
        "\n",
        "Código para aproveitamento dos treinos já aprendidos pela VGG16. Para outras redes, acesse: https://keras.io/api/applications/\n",
        "\n",
        "Abril/2023\n",
        "\n",
        "Professor: Sérgio Canuto\n",
        "\n"
      ]
    },
    {
      "cell_type": "code",
      "execution_count": 28,
      "id": "f02d0346",
      "metadata": {
        "id": "f02d0346"
      },
      "outputs": [],
      "source": [
        "import tensorflow as tf\n",
        "from tensorflow import keras\n",
        "import warnings\n",
        "warnings.filterwarnings(\"ignore\")"
      ]
    },
    {
      "cell_type": "code",
      "execution_count": 29,
      "id": "8c681661",
      "metadata": {
        "colab": {
          "base_uri": "https://localhost:8080/",
          "height": 35
        },
        "id": "8c681661",
        "outputId": "342f8f1d-749a-4dfe-d962-d90822e348a1"
      },
      "outputs": [
        {
          "data": {
            "text/plain": [
              "'2.10.0'"
            ]
          },
          "execution_count": 29,
          "metadata": {},
          "output_type": "execute_result"
        }
      ],
      "source": [
        "tf.__version__"
      ]
    },
    {
      "cell_type": "code",
      "execution_count": 30,
      "id": "40815a63",
      "metadata": {
        "id": "40815a63",
        "scrolled": true
      },
      "outputs": [
        {
          "data": {
            "text/plain": [
              "'2.10.0'"
            ]
          },
          "execution_count": 30,
          "metadata": {},
          "output_type": "execute_result"
        }
      ],
      "source": [
        "keras.__version__"
      ]
    },
    {
      "cell_type": "markdown",
      "id": "Z8GAjiXBQmAU",
      "metadata": {
        "id": "Z8GAjiXBQmAU"
      },
      "source": [
        "**Compatibilidade com a versão 1 do tensorflow: Habilita recursos do tensorboard**\n",
        "\n",
        "\n"
      ]
    },
    {
      "cell_type": "code",
      "execution_count": 31,
      "id": "6a089648",
      "metadata": {
        "colab": {
          "base_uri": "https://localhost:8080/"
        },
        "id": "6a089648",
        "outputId": "ecb21116-149b-4c29-9910-efeaee5d8e4d"
      },
      "outputs": [],
      "source": [
        "#tf.compat.v1.disable_v2_behavior()"
      ]
    },
    {
      "cell_type": "code",
      "execution_count": 32,
      "id": "pAcS_FTSJtNs",
      "metadata": {
        "id": "pAcS_FTSJtNs"
      },
      "outputs": [
        {
          "name": "stdout",
          "output_type": "stream",
          "text": [
            "Model: \"vgg16\"\n",
            "_________________________________________________________________\n",
            " Layer (type)                Output Shape              Param #   \n",
            "=================================================================\n",
            " input_3 (InputLayer)        [(None, 224, 224, 3)]     0         \n",
            "                                                                 \n",
            " block1_conv1 (Conv2D)       (None, 224, 224, 64)      1792      \n",
            "                                                                 \n",
            " block1_conv2 (Conv2D)       (None, 224, 224, 64)      36928     \n",
            "                                                                 \n",
            " block1_pool (MaxPooling2D)  (None, 112, 112, 64)      0         \n",
            "                                                                 \n",
            " block2_conv1 (Conv2D)       (None, 112, 112, 128)     73856     \n",
            "                                                                 \n",
            " block2_conv2 (Conv2D)       (None, 112, 112, 128)     147584    \n",
            "                                                                 \n",
            " block2_pool (MaxPooling2D)  (None, 56, 56, 128)       0         \n",
            "                                                                 \n",
            " block3_conv1 (Conv2D)       (None, 56, 56, 256)       295168    \n",
            "                                                                 \n",
            " block3_conv2 (Conv2D)       (None, 56, 56, 256)       590080    \n",
            "                                                                 \n",
            " block3_conv3 (Conv2D)       (None, 56, 56, 256)       590080    \n",
            "                                                                 \n",
            " block3_pool (MaxPooling2D)  (None, 28, 28, 256)       0         \n",
            "                                                                 \n",
            " block4_conv1 (Conv2D)       (None, 28, 28, 512)       1180160   \n",
            "                                                                 \n",
            " block4_conv2 (Conv2D)       (None, 28, 28, 512)       2359808   \n",
            "                                                                 \n",
            " block4_conv3 (Conv2D)       (None, 28, 28, 512)       2359808   \n",
            "                                                                 \n",
            " block4_pool (MaxPooling2D)  (None, 14, 14, 512)       0         \n",
            "                                                                 \n",
            " block5_conv1 (Conv2D)       (None, 14, 14, 512)       2359808   \n",
            "                                                                 \n",
            " block5_conv2 (Conv2D)       (None, 14, 14, 512)       2359808   \n",
            "                                                                 \n",
            " block5_conv3 (Conv2D)       (None, 14, 14, 512)       2359808   \n",
            "                                                                 \n",
            " block5_pool (MaxPooling2D)  (None, 7, 7, 512)         0         \n",
            "                                                                 \n",
            " flatten (Flatten)           (None, 25088)             0         \n",
            "                                                                 \n",
            " fc1 (Dense)                 (None, 4096)              102764544 \n",
            "                                                                 \n",
            " fc2 (Dense)                 (None, 4096)              16781312  \n",
            "                                                                 \n",
            " predictions (Dense)         (None, 1000)              4097000   \n",
            "                                                                 \n",
            "=================================================================\n",
            "Total params: 138,357,544\n",
            "Trainable params: 138,357,544\n",
            "Non-trainable params: 0\n",
            "_________________________________________________________________\n",
            "None\n"
          ]
        }
      ],
      "source": [
        "from keras.applications.vgg16 import VGG16\n",
        "from tensorflow.keras.utils import plot_model\n",
        "model = VGG16()\n",
        "print(model.summary())\n",
        "#plot_model(model, to_file='vgg.png')"
      ]
    },
    {
      "cell_type": "code",
      "execution_count": 33,
      "id": "OaAGO96cKTEp",
      "metadata": {
        "id": "OaAGO96cKTEp"
      },
      "outputs": [],
      "source": [
        "import numpy as np\n",
        "from sklearn.utils import resample\n",
        "\n",
        "#obtém os dados\n",
        "fashion_mnist=keras.datasets.fashion_mnist\n",
        "(X_train_full, y_train_full), (X_test, y_test) = fashion_mnist.load_data()\n",
        "\n",
        "from sklearn.utils import resample\n",
        "X_train_full, y_train_full = resample(X_train_full,\n",
        "                                      y_train_full,\n",
        "                                      n_samples=10000,\n",
        "                                      random_state=0)"
      ]
    },
    {
      "cell_type": "code",
      "execution_count": 34,
      "id": "QGqyl3dWQQwi",
      "metadata": {
        "id": "QGqyl3dWQQwi"
      },
      "outputs": [],
      "source": [
        "X_valid, X_train = X_train_full[:1000]/255., X_train_full[1000:]/255.\n",
        "y_valid, y_train = y_train_full[:1000], y_train_full[1000:]"
      ]
    },
    {
      "cell_type": "code",
      "execution_count": 35,
      "id": "MV5xtz1_aXwd",
      "metadata": {
        "colab": {
          "base_uri": "https://localhost:8080/"
        },
        "id": "MV5xtz1_aXwd",
        "outputId": "edc4b39a-4983-4290-9943-4edcdc273e74"
      },
      "outputs": [
        {
          "name": "stdout",
          "output_type": "stream",
          "text": [
            "Dimensão dos documentos de treino:\n",
            "(9000, 28, 28, 3)\n"
          ]
        }
      ],
      "source": [
        "# e transforma um canal em preto-branco em três canais em preto-e-branco:\n",
        "# (necessário para entrada da VGG16)\n",
        "X_train=np.dstack([X_train]*3)\n",
        "X_valid=np.dstack([X_valid]*3)\n",
        "\n",
        "X_train = X_train.reshape(-1, 28, 28, 3)\n",
        "X_valid = X_valid.reshape(-1, 28, 28, 3)\n",
        "print(\"Dimensão dos documentos de treino:\")\n",
        "print(X_train.shape)"
      ]
    },
    {
      "cell_type": "code",
      "execution_count": 36,
      "id": "bX2u61TwUVeL",
      "metadata": {
        "colab": {
          "base_uri": "https://localhost:8080/"
        },
        "id": "bX2u61TwUVeL",
        "outputId": "4e61cb9c-1e8e-41d7-8bb2-576f7356f149"
      },
      "outputs": [
        {
          "data": {
            "text/plain": [
              "((9000, 48, 48, 3), (1000, 48, 48, 3))"
            ]
          },
          "execution_count": 36,
          "metadata": {},
          "output_type": "execute_result"
        }
      ],
      "source": [
        "# \"redimensiona o tamanho das imagens para\" 48x48 como requisito do VGG16 pré-treinado.\n",
        "# para mais informações, acesse: https://keras.io/api/applications/vgg/#vgg16-function\n",
        "\n",
        "from tensorflow.keras.utils import img_to_array, array_to_img\n",
        "X_train = np.asarray(\n",
        "    [img_to_array(array_to_img(im, scale=False).resize((48,48)))\n",
        "    for im in X_train]\n",
        "    )\n",
        "X_valid = np.asarray(\n",
        "    [img_to_array(array_to_img(im, scale=False).resize((48,48)))\n",
        "    for im in X_valid]\n",
        "    )\n",
        "\n",
        "X_train.shape, X_valid.shape"
      ]
    },
    {
      "cell_type": "code",
      "execution_count": 37,
      "id": "8tsFSrd2LSSY",
      "metadata": {
        "colab": {
          "base_uri": "https://localhost:8080/"
        },
        "id": "8tsFSrd2LSSY",
        "outputId": "ed463dcf-5181-4d42-b113-4e33e951032c"
      },
      "outputs": [
        {
          "name": "stdout",
          "output_type": "stream",
          "text": [
            "Model: \"vgg16\"\n",
            "_________________________________________________________________\n",
            " Layer (type)                Output Shape              Param #   \n",
            "=================================================================\n",
            " input_4 (InputLayer)        [(None, 48, 48, 3)]       0         \n",
            "                                                                 \n",
            " block1_conv1 (Conv2D)       (None, 48, 48, 64)        1792      \n",
            "                                                                 \n",
            " block1_conv2 (Conv2D)       (None, 48, 48, 64)        36928     \n",
            "                                                                 \n",
            " block1_pool (MaxPooling2D)  (None, 24, 24, 64)        0         \n",
            "                                                                 \n",
            " block2_conv1 (Conv2D)       (None, 24, 24, 128)       73856     \n",
            "                                                                 \n",
            " block2_conv2 (Conv2D)       (None, 24, 24, 128)       147584    \n",
            "                                                                 \n",
            " block2_pool (MaxPooling2D)  (None, 12, 12, 128)       0         \n",
            "                                                                 \n",
            " block3_conv1 (Conv2D)       (None, 12, 12, 256)       295168    \n",
            "                                                                 \n",
            " block3_conv2 (Conv2D)       (None, 12, 12, 256)       590080    \n",
            "                                                                 \n",
            " block3_conv3 (Conv2D)       (None, 12, 12, 256)       590080    \n",
            "                                                                 \n",
            " block3_pool (MaxPooling2D)  (None, 6, 6, 256)         0         \n",
            "                                                                 \n",
            " block4_conv1 (Conv2D)       (None, 6, 6, 512)         1180160   \n",
            "                                                                 \n",
            " block4_conv2 (Conv2D)       (None, 6, 6, 512)         2359808   \n",
            "                                                                 \n",
            " block4_conv3 (Conv2D)       (None, 6, 6, 512)         2359808   \n",
            "                                                                 \n",
            " block4_pool (MaxPooling2D)  (None, 3, 3, 512)         0         \n",
            "                                                                 \n",
            " block5_conv1 (Conv2D)       (None, 3, 3, 512)         2359808   \n",
            "                                                                 \n",
            " block5_conv2 (Conv2D)       (None, 3, 3, 512)         2359808   \n",
            "                                                                 \n",
            " block5_conv3 (Conv2D)       (None, 3, 3, 512)         2359808   \n",
            "                                                                 \n",
            " block5_pool (MaxPooling2D)  (None, 1, 1, 512)         0         \n",
            "                                                                 \n",
            "=================================================================\n",
            "Total params: 14,714,688\n",
            "Trainable params: 7,079,424\n",
            "Non-trainable params: 7,635,264\n",
            "_________________________________________________________________\n",
            "None\n"
          ]
        }
      ],
      "source": [
        "from keras.applications import VGG16\n",
        "#carrega o modelo VGG16\n",
        "vgg_model = VGG16(\n",
        "                weights='imagenet',\n",
        "                include_top=False,\n",
        "                input_shape=(48, 48, 3)\n",
        "                )\n",
        "\n",
        "# Seta as camadas iniciais para apenas leitura (não treináveis!)\n",
        "for layer in vgg_model.layers[:15]:\n",
        "    layer.trainable = False\n",
        "\n",
        "print(vgg_model.summary())"
      ]
    },
    {
      "cell_type": "code",
      "execution_count": 38,
      "id": "aTQHqPTkLuZC",
      "metadata": {
        "id": "aTQHqPTkLuZC"
      },
      "outputs": [],
      "source": [
        "#Obêm o modelo VGG e adiciona só duas camadas densas no topo do modelo para o treinamento.\n",
        "\n",
        "model=vgg_model.output\n",
        "topo_model = keras.layers.Flatten()(model)\n",
        "topo_model = keras.layers.Dense(1000, activation='relu')(topo_model)\n",
        "topo_model = keras.layers.Dense(10, activation='softmax')(topo_model) # Softmax for multiclass\n",
        "modelo_final = tf.keras.Model(inputs=vgg_model.input, outputs=topo_model)"
      ]
    },
    {
      "cell_type": "code",
      "execution_count": 39,
      "id": "ziLYM0MeOxyV",
      "metadata": {
        "colab": {
          "base_uri": "https://localhost:8080/"
        },
        "id": "ziLYM0MeOxyV",
        "outputId": "ffea4d1a-8098-4a23-cb24-8027c8e7c1ce"
      },
      "outputs": [
        {
          "name": "stdout",
          "output_type": "stream",
          "text": [
            "Model: \"model_2\"\n",
            "_________________________________________________________________\n",
            " Layer (type)                Output Shape              Param #   \n",
            "=================================================================\n",
            " input_4 (InputLayer)        [(None, 48, 48, 3)]       0         \n",
            "                                                                 \n",
            " block1_conv1 (Conv2D)       (None, 48, 48, 64)        1792      \n",
            "                                                                 \n",
            " block1_conv2 (Conv2D)       (None, 48, 48, 64)        36928     \n",
            "                                                                 \n",
            " block1_pool (MaxPooling2D)  (None, 24, 24, 64)        0         \n",
            "                                                                 \n",
            " block2_conv1 (Conv2D)       (None, 24, 24, 128)       73856     \n",
            "                                                                 \n",
            " block2_conv2 (Conv2D)       (None, 24, 24, 128)       147584    \n",
            "                                                                 \n",
            " block2_pool (MaxPooling2D)  (None, 12, 12, 128)       0         \n",
            "                                                                 \n",
            " block3_conv1 (Conv2D)       (None, 12, 12, 256)       295168    \n",
            "                                                                 \n",
            " block3_conv2 (Conv2D)       (None, 12, 12, 256)       590080    \n",
            "                                                                 \n",
            " block3_conv3 (Conv2D)       (None, 12, 12, 256)       590080    \n",
            "                                                                 \n",
            " block3_pool (MaxPooling2D)  (None, 6, 6, 256)         0         \n",
            "                                                                 \n",
            " block4_conv1 (Conv2D)       (None, 6, 6, 512)         1180160   \n",
            "                                                                 \n",
            " block4_conv2 (Conv2D)       (None, 6, 6, 512)         2359808   \n",
            "                                                                 \n",
            " block4_conv3 (Conv2D)       (None, 6, 6, 512)         2359808   \n",
            "                                                                 \n",
            " block4_pool (MaxPooling2D)  (None, 3, 3, 512)         0         \n",
            "                                                                 \n",
            " block5_conv1 (Conv2D)       (None, 3, 3, 512)         2359808   \n",
            "                                                                 \n",
            " block5_conv2 (Conv2D)       (None, 3, 3, 512)         2359808   \n",
            "                                                                 \n",
            " block5_conv3 (Conv2D)       (None, 3, 3, 512)         2359808   \n",
            "                                                                 \n",
            " block5_pool (MaxPooling2D)  (None, 1, 1, 512)         0         \n",
            "                                                                 \n",
            " flatten_2 (Flatten)         (None, 512)               0         \n",
            "                                                                 \n",
            " dense_4 (Dense)             (None, 1000)              513000    \n",
            "                                                                 \n",
            " dense_5 (Dense)             (None, 10)                10010     \n",
            "                                                                 \n",
            "=================================================================\n",
            "Total params: 15,237,698\n",
            "Trainable params: 7,602,434\n",
            "Non-trainable params: 7,635,264\n",
            "_________________________________________________________________\n",
            "None\n"
          ]
        }
      ],
      "source": [
        "print(modelo_final.summary())\n",
        "#plot_model(modelo_final, to_file='vgg.png')"
      ]
    },
    {
      "cell_type": "code",
      "execution_count": 40,
      "id": "yKTAMxPpMrbj",
      "metadata": {
        "colab": {
          "base_uri": "https://localhost:8080/"
        },
        "id": "yKTAMxPpMrbj",
        "outputId": "e301924e-a1e6-4668-9a2c-d14558b8b041"
      },
      "outputs": [
        {
          "name": "stdout",
          "output_type": "stream",
          "text": [
            "Epoch 1/50\n",
            "282/282 [==============================] - 13s 43ms/step - loss: 2.0653 - accuracy: 0.2369 - val_loss: 1.9425 - val_accuracy: 0.2470\n",
            "Epoch 2/50\n",
            "282/282 [==============================] - 12s 41ms/step - loss: 1.8783 - accuracy: 0.2917 - val_loss: 2.0217 - val_accuracy: 0.2570\n",
            "Epoch 3/50\n",
            "282/282 [==============================] - 12s 41ms/step - loss: 1.8121 - accuracy: 0.3264 - val_loss: 1.7488 - val_accuracy: 0.3520\n",
            "Epoch 4/50\n",
            "282/282 [==============================] - 12s 41ms/step - loss: 1.7563 - accuracy: 0.3419 - val_loss: 1.7910 - val_accuracy: 0.3190\n",
            "Epoch 5/50\n",
            "282/282 [==============================] - 12s 41ms/step - loss: 1.7125 - accuracy: 0.3628 - val_loss: 1.8904 - val_accuracy: 0.2770\n",
            "Epoch 6/50\n",
            "282/282 [==============================] - 12s 41ms/step - loss: 1.6765 - accuracy: 0.3813 - val_loss: 1.7507 - val_accuracy: 0.3580\n",
            "Epoch 7/50\n",
            "282/282 [==============================] - 12s 41ms/step - loss: 1.6551 - accuracy: 0.3882 - val_loss: 1.7085 - val_accuracy: 0.3890\n",
            "Epoch 8/50\n",
            "282/282 [==============================] - 12s 41ms/step - loss: 1.6344 - accuracy: 0.3999 - val_loss: 1.7095 - val_accuracy: 0.3740\n",
            "Epoch 9/50\n",
            "282/282 [==============================] - 12s 41ms/step - loss: 1.6010 - accuracy: 0.4113 - val_loss: 1.9196 - val_accuracy: 0.3180\n",
            "Epoch 10/50\n",
            "282/282 [==============================] - 12s 41ms/step - loss: 1.5815 - accuracy: 0.4137 - val_loss: 1.8885 - val_accuracy: 0.3300\n",
            "Epoch 11/50\n",
            "282/282 [==============================] - 12s 41ms/step - loss: 1.5605 - accuracy: 0.4237 - val_loss: 2.0036 - val_accuracy: 0.3310\n",
            "Epoch 12/50\n",
            "282/282 [==============================] - 12s 41ms/step - loss: 1.5464 - accuracy: 0.4301 - val_loss: 1.7216 - val_accuracy: 0.3650\n",
            "Epoch 13/50\n",
            "282/282 [==============================] - 12s 41ms/step - loss: 1.5210 - accuracy: 0.4386 - val_loss: 1.6619 - val_accuracy: 0.3960\n",
            "Epoch 14/50\n",
            "282/282 [==============================] - 12s 41ms/step - loss: 1.5044 - accuracy: 0.4434 - val_loss: 1.7613 - val_accuracy: 0.3550\n",
            "Epoch 15/50\n",
            "282/282 [==============================] - 12s 42ms/step - loss: 1.4859 - accuracy: 0.4499 - val_loss: 1.6946 - val_accuracy: 0.3840\n",
            "Epoch 16/50\n",
            "282/282 [==============================] - 12s 42ms/step - loss: 1.4701 - accuracy: 0.4580 - val_loss: 1.8822 - val_accuracy: 0.3100\n",
            "Epoch 17/50\n",
            "282/282 [==============================] - 12s 42ms/step - loss: 1.4560 - accuracy: 0.4620 - val_loss: 1.8308 - val_accuracy: 0.3700\n",
            "Epoch 18/50\n",
            "282/282 [==============================] - 12s 42ms/step - loss: 1.4421 - accuracy: 0.4684 - val_loss: 1.7921 - val_accuracy: 0.3710\n",
            "Epoch 19/50\n",
            "282/282 [==============================] - 12s 42ms/step - loss: 1.4252 - accuracy: 0.4762 - val_loss: 1.7017 - val_accuracy: 0.3920\n",
            "Epoch 20/50\n",
            "282/282 [==============================] - 12s 42ms/step - loss: 1.4171 - accuracy: 0.4738 - val_loss: 1.7435 - val_accuracy: 0.3530\n",
            "Epoch 21/50\n",
            "282/282 [==============================] - 12s 42ms/step - loss: 1.4005 - accuracy: 0.4859 - val_loss: 2.0948 - val_accuracy: 0.3280\n",
            "Epoch 22/50\n",
            "282/282 [==============================] - 12s 42ms/step - loss: 1.3882 - accuracy: 0.4863 - val_loss: 1.7987 - val_accuracy: 0.3710\n",
            "Epoch 23/50\n",
            "282/282 [==============================] - 12s 42ms/step - loss: 1.3662 - accuracy: 0.4963 - val_loss: 1.6669 - val_accuracy: 0.4130\n",
            "Epoch 24/50\n",
            "282/282 [==============================] - 12s 42ms/step - loss: 1.3589 - accuracy: 0.5017 - val_loss: 1.8067 - val_accuracy: 0.3820\n",
            "Epoch 25/50\n",
            "282/282 [==============================] - 12s 42ms/step - loss: 1.3510 - accuracy: 0.5020 - val_loss: 2.0093 - val_accuracy: 0.3470\n",
            "Epoch 26/50\n",
            "282/282 [==============================] - 12s 42ms/step - loss: 1.3367 - accuracy: 0.5027 - val_loss: 1.7209 - val_accuracy: 0.4170\n",
            "Epoch 27/50\n",
            "282/282 [==============================] - 12s 42ms/step - loss: 1.3261 - accuracy: 0.5138 - val_loss: 1.7774 - val_accuracy: 0.4230\n",
            "Epoch 28/50\n",
            "282/282 [==============================] - 12s 42ms/step - loss: 1.3104 - accuracy: 0.5171 - val_loss: 2.2169 - val_accuracy: 0.2990\n",
            "Epoch 29/50\n",
            "282/282 [==============================] - 12s 42ms/step - loss: 1.3080 - accuracy: 0.5210 - val_loss: 1.7340 - val_accuracy: 0.4140\n",
            "Epoch 30/50\n",
            "282/282 [==============================] - 12s 42ms/step - loss: 1.2914 - accuracy: 0.5233 - val_loss: 1.9595 - val_accuracy: 0.3750\n",
            "Epoch 31/50\n",
            "282/282 [==============================] - 12s 42ms/step - loss: 1.2766 - accuracy: 0.5278 - val_loss: 1.6984 - val_accuracy: 0.4390\n",
            "Epoch 32/50\n",
            "282/282 [==============================] - 12s 42ms/step - loss: 1.2609 - accuracy: 0.5350 - val_loss: 1.7742 - val_accuracy: 0.4290\n",
            "Epoch 33/50\n",
            "282/282 [==============================] - 12s 42ms/step - loss: 1.2582 - accuracy: 0.5374 - val_loss: 1.8575 - val_accuracy: 0.3940\n",
            "Epoch 34/50\n",
            "282/282 [==============================] - 12s 42ms/step - loss: 1.2533 - accuracy: 0.5336 - val_loss: 1.8429 - val_accuracy: 0.4190\n",
            "Epoch 35/50\n",
            "282/282 [==============================] - 12s 42ms/step - loss: 1.2390 - accuracy: 0.5462 - val_loss: 1.7600 - val_accuracy: 0.4180\n",
            "Epoch 36/50\n",
            "282/282 [==============================] - 12s 42ms/step - loss: 1.2299 - accuracy: 0.5477 - val_loss: 1.8733 - val_accuracy: 0.3900\n",
            "Epoch 37/50\n",
            "282/282 [==============================] - 12s 42ms/step - loss: 1.2211 - accuracy: 0.5503 - val_loss: 1.9795 - val_accuracy: 0.4000\n",
            "Epoch 38/50\n",
            "282/282 [==============================] - 12s 42ms/step - loss: 1.2218 - accuracy: 0.5462 - val_loss: 1.7749 - val_accuracy: 0.4200\n",
            "Epoch 39/50\n",
            "282/282 [==============================] - 12s 42ms/step - loss: 1.2110 - accuracy: 0.5561 - val_loss: 1.8017 - val_accuracy: 0.4130\n",
            "Epoch 40/50\n",
            "282/282 [==============================] - 12s 42ms/step - loss: 1.1914 - accuracy: 0.5637 - val_loss: 1.9071 - val_accuracy: 0.4000\n",
            "Epoch 41/50\n",
            "282/282 [==============================] - 12s 42ms/step - loss: 1.1933 - accuracy: 0.5582 - val_loss: 2.0291 - val_accuracy: 0.4050\n",
            "Epoch 42/50\n",
            "282/282 [==============================] - 12s 42ms/step - loss: 1.1859 - accuracy: 0.5614 - val_loss: 1.9135 - val_accuracy: 0.3950\n",
            "Epoch 43/50\n",
            "282/282 [==============================] - 12s 42ms/step - loss: 1.1807 - accuracy: 0.5647 - val_loss: 2.2110 - val_accuracy: 0.4160\n",
            "Epoch 44/50\n",
            "282/282 [==============================] - 12s 42ms/step - loss: 1.1748 - accuracy: 0.5709 - val_loss: 1.9576 - val_accuracy: 0.4450\n",
            "Epoch 45/50\n",
            "282/282 [==============================] - 12s 42ms/step - loss: 1.1709 - accuracy: 0.5686 - val_loss: 1.9587 - val_accuracy: 0.4060\n",
            "Epoch 46/50\n",
            "282/282 [==============================] - 12s 42ms/step - loss: 1.1650 - accuracy: 0.5672 - val_loss: 1.8996 - val_accuracy: 0.4210\n",
            "Epoch 47/50\n",
            "282/282 [==============================] - 12s 42ms/step - loss: 1.1548 - accuracy: 0.5721 - val_loss: 2.0284 - val_accuracy: 0.4030\n",
            "Epoch 48/50\n",
            "282/282 [==============================] - 12s 42ms/step - loss: 1.1473 - accuracy: 0.5769 - val_loss: 2.5245 - val_accuracy: 0.3530\n",
            "Epoch 49/50\n",
            "282/282 [==============================] - 12s 42ms/step - loss: 1.1549 - accuracy: 0.5723 - val_loss: 1.9677 - val_accuracy: 0.4250\n",
            "Epoch 50/50\n",
            "282/282 [==============================] - 12s 42ms/step - loss: 1.1420 - accuracy: 0.5800 - val_loss: 1.8946 - val_accuracy: 0.4290\n"
          ]
        }
      ],
      "source": [
        "modelo_final.compile(\n",
        "                loss=\"sparse_categorical_crossentropy\",\n",
        "                optimizer=\"sgd\",\n",
        "                metrics=[\"accuracy\"],\n",
        "                )\n",
        "history=modelo_final.fit(\n",
        "                X_train,\n",
        "                y_train,\n",
        "                epochs=50,\n",
        "                batch_size=32,\n",
        "                validation_data=(X_valid,y_valid)\n",
        "                )"
      ]
    },
    {
      "cell_type": "code",
      "execution_count": 41,
      "id": "9zUyNMP8Wt05",
      "metadata": {
        "id": "9zUyNMP8Wt05"
      },
      "outputs": [
        {
          "data": {
            "text/plain": [
              "dict_keys(['loss', 'accuracy', 'val_loss', 'val_accuracy'])"
            ]
          },
          "execution_count": 41,
          "metadata": {},
          "output_type": "execute_result"
        }
      ],
      "source": [
        "history.history.keys()"
      ]
    },
    {
      "cell_type": "code",
      "execution_count": 42,
      "id": "6aa1d1ab",
      "metadata": {},
      "outputs": [
        {
          "data": {
            "image/png": "[encoded data removed]",
            "text/plain": [
              "<Figure size 800x500 with 1 Axes>"
            ]
          },
          "metadata": {},
          "output_type": "display_data"
        }
      ],
      "source": [
        "import pandas as pd\n",
        "import matplotlib.pyplot as plt\n",
        "\n",
        "pd.DataFrame(history.history).plot(figsize=(8,5))\n",
        "plt.grid(True)\n",
        "plt.gca().set_ylim(0,3)\n",
        "plt.show()"
      ]
    },
    {
      "cell_type": "code",
      "execution_count": 43,
      "id": "a64ddbba",
      "metadata": {},
      "outputs": [
        {
          "data": {
            "text/plain": [
              "(10000, 48, 48, 3)"
            ]
          },
          "execution_count": 43,
          "metadata": {},
          "output_type": "execute_result"
        }
      ],
      "source": [
        "X_test=np.dstack([X_test]*3)\n",
        "X_test = X_test.reshape(-1, 28, 28, 3)\n",
        "X_test = np.asarray(\n",
        "    [img_to_array(array_to_img(im, scale=False).resize((48,48)))\n",
        "    for im in X_test]\n",
        "    )\n",
        "X_test.shape"
      ]
    },
    {
      "cell_type": "code",
      "execution_count": 44,
      "id": "03ddfa6c",
      "metadata": {},
      "outputs": [
        {
          "name": "stdout",
          "output_type": "stream",
          "text": [
            "313/313 [==============================] - 7s 24ms/step - loss: 3.5493 - accuracy: 0.4304\n"
          ]
        },
        {
          "data": {
            "text/plain": [
              "[3.5493414402008057, 0.430400013923645]"
            ]
          },
          "execution_count": 44,
          "metadata": {},
          "output_type": "execute_result"
        }
      ],
      "source": [
        "modelo_final.evaluate(X_test/255.,y_test)"
      ]
    },
    {
      "cell_type": "code",
      "execution_count": null,
      "id": "7947414a",
      "metadata": {},
      "outputs": [],
      "source": []
    }
  ],
  "metadata": {
    "colab": {
      "provenance": []
    },
    "kernelspec": {
      "display_name": "Python 3 (ipykernel)",
      "language": "python",
      "name": "python3"
    },
    "language_info": {
      "codemirror_mode": {
        "name": "ipython",
        "version": 3
      },
      "file_extension": ".py",
      "mimetype": "text/x-python",
      "name": "python",
      "nbconvert_exporter": "python",
      "pygments_lexer": "ipython3",
      "version": "3.10.14"
    }
  },
  "nbformat": 4,
  "nbformat_minor": 5
}
