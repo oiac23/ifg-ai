{
  "cells": [
    {
      "cell_type": "markdown",
      "id": "kE_Y1Dy2P9J1",
      "metadata": {
        "id": "kE_Y1Dy2P9J1"
      },
      "source": [
        "**Código-exemplo para disciplina de Deep Learning: Convolução**\n",
        "\n",
        "Código para aproveitamento dos treinos já aprendidos pela VGG16. Para outras redes, acesse: https://keras.io/api/applications/\n",
        "\n",
        "Abril/2023\n",
        "\n",
        "Professor: Sérgio Canuto\n",
        "\n"
      ]
    },
    {
      "cell_type": "code",
      "execution_count": 1,
      "id": "f02d0346",
      "metadata": {
        "id": "f02d0346"
      },
      "outputs": [],
      "source": [
        "import tensorflow as tf\n",
        "from tensorflow import keras\n",
        "import warnings\n",
        "warnings.filterwarnings(\"ignore\")"
      ]
    },
    {
      "cell_type": "code",
      "execution_count": 2,
      "id": "8c681661",
      "metadata": {
        "colab": {
          "base_uri": "https://localhost:8080/",
          "height": 35
        },
        "id": "8c681661",
        "outputId": "342f8f1d-749a-4dfe-d962-d90822e348a1"
      },
      "outputs": [
        {
          "data": {
            "text/plain": [
              "'2.10.0'"
            ]
          },
          "execution_count": 2,
          "metadata": {},
          "output_type": "execute_result"
        }
      ],
      "source": [
        "tf.__version__"
      ]
    },
    {
      "cell_type": "code",
      "execution_count": 3,
      "id": "40815a63",
      "metadata": {
        "id": "40815a63",
        "scrolled": true
      },
      "outputs": [
        {
          "data": {
            "text/plain": [
              "'2.10.0'"
            ]
          },
          "execution_count": 3,
          "metadata": {},
          "output_type": "execute_result"
        }
      ],
      "source": [
        "keras.__version__"
      ]
    },
    {
      "cell_type": "markdown",
      "id": "Z8GAjiXBQmAU",
      "metadata": {
        "id": "Z8GAjiXBQmAU"
      },
      "source": [
        "**Compatibilidade com a versão 1 do tensorflow: Habilita recursos do tensorboard**\n",
        "\n",
        "\n"
      ]
    },
    {
      "cell_type": "code",
      "execution_count": 4,
      "id": "6a089648",
      "metadata": {
        "colab": {
          "base_uri": "https://localhost:8080/"
        },
        "id": "6a089648",
        "outputId": "ecb21116-149b-4c29-9910-efeaee5d8e4d"
      },
      "outputs": [],
      "source": [
        "#tf.compat.v1.disable_v2_behavior()"
      ]
    },
    {
      "cell_type": "code",
      "execution_count": 5,
      "id": "pAcS_FTSJtNs",
      "metadata": {
        "id": "pAcS_FTSJtNs"
      },
      "outputs": [
        {
          "name": "stdout",
          "output_type": "stream",
          "text": [
            "Model: \"vgg16\"\n",
            "_________________________________________________________________\n",
            " Layer (type)                Output Shape              Param #   \n",
            "=================================================================\n",
            " input_1 (InputLayer)        [(None, 224, 224, 3)]     0         \n",
            "                                                                 \n",
            " block1_conv1 (Conv2D)       (None, 224, 224, 64)      1792      \n",
            "                                                                 \n",
            " block1_conv2 (Conv2D)       (None, 224, 224, 64)      36928     \n",
            "                                                                 \n",
            " block1_pool (MaxPooling2D)  (None, 112, 112, 64)      0         \n",
            "                                                                 \n",
            " block2_conv1 (Conv2D)       (None, 112, 112, 128)     73856     \n",
            "                                                                 \n",
            " block2_conv2 (Conv2D)       (None, 112, 112, 128)     147584    \n",
            "                                                                 \n",
            " block2_pool (MaxPooling2D)  (None, 56, 56, 128)       0         \n",
            "                                                                 \n",
            " block3_conv1 (Conv2D)       (None, 56, 56, 256)       295168    \n",
            "                                                                 \n",
            " block3_conv2 (Conv2D)       (None, 56, 56, 256)       590080    \n",
            "                                                                 \n",
            " block3_conv3 (Conv2D)       (None, 56, 56, 256)       590080    \n",
            "                                                                 \n",
            " block3_pool (MaxPooling2D)  (None, 28, 28, 256)       0         \n",
            "                                                                 \n",
            " block4_conv1 (Conv2D)       (None, 28, 28, 512)       1180160   \n",
            "                                                                 \n",
            " block4_conv2 (Conv2D)       (None, 28, 28, 512)       2359808   \n",
            "                                                                 \n",
            " block4_conv3 (Conv2D)       (None, 28, 28, 512)       2359808   \n",
            "                                                                 \n",
            " block4_pool (MaxPooling2D)  (None, 14, 14, 512)       0         \n",
            "                                                                 \n",
            " block5_conv1 (Conv2D)       (None, 14, 14, 512)       2359808   \n",
            "                                                                 \n",
            " block5_conv2 (Conv2D)       (None, 14, 14, 512)       2359808   \n",
            "                                                                 \n",
            " block5_conv3 (Conv2D)       (None, 14, 14, 512)       2359808   \n",
            "                                                                 \n",
            " block5_pool (MaxPooling2D)  (None, 7, 7, 512)         0         \n",
            "                                                                 \n",
            " flatten (Flatten)           (None, 25088)             0         \n",
            "                                                                 \n",
            " fc1 (Dense)                 (None, 4096)              102764544 \n",
            "                                                                 \n",
            " fc2 (Dense)                 (None, 4096)              16781312  \n",
            "                                                                 \n",
            " predictions (Dense)         (None, 1000)              4097000   \n",
            "                                                                 \n",
            "=================================================================\n",
            "Total params: 138,357,544\n",
            "Trainable params: 138,357,544\n",
            "Non-trainable params: 0\n",
            "_________________________________________________________________\n",
            "None\n"
          ]
        }
      ],
      "source": [
        "from keras.applications.vgg16 import VGG16\n",
        "from tensorflow.keras.utils import plot_model\n",
        "model = VGG16()\n",
        "print(model.summary())\n",
        "#plot_model(model, to_file='vgg.png')"
      ]
    },
    {
      "cell_type": "code",
      "execution_count": 6,
      "id": "OaAGO96cKTEp",
      "metadata": {
        "id": "OaAGO96cKTEp"
      },
      "outputs": [],
      "source": [
        "import numpy as np\n",
        "from sklearn.utils import resample\n",
        "\n",
        "#obtém os dados\n",
        "fashion_mnist=keras.datasets.fashion_mnist\n",
        "(X_train_full, y_train_full), (X_test, y_test) = fashion_mnist.load_data()\n",
        "\n",
        "from sklearn.utils import resample\n",
        "X_train_full, y_train_full = resample(X_train_full,\n",
        "                                      y_train_full,\n",
        "                                      n_samples=10000,\n",
        "                                      random_state=0)"
      ]
    },
    {
      "cell_type": "code",
      "execution_count": 7,
      "id": "QGqyl3dWQQwi",
      "metadata": {
        "id": "QGqyl3dWQQwi"
      },
      "outputs": [],
      "source": [
        "X_valid, X_train = X_train_full[:1000]/255., X_train_full[1000:]/255.\n",
        "y_valid, y_train = y_train_full[:1000], y_train_full[1000:]"
      ]
    },
    {
      "cell_type": "code",
      "execution_count": 8,
      "id": "MV5xtz1_aXwd",
      "metadata": {
        "colab": {
          "base_uri": "https://localhost:8080/"
        },
        "id": "MV5xtz1_aXwd",
        "outputId": "edc4b39a-4983-4290-9943-4edcdc273e74"
      },
      "outputs": [
        {
          "name": "stdout",
          "output_type": "stream",
          "text": [
            "Dimensão dos documentos de treino:\n",
            "(9000, 28, 28, 3)\n"
          ]
        }
      ],
      "source": [
        "# e transforma um canal em preto-branco em três canais em preto-e-branco:\n",
        "# (necessário para entrada da VGG16)\n",
        "X_train=np.dstack([X_train]*3)\n",
        "X_valid=np.dstack([X_valid]*3)\n",
        "\n",
        "X_train = X_train.reshape(-1, 28, 28, 3)\n",
        "X_valid = X_valid.reshape(-1, 28, 28, 3)\n",
        "print(\"Dimensão dos documentos de treino:\")\n",
        "print(X_train.shape)"
      ]
    },
    {
      "cell_type": "code",
      "execution_count": 9,
      "id": "bX2u61TwUVeL",
      "metadata": {
        "colab": {
          "base_uri": "https://localhost:8080/"
        },
        "id": "bX2u61TwUVeL",
        "outputId": "4e61cb9c-1e8e-41d7-8bb2-576f7356f149"
      },
      "outputs": [
        {
          "data": {
            "text/plain": [
              "((9000, 48, 48, 3), (1000, 48, 48, 3))"
            ]
          },
          "execution_count": 9,
          "metadata": {},
          "output_type": "execute_result"
        }
      ],
      "source": [
        "# \"redimensiona o tamanho das imagens para\" 48x48 como requisito do VGG16 pré-treinado.\n",
        "# para mais informações, acesse: https://keras.io/api/applications/vgg/#vgg16-function\n",
        "\n",
        "from tensorflow.keras.utils import img_to_array, array_to_img\n",
        "X_train = np.asarray(\n",
        "    [img_to_array(array_to_img(im, scale=False).resize((48,48)))\n",
        "    for im in X_train]\n",
        "    )\n",
        "X_valid = np.asarray(\n",
        "    [img_to_array(array_to_img(im, scale=False).resize((48,48)))\n",
        "    for im in X_valid]\n",
        "    )\n",
        "\n",
        "X_train.shape, X_valid.shape"
      ]
    },
    {
      "cell_type": "code",
      "execution_count": 10,
      "id": "8tsFSrd2LSSY",
      "metadata": {
        "colab": {
          "base_uri": "https://localhost:8080/"
        },
        "id": "8tsFSrd2LSSY",
        "outputId": "ed463dcf-5181-4d42-b113-4e33e951032c"
      },
      "outputs": [
        {
          "name": "stdout",
          "output_type": "stream",
          "text": [
            "Model: \"vgg16\"\n",
            "_________________________________________________________________\n",
            " Layer (type)                Output Shape              Param #   \n",
            "=================================================================\n",
            " input_2 (InputLayer)        [(None, 48, 48, 3)]       0         \n",
            "                                                                 \n",
            " block1_conv1 (Conv2D)       (None, 48, 48, 64)        1792      \n",
            "                                                                 \n",
            " block1_conv2 (Conv2D)       (None, 48, 48, 64)        36928     \n",
            "                                                                 \n",
            " block1_pool (MaxPooling2D)  (None, 24, 24, 64)        0         \n",
            "                                                                 \n",
            " block2_conv1 (Conv2D)       (None, 24, 24, 128)       73856     \n",
            "                                                                 \n",
            " block2_conv2 (Conv2D)       (None, 24, 24, 128)       147584    \n",
            "                                                                 \n",
            " block2_pool (MaxPooling2D)  (None, 12, 12, 128)       0         \n",
            "                                                                 \n",
            " block3_conv1 (Conv2D)       (None, 12, 12, 256)       295168    \n",
            "                                                                 \n",
            " block3_conv2 (Conv2D)       (None, 12, 12, 256)       590080    \n",
            "                                                                 \n",
            " block3_conv3 (Conv2D)       (None, 12, 12, 256)       590080    \n",
            "                                                                 \n",
            " block3_pool (MaxPooling2D)  (None, 6, 6, 256)         0         \n",
            "                                                                 \n",
            " block4_conv1 (Conv2D)       (None, 6, 6, 512)         1180160   \n",
            "                                                                 \n",
            " block4_conv2 (Conv2D)       (None, 6, 6, 512)         2359808   \n",
            "                                                                 \n",
            " block4_conv3 (Conv2D)       (None, 6, 6, 512)         2359808   \n",
            "                                                                 \n",
            " block4_pool (MaxPooling2D)  (None, 3, 3, 512)         0         \n",
            "                                                                 \n",
            " block5_conv1 (Conv2D)       (None, 3, 3, 512)         2359808   \n",
            "                                                                 \n",
            " block5_conv2 (Conv2D)       (None, 3, 3, 512)         2359808   \n",
            "                                                                 \n",
            " block5_conv3 (Conv2D)       (None, 3, 3, 512)         2359808   \n",
            "                                                                 \n",
            " block5_pool (MaxPooling2D)  (None, 1, 1, 512)         0         \n",
            "                                                                 \n",
            "=================================================================\n",
            "Total params: 14,714,688\n",
            "Trainable params: 7,079,424\n",
            "Non-trainable params: 7,635,264\n",
            "_________________________________________________________________\n",
            "None\n"
          ]
        }
      ],
      "source": [
        "from keras.applications import VGG16\n",
        "#carrega o modelo VGG16\n",
        "vgg_model = VGG16(\n",
        "                weights='imagenet',\n",
        "                include_top=False,\n",
        "                input_shape=(48, 48, 3)\n",
        "                )\n",
        "\n",
        "# Seta as camadas iniciais para apenas leitura (não treináveis!)\n",
        "for layer in vgg_model.layers[:15]:\n",
        "    layer.trainable = False\n",
        "\n",
        "print(vgg_model.summary())"
      ]
    },
    {
      "cell_type": "code",
      "execution_count": 11,
      "id": "aTQHqPTkLuZC",
      "metadata": {
        "id": "aTQHqPTkLuZC"
      },
      "outputs": [],
      "source": [
        "#Obêm o modelo VGG e adiciona só duas camadas densas no topo do modelo para o treinamento.\n",
        "model=vgg_model.output\n",
        "topo_model = keras.layers.Flatten()(model)\n",
        "topo_model = keras.layers.Dense(100, activation='relu')(topo_model)\n",
        "topo_model = keras.layers.Dense(10, activation='softmax')(topo_model) # Softmax for multiclass\n",
        "modelo_final = tf.keras.Model(inputs=vgg_model.input, outputs=topo_model)"
      ]
    },
    {
      "cell_type": "code",
      "execution_count": 12,
      "id": "ziLYM0MeOxyV",
      "metadata": {
        "colab": {
          "base_uri": "https://localhost:8080/"
        },
        "id": "ziLYM0MeOxyV",
        "outputId": "ffea4d1a-8098-4a23-cb24-8027c8e7c1ce"
      },
      "outputs": [
        {
          "name": "stdout",
          "output_type": "stream",
          "text": [
            "Model: \"model\"\n",
            "_________________________________________________________________\n",
            " Layer (type)                Output Shape              Param #   \n",
            "=================================================================\n",
            " input_2 (InputLayer)        [(None, 48, 48, 3)]       0         \n",
            "                                                                 \n",
            " block1_conv1 (Conv2D)       (None, 48, 48, 64)        1792      \n",
            "                                                                 \n",
            " block1_conv2 (Conv2D)       (None, 48, 48, 64)        36928     \n",
            "                                                                 \n",
            " block1_pool (MaxPooling2D)  (None, 24, 24, 64)        0         \n",
            "                                                                 \n",
            " block2_conv1 (Conv2D)       (None, 24, 24, 128)       73856     \n",
            "                                                                 \n",
            " block2_conv2 (Conv2D)       (None, 24, 24, 128)       147584    \n",
            "                                                                 \n",
            " block2_pool (MaxPooling2D)  (None, 12, 12, 128)       0         \n",
            "                                                                 \n",
            " block3_conv1 (Conv2D)       (None, 12, 12, 256)       295168    \n",
            "                                                                 \n",
            " block3_conv2 (Conv2D)       (None, 12, 12, 256)       590080    \n",
            "                                                                 \n",
            " block3_conv3 (Conv2D)       (None, 12, 12, 256)       590080    \n",
            "                                                                 \n",
            " block3_pool (MaxPooling2D)  (None, 6, 6, 256)         0         \n",
            "                                                                 \n",
            " block4_conv1 (Conv2D)       (None, 6, 6, 512)         1180160   \n",
            "                                                                 \n",
            " block4_conv2 (Conv2D)       (None, 6, 6, 512)         2359808   \n",
            "                                                                 \n",
            " block4_conv3 (Conv2D)       (None, 6, 6, 512)         2359808   \n",
            "                                                                 \n",
            " block4_pool (MaxPooling2D)  (None, 3, 3, 512)         0         \n",
            "                                                                 \n",
            " block5_conv1 (Conv2D)       (None, 3, 3, 512)         2359808   \n",
            "                                                                 \n",
            " block5_conv2 (Conv2D)       (None, 3, 3, 512)         2359808   \n",
            "                                                                 \n",
            " block5_conv3 (Conv2D)       (None, 3, 3, 512)         2359808   \n",
            "                                                                 \n",
            " block5_pool (MaxPooling2D)  (None, 1, 1, 512)         0         \n",
            "                                                                 \n",
            " flatten (Flatten)           (None, 512)               0         \n",
            "                                                                 \n",
            " dense (Dense)               (None, 100)               51300     \n",
            "                                                                 \n",
            " dense_1 (Dense)             (None, 10)                1010      \n",
            "                                                                 \n",
            "=================================================================\n",
            "Total params: 14,766,998\n",
            "Trainable params: 7,131,734\n",
            "Non-trainable params: 7,635,264\n",
            "_________________________________________________________________\n",
            "None\n"
          ]
        }
      ],
      "source": [
        "print(modelo_final.summary())\n",
        "#plot_model(modelo_final, to_file='vgg.png')"
      ]
    },
    {
      "cell_type": "code",
      "execution_count": 13,
      "id": "yKTAMxPpMrbj",
      "metadata": {
        "colab": {
          "base_uri": "https://localhost:8080/"
        },
        "id": "yKTAMxPpMrbj",
        "outputId": "e301924e-a1e6-4668-9a2c-d14558b8b041"
      },
      "outputs": [
        {
          "name": "stdout",
          "output_type": "stream",
          "text": [
            "Epoch 1/200\n",
            "282/282 [==============================] - 17s 45ms/step - loss: 2.0605 - accuracy: 0.2363 - val_loss: 1.9711 - val_accuracy: 0.2460\n",
            "Epoch 2/200\n",
            "282/282 [==============================] - 12s 41ms/step - loss: 1.8746 - accuracy: 0.2988 - val_loss: 1.8968 - val_accuracy: 0.2870\n",
            "Epoch 3/200\n",
            "282/282 [==============================] - 11s 41ms/step - loss: 1.7970 - accuracy: 0.3306 - val_loss: 1.9206 - val_accuracy: 0.2800\n",
            "Epoch 4/200\n",
            "282/282 [==============================] - 11s 41ms/step - loss: 1.7546 - accuracy: 0.3528 - val_loss: 1.9731 - val_accuracy: 0.2600\n",
            "Epoch 5/200\n",
            "282/282 [==============================] - 11s 40ms/step - loss: 1.7115 - accuracy: 0.3639 - val_loss: 1.7988 - val_accuracy: 0.3230\n",
            "Epoch 6/200\n",
            "282/282 [==============================] - 11s 40ms/step - loss: 1.6807 - accuracy: 0.3796 - val_loss: 2.1088 - val_accuracy: 0.2500\n",
            "Epoch 7/200\n",
            "282/282 [==============================] - 12s 42ms/step - loss: 1.6455 - accuracy: 0.3957 - val_loss: 1.7911 - val_accuracy: 0.3310\n",
            "Epoch 8/200\n",
            "282/282 [==============================] - 12s 42ms/step - loss: 1.6275 - accuracy: 0.3962 - val_loss: 1.7443 - val_accuracy: 0.3660\n",
            "Epoch 9/200\n",
            "282/282 [==============================] - 12s 41ms/step - loss: 1.5978 - accuracy: 0.4120 - val_loss: 1.9184 - val_accuracy: 0.3160\n",
            "Epoch 10/200\n",
            "282/282 [==============================] - 12s 41ms/step - loss: 1.5716 - accuracy: 0.4194 - val_loss: 1.8018 - val_accuracy: 0.3620\n",
            "Epoch 11/200\n",
            "282/282 [==============================] - 12s 41ms/step - loss: 1.5542 - accuracy: 0.4300 - val_loss: 1.9355 - val_accuracy: 0.2970\n",
            "Epoch 12/200\n",
            "282/282 [==============================] - 12s 41ms/step - loss: 1.5354 - accuracy: 0.4309 - val_loss: 1.8193 - val_accuracy: 0.3490\n",
            "Epoch 13/200\n",
            "282/282 [==============================] - 12s 41ms/step - loss: 1.5214 - accuracy: 0.4394 - val_loss: 2.1082 - val_accuracy: 0.3030\n",
            "Epoch 14/200\n",
            "282/282 [==============================] - 12s 41ms/step - loss: 1.4955 - accuracy: 0.4521 - val_loss: 1.8001 - val_accuracy: 0.3590\n",
            "Epoch 15/200\n",
            "282/282 [==============================] - 12s 43ms/step - loss: 1.4829 - accuracy: 0.4549 - val_loss: 1.8417 - val_accuracy: 0.3320\n",
            "Epoch 16/200\n",
            "282/282 [==============================] - 12s 43ms/step - loss: 1.4684 - accuracy: 0.4562 - val_loss: 1.8680 - val_accuracy: 0.3120\n",
            "Epoch 17/200\n",
            "282/282 [==============================] - 12s 42ms/step - loss: 1.4483 - accuracy: 0.4651 - val_loss: 1.8203 - val_accuracy: 0.3820\n",
            "Epoch 18/200\n",
            "282/282 [==============================] - 12s 43ms/step - loss: 1.4325 - accuracy: 0.4736 - val_loss: 1.6884 - val_accuracy: 0.4060\n",
            "Epoch 19/200\n",
            "282/282 [==============================] - 12s 42ms/step - loss: 1.4168 - accuracy: 0.4748 - val_loss: 1.7599 - val_accuracy: 0.3640\n",
            "Epoch 20/200\n",
            "282/282 [==============================] - 12s 43ms/step - loss: 1.3987 - accuracy: 0.4887 - val_loss: 1.7291 - val_accuracy: 0.4080\n",
            "Epoch 21/200\n",
            "282/282 [==============================] - 12s 42ms/step - loss: 1.3838 - accuracy: 0.4892 - val_loss: 1.6838 - val_accuracy: 0.4190\n",
            "Epoch 22/200\n",
            "282/282 [==============================] - 12s 43ms/step - loss: 1.3749 - accuracy: 0.4923 - val_loss: 1.7093 - val_accuracy: 0.3990\n",
            "Epoch 23/200\n",
            "282/282 [==============================] - 12s 42ms/step - loss: 1.3624 - accuracy: 0.5014 - val_loss: 1.7003 - val_accuracy: 0.4010\n",
            "Epoch 24/200\n",
            "282/282 [==============================] - 12s 42ms/step - loss: 1.3472 - accuracy: 0.5018 - val_loss: 1.7593 - val_accuracy: 0.3680\n",
            "Epoch 25/200\n",
            "282/282 [==============================] - 12s 42ms/step - loss: 1.3351 - accuracy: 0.5088 - val_loss: 2.4075 - val_accuracy: 0.3240\n",
            "Epoch 26/200\n",
            "282/282 [==============================] - 11s 40ms/step - loss: 1.3294 - accuracy: 0.5103 - val_loss: 1.7103 - val_accuracy: 0.4200\n",
            "Epoch 27/200\n",
            "282/282 [==============================] - 11s 41ms/step - loss: 1.3035 - accuracy: 0.5182 - val_loss: 1.8409 - val_accuracy: 0.3740\n",
            "Epoch 28/200\n",
            "282/282 [==============================] - 12s 42ms/step - loss: 1.3011 - accuracy: 0.5220 - val_loss: 1.7335 - val_accuracy: 0.4160\n",
            "Epoch 29/200\n",
            "282/282 [==============================] - 12s 41ms/step - loss: 1.2849 - accuracy: 0.5323 - val_loss: 1.9210 - val_accuracy: 0.3900\n",
            "Epoch 30/200\n",
            "282/282 [==============================] - 12s 41ms/step - loss: 1.2837 - accuracy: 0.5298 - val_loss: 1.8148 - val_accuracy: 0.3950\n",
            "Epoch 31/200\n",
            "282/282 [==============================] - 12s 41ms/step - loss: 1.2688 - accuracy: 0.5320 - val_loss: 1.7853 - val_accuracy: 0.4170\n",
            "Epoch 32/200\n",
            "282/282 [==============================] - 12s 43ms/step - loss: 1.2506 - accuracy: 0.5403 - val_loss: 1.8259 - val_accuracy: 0.4230\n",
            "Epoch 33/200\n",
            "282/282 [==============================] - 12s 42ms/step - loss: 1.2406 - accuracy: 0.5446 - val_loss: 1.9655 - val_accuracy: 0.3720\n",
            "Epoch 34/200\n",
            "282/282 [==============================] - 12s 43ms/step - loss: 1.2342 - accuracy: 0.5453 - val_loss: 1.8434 - val_accuracy: 0.4310\n",
            "Epoch 35/200\n",
            "282/282 [==============================] - 12s 43ms/step - loss: 1.2246 - accuracy: 0.5480 - val_loss: 1.8719 - val_accuracy: 0.4300\n",
            "Epoch 36/200\n",
            "282/282 [==============================] - 12s 42ms/step - loss: 1.2178 - accuracy: 0.5522 - val_loss: 1.7756 - val_accuracy: 0.4300\n",
            "Epoch 37/200\n",
            "282/282 [==============================] - 12s 43ms/step - loss: 1.2097 - accuracy: 0.5522 - val_loss: 1.8651 - val_accuracy: 0.3940\n",
            "Epoch 38/200\n",
            "282/282 [==============================] - 12s 43ms/step - loss: 1.2002 - accuracy: 0.5578 - val_loss: 2.2989 - val_accuracy: 0.3620\n",
            "Epoch 39/200\n",
            "282/282 [==============================] - 12s 43ms/step - loss: 1.2007 - accuracy: 0.5560 - val_loss: 1.9204 - val_accuracy: 0.4230\n",
            "Epoch 40/200\n",
            "282/282 [==============================] - 12s 43ms/step - loss: 1.1884 - accuracy: 0.5589 - val_loss: 1.8592 - val_accuracy: 0.4200\n",
            "Epoch 41/200\n",
            "282/282 [==============================] - 12s 43ms/step - loss: 1.1798 - accuracy: 0.5704 - val_loss: 2.0416 - val_accuracy: 0.3990\n",
            "Epoch 42/200\n",
            "282/282 [==============================] - 12s 43ms/step - loss: 1.1680 - accuracy: 0.5707 - val_loss: 1.8679 - val_accuracy: 0.4350\n",
            "Epoch 43/200\n",
            "282/282 [==============================] - 12s 43ms/step - loss: 1.1616 - accuracy: 0.5706 - val_loss: 1.9216 - val_accuracy: 0.4130\n",
            "Epoch 44/200\n",
            "282/282 [==============================] - 12s 44ms/step - loss: 1.1556 - accuracy: 0.5747 - val_loss: 2.2411 - val_accuracy: 0.3870\n",
            "Epoch 45/200\n",
            "282/282 [==============================] - 12s 44ms/step - loss: 1.1645 - accuracy: 0.5717 - val_loss: 1.9239 - val_accuracy: 0.3910\n",
            "Epoch 46/200\n",
            "282/282 [==============================] - 12s 43ms/step - loss: 1.1514 - accuracy: 0.5754 - val_loss: 1.9696 - val_accuracy: 0.4320\n",
            "Epoch 47/200\n",
            "282/282 [==============================] - 12s 43ms/step - loss: 1.1446 - accuracy: 0.5789 - val_loss: 1.9113 - val_accuracy: 0.4360\n",
            "Epoch 48/200\n",
            "282/282 [==============================] - 12s 42ms/step - loss: 1.1369 - accuracy: 0.5829 - val_loss: 2.0187 - val_accuracy: 0.4090\n",
            "Epoch 49/200\n",
            "282/282 [==============================] - 12s 43ms/step - loss: 1.1307 - accuracy: 0.5800 - val_loss: 2.1387 - val_accuracy: 0.3890\n",
            "Epoch 50/200\n",
            "282/282 [==============================] - 13s 45ms/step - loss: 1.1241 - accuracy: 0.5834 - val_loss: 1.9390 - val_accuracy: 0.3960\n",
            "Epoch 51/200\n",
            "282/282 [==============================] - 12s 42ms/step - loss: 1.1196 - accuracy: 0.5906 - val_loss: 1.9796 - val_accuracy: 0.4250\n",
            "Epoch 52/200\n",
            "282/282 [==============================] - 12s 42ms/step - loss: 1.1223 - accuracy: 0.5807 - val_loss: 1.9518 - val_accuracy: 0.3970\n",
            "Epoch 53/200\n",
            "282/282 [==============================] - 12s 43ms/step - loss: 1.1127 - accuracy: 0.5832 - val_loss: 1.9884 - val_accuracy: 0.4230\n",
            "Epoch 54/200\n",
            "282/282 [==============================] - 12s 42ms/step - loss: 1.1090 - accuracy: 0.5844 - val_loss: 2.0956 - val_accuracy: 0.4090\n",
            "Epoch 55/200\n",
            "282/282 [==============================] - 12s 41ms/step - loss: 1.1047 - accuracy: 0.5927 - val_loss: 2.0467 - val_accuracy: 0.4050\n",
            "Epoch 56/200\n",
            "282/282 [==============================] - 12s 41ms/step - loss: 1.0991 - accuracy: 0.5911 - val_loss: 2.0346 - val_accuracy: 0.4270\n",
            "Epoch 57/200\n",
            "282/282 [==============================] - 12s 42ms/step - loss: 1.0971 - accuracy: 0.5919 - val_loss: 2.0185 - val_accuracy: 0.4280\n",
            "Epoch 58/200\n",
            "282/282 [==============================] - 12s 43ms/step - loss: 1.0978 - accuracy: 0.5931 - val_loss: 2.0223 - val_accuracy: 0.4280\n",
            "Epoch 59/200\n",
            "282/282 [==============================] - 12s 42ms/step - loss: 1.0826 - accuracy: 0.5972 - val_loss: 2.1761 - val_accuracy: 0.4230\n",
            "Epoch 60/200\n",
            "282/282 [==============================] - 12s 43ms/step - loss: 1.0816 - accuracy: 0.5994 - val_loss: 2.1398 - val_accuracy: 0.4400\n",
            "Epoch 61/200\n",
            "282/282 [==============================] - 12s 41ms/step - loss: 1.0772 - accuracy: 0.5962 - val_loss: 2.0779 - val_accuracy: 0.4300\n",
            "Epoch 62/200\n",
            "282/282 [==============================] - 12s 41ms/step - loss: 1.0966 - accuracy: 0.5932 - val_loss: 2.0612 - val_accuracy: 0.4020\n",
            "Epoch 63/200\n",
            "282/282 [==============================] - 12s 42ms/step - loss: 1.1086 - accuracy: 0.5867 - val_loss: 2.1783 - val_accuracy: 0.3920\n",
            "Epoch 64/200\n",
            "282/282 [==============================] - 12s 44ms/step - loss: 1.0723 - accuracy: 0.5991 - val_loss: 2.0689 - val_accuracy: 0.4240\n",
            "Epoch 65/200\n",
            "282/282 [==============================] - 12s 42ms/step - loss: 1.0686 - accuracy: 0.6009 - val_loss: 2.2181 - val_accuracy: 0.3880\n",
            "Epoch 66/200\n",
            "282/282 [==============================] - 12s 42ms/step - loss: 1.0765 - accuracy: 0.5939 - val_loss: 2.0779 - val_accuracy: 0.4180\n",
            "Epoch 67/200\n",
            "282/282 [==============================] - 12s 43ms/step - loss: 1.0636 - accuracy: 0.6031 - val_loss: 2.1946 - val_accuracy: 0.4220\n",
            "Epoch 68/200\n",
            "282/282 [==============================] - 12s 42ms/step - loss: 1.0755 - accuracy: 0.5970 - val_loss: 2.1135 - val_accuracy: 0.4400\n",
            "Epoch 69/200\n",
            "282/282 [==============================] - 12s 44ms/step - loss: 1.0537 - accuracy: 0.6027 - val_loss: 2.0756 - val_accuracy: 0.4300\n",
            "Epoch 70/200\n",
            "282/282 [==============================] - 12s 44ms/step - loss: 1.0552 - accuracy: 0.6023 - val_loss: 2.1690 - val_accuracy: 0.4280\n",
            "Epoch 71/200\n",
            "282/282 [==============================] - 12s 42ms/step - loss: 1.0560 - accuracy: 0.6033 - val_loss: 2.1053 - val_accuracy: 0.4290\n",
            "Epoch 72/200\n",
            "282/282 [==============================] - 12s 43ms/step - loss: 1.0531 - accuracy: 0.6056 - val_loss: 2.2052 - val_accuracy: 0.4150\n",
            "Epoch 73/200\n",
            "282/282 [==============================] - 12s 42ms/step - loss: 1.0462 - accuracy: 0.6086 - val_loss: 2.2316 - val_accuracy: 0.4220\n",
            "Epoch 74/200\n",
            "282/282 [==============================] - 12s 43ms/step - loss: 1.0434 - accuracy: 0.6050 - val_loss: 2.1616 - val_accuracy: 0.4230\n",
            "Epoch 75/200\n",
            "282/282 [==============================] - 12s 43ms/step - loss: 1.0389 - accuracy: 0.6073 - val_loss: 2.1964 - val_accuracy: 0.4190\n",
            "Epoch 76/200\n",
            "282/282 [==============================] - 12s 43ms/step - loss: 1.0410 - accuracy: 0.6099 - val_loss: 2.1253 - val_accuracy: 0.4260\n",
            "Epoch 77/200\n",
            "282/282 [==============================] - 12s 43ms/step - loss: 1.0536 - accuracy: 0.6072 - val_loss: 2.3659 - val_accuracy: 0.4340\n",
            "Epoch 78/200\n",
            "282/282 [==============================] - 12s 42ms/step - loss: 1.0399 - accuracy: 0.6067 - val_loss: 2.3293 - val_accuracy: 0.4130\n",
            "Epoch 79/200\n",
            "282/282 [==============================] - 11s 40ms/step - loss: 1.0391 - accuracy: 0.6078 - val_loss: 2.1461 - val_accuracy: 0.4050\n",
            "Epoch 80/200\n",
            "282/282 [==============================] - 11s 40ms/step - loss: 1.0348 - accuracy: 0.6073 - val_loss: 2.1788 - val_accuracy: 0.4400\n",
            "Epoch 81/200\n",
            "282/282 [==============================] - 11s 40ms/step - loss: 1.0278 - accuracy: 0.6098 - val_loss: 2.2505 - val_accuracy: 0.4300\n",
            "Epoch 82/200\n",
            "282/282 [==============================] - 11s 40ms/step - loss: 1.0258 - accuracy: 0.6106 - val_loss: 2.3710 - val_accuracy: 0.4070\n",
            "Epoch 83/200\n",
            "282/282 [==============================] - 11s 40ms/step - loss: 1.0532 - accuracy: 0.6087 - val_loss: 2.3772 - val_accuracy: 0.3910\n",
            "Epoch 84/200\n",
            "282/282 [==============================] - 11s 40ms/step - loss: 1.0440 - accuracy: 0.6082 - val_loss: 2.2383 - val_accuracy: 0.4410\n",
            "Epoch 85/200\n",
            "282/282 [==============================] - 11s 40ms/step - loss: 1.0290 - accuracy: 0.6124 - val_loss: 2.2151 - val_accuracy: 0.4300\n",
            "Epoch 86/200\n",
            "282/282 [==============================] - 11s 40ms/step - loss: 1.0238 - accuracy: 0.6172 - val_loss: 2.2359 - val_accuracy: 0.4270\n",
            "Epoch 87/200\n",
            "282/282 [==============================] - 11s 40ms/step - loss: 1.0218 - accuracy: 0.6114 - val_loss: 2.3396 - val_accuracy: 0.4310\n",
            "Epoch 88/200\n",
            "282/282 [==============================] - 11s 40ms/step - loss: 1.0243 - accuracy: 0.6090 - val_loss: 2.1660 - val_accuracy: 0.4350\n",
            "Epoch 89/200\n",
            "282/282 [==============================] - 11s 40ms/step - loss: 1.0195 - accuracy: 0.6104 - val_loss: 2.2238 - val_accuracy: 0.4230\n",
            "Epoch 90/200\n",
            "282/282 [==============================] - 11s 40ms/step - loss: 1.0149 - accuracy: 0.6140 - val_loss: 2.2993 - val_accuracy: 0.4240\n",
            "Epoch 91/200\n",
            "282/282 [==============================] - 11s 40ms/step - loss: 1.0094 - accuracy: 0.6140 - val_loss: 2.3516 - val_accuracy: 0.4210\n",
            "Epoch 92/200\n",
            "282/282 [==============================] - 11s 40ms/step - loss: 1.0102 - accuracy: 0.6150 - val_loss: 2.3080 - val_accuracy: 0.4230\n",
            "Epoch 93/200\n",
            "282/282 [==============================] - 11s 40ms/step - loss: 1.0090 - accuracy: 0.6140 - val_loss: 2.4155 - val_accuracy: 0.4020\n",
            "Epoch 94/200\n",
            "282/282 [==============================] - 11s 40ms/step - loss: 1.0098 - accuracy: 0.6159 - val_loss: 2.3832 - val_accuracy: 0.4260\n",
            "Epoch 95/200\n",
            "282/282 [==============================] - 11s 40ms/step - loss: 1.0062 - accuracy: 0.6148 - val_loss: 2.2981 - val_accuracy: 0.4180\n",
            "Epoch 96/200\n",
            "282/282 [==============================] - 11s 40ms/step - loss: 1.0048 - accuracy: 0.6152 - val_loss: 2.4166 - val_accuracy: 0.4070\n",
            "Epoch 97/200\n",
            "282/282 [==============================] - 11s 40ms/step - loss: 1.0054 - accuracy: 0.6177 - val_loss: 2.3127 - val_accuracy: 0.4280\n",
            "Epoch 98/200\n",
            "282/282 [==============================] - 11s 40ms/step - loss: 1.0028 - accuracy: 0.6149 - val_loss: 2.3412 - val_accuracy: 0.4290\n",
            "Epoch 99/200\n",
            "282/282 [==============================] - 11s 40ms/step - loss: 1.0058 - accuracy: 0.6153 - val_loss: 2.3808 - val_accuracy: 0.4200\n",
            "Epoch 100/200\n",
            "282/282 [==============================] - 11s 40ms/step - loss: 0.9989 - accuracy: 0.6163 - val_loss: 2.3034 - val_accuracy: 0.4260\n",
            "Epoch 101/200\n",
            "282/282 [==============================] - 11s 40ms/step - loss: 0.9989 - accuracy: 0.6180 - val_loss: 2.4196 - val_accuracy: 0.4220\n",
            "Epoch 102/200\n",
            "282/282 [==============================] - 11s 40ms/step - loss: 0.9965 - accuracy: 0.6194 - val_loss: 2.3790 - val_accuracy: 0.4330\n",
            "Epoch 103/200\n",
            "282/282 [==============================] - 11s 41ms/step - loss: 0.9971 - accuracy: 0.6187 - val_loss: 2.4012 - val_accuracy: 0.4470\n",
            "Epoch 104/200\n",
            "282/282 [==============================] - 12s 41ms/step - loss: 0.9981 - accuracy: 0.6156 - val_loss: 2.4562 - val_accuracy: 0.4200\n",
            "Epoch 105/200\n",
            "282/282 [==============================] - 11s 40ms/step - loss: 0.9963 - accuracy: 0.6202 - val_loss: 2.3742 - val_accuracy: 0.3980\n",
            "Epoch 106/200\n",
            "282/282 [==============================] - 11s 40ms/step - loss: 0.9937 - accuracy: 0.6152 - val_loss: 2.3169 - val_accuracy: 0.4320\n",
            "Epoch 107/200\n",
            "282/282 [==============================] - 11s 40ms/step - loss: 1.0114 - accuracy: 0.6127 - val_loss: 3.3452 - val_accuracy: 0.3710\n",
            "Epoch 108/200\n",
            "282/282 [==============================] - 11s 40ms/step - loss: 1.0282 - accuracy: 0.6056 - val_loss: 2.5067 - val_accuracy: 0.4200\n",
            "Epoch 109/200\n",
            "282/282 [==============================] - 11s 40ms/step - loss: 1.0071 - accuracy: 0.6114 - val_loss: 2.2768 - val_accuracy: 0.4120\n",
            "Epoch 110/200\n",
            "282/282 [==============================] - 11s 40ms/step - loss: 0.9921 - accuracy: 0.6181 - val_loss: 2.3512 - val_accuracy: 0.4240\n",
            "Epoch 111/200\n",
            "282/282 [==============================] - 11s 40ms/step - loss: 0.9936 - accuracy: 0.6179 - val_loss: 2.2428 - val_accuracy: 0.4250\n",
            "Epoch 112/200\n",
            "282/282 [==============================] - 11s 40ms/step - loss: 0.9893 - accuracy: 0.6193 - val_loss: 2.2957 - val_accuracy: 0.4300\n",
            "Epoch 113/200\n",
            "282/282 [==============================] - 11s 40ms/step - loss: 0.9846 - accuracy: 0.6168 - val_loss: 2.5548 - val_accuracy: 0.4200\n",
            "Epoch 114/200\n",
            "282/282 [==============================] - 11s 40ms/step - loss: 0.9848 - accuracy: 0.6177 - val_loss: 2.4127 - val_accuracy: 0.4230\n",
            "Epoch 115/200\n",
            "282/282 [==============================] - 11s 40ms/step - loss: 0.9839 - accuracy: 0.6210 - val_loss: 2.3988 - val_accuracy: 0.4230\n",
            "Epoch 116/200\n",
            "282/282 [==============================] - 11s 40ms/step - loss: 0.9809 - accuracy: 0.6201 - val_loss: 2.3563 - val_accuracy: 0.4400\n",
            "Epoch 117/200\n",
            "282/282 [==============================] - 11s 40ms/step - loss: 0.9817 - accuracy: 0.6196 - val_loss: 2.4343 - val_accuracy: 0.4410\n",
            "Epoch 118/200\n",
            "282/282 [==============================] - 12s 41ms/step - loss: 0.9794 - accuracy: 0.6228 - val_loss: 2.4357 - val_accuracy: 0.4470\n",
            "Epoch 119/200\n",
            "282/282 [==============================] - 12s 42ms/step - loss: 0.9826 - accuracy: 0.6189 - val_loss: 2.5896 - val_accuracy: 0.4140\n",
            "Epoch 120/200\n",
            "282/282 [==============================] - 12s 42ms/step - loss: 0.9808 - accuracy: 0.6187 - val_loss: 2.4695 - val_accuracy: 0.4310\n",
            "Epoch 121/200\n",
            "282/282 [==============================] - 12s 42ms/step - loss: 0.9802 - accuracy: 0.6190 - val_loss: 2.3666 - val_accuracy: 0.4330\n",
            "Epoch 122/200\n",
            "282/282 [==============================] - 12s 42ms/step - loss: 0.9789 - accuracy: 0.6240 - val_loss: 2.4343 - val_accuracy: 0.4280\n",
            "Epoch 123/200\n",
            "282/282 [==============================] - 12s 42ms/step - loss: 0.9768 - accuracy: 0.6189 - val_loss: 2.6025 - val_accuracy: 0.4390\n",
            "Epoch 124/200\n",
            "282/282 [==============================] - 12s 42ms/step - loss: 0.9738 - accuracy: 0.6226 - val_loss: 2.4656 - val_accuracy: 0.4400\n",
            "Epoch 125/200\n",
            "282/282 [==============================] - 12s 42ms/step - loss: 0.9738 - accuracy: 0.6201 - val_loss: 2.5130 - val_accuracy: 0.4260\n",
            "Epoch 126/200\n",
            "282/282 [==============================] - 12s 42ms/step - loss: 0.9744 - accuracy: 0.6201 - val_loss: 2.5502 - val_accuracy: 0.4120\n",
            "Epoch 127/200\n",
            "282/282 [==============================] - 12s 42ms/step - loss: 0.9705 - accuracy: 0.6201 - val_loss: 2.5617 - val_accuracy: 0.4430\n",
            "Epoch 128/200\n",
            "282/282 [==============================] - 12s 42ms/step - loss: 0.9712 - accuracy: 0.6201 - val_loss: 2.5227 - val_accuracy: 0.4130\n",
            "Epoch 129/200\n",
            "282/282 [==============================] - 12s 42ms/step - loss: 0.9710 - accuracy: 0.6223 - val_loss: 2.4431 - val_accuracy: 0.4300\n",
            "Epoch 130/200\n",
            "282/282 [==============================] - 12s 42ms/step - loss: 0.9704 - accuracy: 0.6206 - val_loss: 2.5282 - val_accuracy: 0.4220\n",
            "Epoch 131/200\n",
            "282/282 [==============================] - 12s 42ms/step - loss: 0.9711 - accuracy: 0.6204 - val_loss: 2.4781 - val_accuracy: 0.4340\n",
            "Epoch 132/200\n",
            "282/282 [==============================] - 12s 42ms/step - loss: 0.9691 - accuracy: 0.6183 - val_loss: 2.4214 - val_accuracy: 0.4230\n",
            "Epoch 133/200\n",
            "282/282 [==============================] - 12s 42ms/step - loss: 0.9643 - accuracy: 0.6241 - val_loss: 2.5004 - val_accuracy: 0.4330\n",
            "Epoch 134/200\n",
            "282/282 [==============================] - 13s 47ms/step - loss: 0.9959 - accuracy: 0.6096 - val_loss: 2.3160 - val_accuracy: 0.4320\n",
            "Epoch 135/200\n",
            "282/282 [==============================] - 13s 46ms/step - loss: 1.0030 - accuracy: 0.6148 - val_loss: 2.3523 - val_accuracy: 0.4150\n",
            "Epoch 136/200\n",
            "282/282 [==============================] - 13s 47ms/step - loss: 0.9717 - accuracy: 0.6287 - val_loss: 2.5122 - val_accuracy: 0.4100\n",
            "Epoch 137/200\n",
            "282/282 [==============================] - 13s 47ms/step - loss: 0.9684 - accuracy: 0.6202 - val_loss: 2.5558 - val_accuracy: 0.4180\n",
            "Epoch 138/200\n",
            "282/282 [==============================] - 13s 48ms/step - loss: 0.9717 - accuracy: 0.6189 - val_loss: 2.4232 - val_accuracy: 0.4300\n",
            "Epoch 139/200\n",
            "282/282 [==============================] - 13s 45ms/step - loss: 0.9684 - accuracy: 0.6217 - val_loss: 2.4770 - val_accuracy: 0.4210\n",
            "Epoch 140/200\n",
            "282/282 [==============================] - 13s 47ms/step - loss: 0.9626 - accuracy: 0.6197 - val_loss: 2.3894 - val_accuracy: 0.4210\n",
            "Epoch 141/200\n",
            "282/282 [==============================] - 12s 44ms/step - loss: 0.9625 - accuracy: 0.6249 - val_loss: 2.5328 - val_accuracy: 0.4230\n",
            "Epoch 142/200\n",
            "282/282 [==============================] - 13s 45ms/step - loss: 0.9649 - accuracy: 0.6190 - val_loss: 2.5689 - val_accuracy: 0.4220\n",
            "Epoch 143/200\n",
            "282/282 [==============================] - 13s 45ms/step - loss: 0.9682 - accuracy: 0.6226 - val_loss: 2.4241 - val_accuracy: 0.4340\n",
            "Epoch 144/200\n",
            "282/282 [==============================] - 13s 45ms/step - loss: 0.9642 - accuracy: 0.6212 - val_loss: 2.4952 - val_accuracy: 0.4400\n",
            "Epoch 145/200\n",
            "282/282 [==============================] - 14s 49ms/step - loss: 0.9653 - accuracy: 0.6192 - val_loss: 2.4738 - val_accuracy: 0.4250\n",
            "Epoch 146/200\n",
            "282/282 [==============================] - 13s 44ms/step - loss: 0.9605 - accuracy: 0.6234 - val_loss: 2.4605 - val_accuracy: 0.4030\n",
            "Epoch 147/200\n",
            "282/282 [==============================] - 13s 45ms/step - loss: 0.9594 - accuracy: 0.6213 - val_loss: 2.5768 - val_accuracy: 0.4360\n",
            "Epoch 148/200\n",
            "282/282 [==============================] - 12s 44ms/step - loss: 0.9703 - accuracy: 0.6207 - val_loss: 2.5394 - val_accuracy: 0.4270\n",
            "Epoch 149/200\n",
            "282/282 [==============================] - 12s 43ms/step - loss: 0.9619 - accuracy: 0.6256 - val_loss: 2.4723 - val_accuracy: 0.4260\n",
            "Epoch 150/200\n",
            "282/282 [==============================] - 12s 44ms/step - loss: 0.9582 - accuracy: 0.6229 - val_loss: 2.6278 - val_accuracy: 0.3980\n",
            "Epoch 151/200\n",
            "282/282 [==============================] - 13s 45ms/step - loss: 0.9581 - accuracy: 0.6238 - val_loss: 2.5825 - val_accuracy: 0.4330\n",
            "Epoch 152/200\n",
            "282/282 [==============================] - 13s 45ms/step - loss: 0.9553 - accuracy: 0.6236 - val_loss: 2.4460 - val_accuracy: 0.4320\n",
            "Epoch 153/200\n",
            "282/282 [==============================] - 13s 46ms/step - loss: 0.9538 - accuracy: 0.6261 - val_loss: 2.5092 - val_accuracy: 0.4250\n",
            "Epoch 154/200\n",
            "282/282 [==============================] - 13s 46ms/step - loss: 0.9521 - accuracy: 0.6264 - val_loss: 2.5971 - val_accuracy: 0.4210\n",
            "Epoch 155/200\n",
            "282/282 [==============================] - 13s 45ms/step - loss: 0.9556 - accuracy: 0.6230 - val_loss: 2.5207 - val_accuracy: 0.4230\n",
            "Epoch 156/200\n",
            "282/282 [==============================] - 13s 46ms/step - loss: 0.9510 - accuracy: 0.6232 - val_loss: 2.6201 - val_accuracy: 0.4220\n",
            "Epoch 157/200\n",
            "282/282 [==============================] - 14s 49ms/step - loss: 0.9518 - accuracy: 0.6229 - val_loss: 2.6178 - val_accuracy: 0.4320\n",
            "Epoch 158/200\n",
            "282/282 [==============================] - 13s 46ms/step - loss: 0.9501 - accuracy: 0.6236 - val_loss: 2.5424 - val_accuracy: 0.4340\n",
            "Epoch 159/200\n",
            "282/282 [==============================] - 13s 46ms/step - loss: 0.9506 - accuracy: 0.6227 - val_loss: 2.6173 - val_accuracy: 0.4180\n",
            "Epoch 160/200\n",
            "282/282 [==============================] - 13s 46ms/step - loss: 0.9496 - accuracy: 0.6240 - val_loss: 2.5965 - val_accuracy: 0.4320\n",
            "Epoch 161/200\n",
            "282/282 [==============================] - 13s 46ms/step - loss: 0.9480 - accuracy: 0.6260 - val_loss: 2.7019 - val_accuracy: 0.4250\n",
            "Epoch 162/200\n",
            "282/282 [==============================] - 13s 46ms/step - loss: 0.9506 - accuracy: 0.6214 - val_loss: 2.6215 - val_accuracy: 0.4190\n",
            "Epoch 163/200\n",
            "282/282 [==============================] - 13s 45ms/step - loss: 0.9463 - accuracy: 0.6222 - val_loss: 2.7101 - val_accuracy: 0.4270\n",
            "Epoch 164/200\n",
            "282/282 [==============================] - 12s 44ms/step - loss: 0.9483 - accuracy: 0.6254 - val_loss: 2.6472 - val_accuracy: 0.4080\n",
            "Epoch 165/200\n",
            "282/282 [==============================] - 12s 44ms/step - loss: 0.9465 - accuracy: 0.6239 - val_loss: 2.6011 - val_accuracy: 0.4170\n",
            "Epoch 166/200\n",
            "282/282 [==============================] - 12s 44ms/step - loss: 0.9434 - accuracy: 0.6254 - val_loss: 2.6993 - val_accuracy: 0.4200\n",
            "Epoch 167/200\n",
            "282/282 [==============================] - 12s 44ms/step - loss: 0.9460 - accuracy: 0.6247 - val_loss: 2.6954 - val_accuracy: 0.4210\n",
            "Epoch 168/200\n",
            "282/282 [==============================] - 12s 44ms/step - loss: 0.9447 - accuracy: 0.6243 - val_loss: 2.7003 - val_accuracy: 0.4160\n",
            "Epoch 169/200\n",
            "282/282 [==============================] - 12s 44ms/step - loss: 0.9442 - accuracy: 0.6241 - val_loss: 2.6167 - val_accuracy: 0.4200\n",
            "Epoch 170/200\n",
            "282/282 [==============================] - 12s 44ms/step - loss: 0.9460 - accuracy: 0.6241 - val_loss: 2.4952 - val_accuracy: 0.4190\n",
            "Epoch 171/200\n",
            "282/282 [==============================] - 12s 44ms/step - loss: 0.9428 - accuracy: 0.6261 - val_loss: 2.6562 - val_accuracy: 0.4280\n",
            "Epoch 172/200\n",
            "282/282 [==============================] - 12s 44ms/step - loss: 0.9451 - accuracy: 0.6246 - val_loss: 2.6490 - val_accuracy: 0.4280\n",
            "Epoch 173/200\n",
            "282/282 [==============================] - 13s 45ms/step - loss: 0.9426 - accuracy: 0.6282 - val_loss: 2.5654 - val_accuracy: 0.4230\n",
            "Epoch 174/200\n",
            "282/282 [==============================] - 12s 43ms/step - loss: 0.9424 - accuracy: 0.6252 - val_loss: 2.7350 - val_accuracy: 0.4310\n",
            "Epoch 175/200\n",
            "282/282 [==============================] - 12s 43ms/step - loss: 0.9432 - accuracy: 0.6256 - val_loss: 2.5784 - val_accuracy: 0.4130\n",
            "Epoch 176/200\n",
            "282/282 [==============================] - 12s 43ms/step - loss: 0.9404 - accuracy: 0.6293 - val_loss: 2.7255 - val_accuracy: 0.4250\n",
            "Epoch 177/200\n",
            "282/282 [==============================] - 12s 43ms/step - loss: 0.9415 - accuracy: 0.6247 - val_loss: 2.6576 - val_accuracy: 0.4250\n",
            "Epoch 178/200\n",
            "282/282 [==============================] - 12s 43ms/step - loss: 0.9412 - accuracy: 0.6258 - val_loss: 2.6730 - val_accuracy: 0.4150\n",
            "Epoch 179/200\n",
            "282/282 [==============================] - 12s 43ms/step - loss: 0.9405 - accuracy: 0.6258 - val_loss: 2.5930 - val_accuracy: 0.4320\n",
            "Epoch 180/200\n",
            "282/282 [==============================] - 12s 43ms/step - loss: 0.9386 - accuracy: 0.6238 - val_loss: 2.7239 - val_accuracy: 0.4280\n",
            "Epoch 181/200\n",
            "282/282 [==============================] - 12s 43ms/step - loss: 0.9385 - accuracy: 0.6264 - val_loss: 2.5809 - val_accuracy: 0.4120\n",
            "Epoch 182/200\n",
            "282/282 [==============================] - 12s 43ms/step - loss: 0.9373 - accuracy: 0.6224 - val_loss: 2.6482 - val_accuracy: 0.4270\n",
            "Epoch 183/200\n",
            "282/282 [==============================] - 12s 43ms/step - loss: 0.9395 - accuracy: 0.6206 - val_loss: 2.5759 - val_accuracy: 0.4180\n",
            "Epoch 184/200\n",
            "282/282 [==============================] - 12s 43ms/step - loss: 0.9408 - accuracy: 0.6207 - val_loss: 2.7051 - val_accuracy: 0.4410\n",
            "Epoch 185/200\n",
            "282/282 [==============================] - 12s 43ms/step - loss: 0.9359 - accuracy: 0.6262 - val_loss: 2.7644 - val_accuracy: 0.4070\n",
            "Epoch 186/200\n",
            "282/282 [==============================] - 12s 42ms/step - loss: 0.9365 - accuracy: 0.6266 - val_loss: 2.7457 - val_accuracy: 0.4310\n",
            "Epoch 187/200\n",
            "282/282 [==============================] - 12s 41ms/step - loss: 0.9375 - accuracy: 0.6232 - val_loss: 2.7874 - val_accuracy: 0.4140\n",
            "Epoch 188/200\n",
            "282/282 [==============================] - 12s 43ms/step - loss: 0.9512 - accuracy: 0.6231 - val_loss: 2.7884 - val_accuracy: 0.4200\n",
            "Epoch 189/200\n",
            "282/282 [==============================] - 12s 41ms/step - loss: 0.9766 - accuracy: 0.6163 - val_loss: 2.5341 - val_accuracy: 0.4180\n",
            "Epoch 190/200\n",
            "282/282 [==============================] - 11s 40ms/step - loss: 0.9462 - accuracy: 0.6252 - val_loss: 2.5239 - val_accuracy: 0.4270\n",
            "Epoch 191/200\n",
            "282/282 [==============================] - 11s 40ms/step - loss: 0.9375 - accuracy: 0.6254 - val_loss: 2.6050 - val_accuracy: 0.4170\n",
            "Epoch 192/200\n",
            "282/282 [==============================] - 11s 40ms/step - loss: 0.9360 - accuracy: 0.6253 - val_loss: 2.6096 - val_accuracy: 0.4360\n",
            "Epoch 193/200\n",
            "282/282 [==============================] - 12s 41ms/step - loss: 0.9340 - accuracy: 0.6264 - val_loss: 2.5963 - val_accuracy: 0.4350\n",
            "Epoch 194/200\n",
            "282/282 [==============================] - 12s 43ms/step - loss: 0.9343 - accuracy: 0.6261 - val_loss: 2.8609 - val_accuracy: 0.3940\n",
            "Epoch 195/200\n",
            "282/282 [==============================] - 12s 43ms/step - loss: 0.9416 - accuracy: 0.6261 - val_loss: 2.6019 - val_accuracy: 0.4300\n",
            "Epoch 196/200\n",
            "282/282 [==============================] - 12s 43ms/step - loss: 0.9536 - accuracy: 0.6196 - val_loss: 2.5800 - val_accuracy: 0.4280\n",
            "Epoch 197/200\n",
            "282/282 [==============================] - 12s 43ms/step - loss: 0.9442 - accuracy: 0.6243 - val_loss: 2.7065 - val_accuracy: 0.4300\n",
            "Epoch 198/200\n",
            "282/282 [==============================] - 12s 44ms/step - loss: 0.9358 - accuracy: 0.6256 - val_loss: 2.6981 - val_accuracy: 0.4300\n",
            "Epoch 199/200\n",
            "282/282 [==============================] - 13s 45ms/step - loss: 0.9321 - accuracy: 0.6242 - val_loss: 2.5891 - val_accuracy: 0.4310\n",
            "Epoch 200/200\n",
            "282/282 [==============================] - 12s 43ms/step - loss: 0.9322 - accuracy: 0.6230 - val_loss: 2.6306 - val_accuracy: 0.4270\n"
          ]
        }
      ],
      "source": [
        "modelo_final.compile(\n",
        "                loss=\"sparse_categorical_crossentropy\",\n",
        "                optimizer=\"sgd\",\n",
        "                metrics=[\"accuracy\"],\n",
        "                )\n",
        "history=modelo_final.fit(\n",
        "                X_train,\n",
        "                y_train,\n",
        "                epochs=200,\n",
        "                batch_size=32,\n",
        "                validation_data=(X_valid,y_valid)\n",
        "                )"
      ]
    },
    {
      "cell_type": "code",
      "execution_count": 14,
      "id": "9zUyNMP8Wt05",
      "metadata": {
        "id": "9zUyNMP8Wt05"
      },
      "outputs": [
        {
          "data": {
            "text/plain": [
              "dict_keys(['loss', 'accuracy', 'val_loss', 'val_accuracy'])"
            ]
          },
          "execution_count": 14,
          "metadata": {},
          "output_type": "execute_result"
        }
      ],
      "source": [
        "history.history.keys()"
      ]
    },
    {
      "cell_type": "code",
      "execution_count": 15,
      "id": "6aa1d1ab",
      "metadata": {},
      "outputs": [
        {
          "data": {
            "image/png": "[encoded data removed]",
            "text/plain": [
              "<Figure size 800x500 with 1 Axes>"
            ]
          },
          "metadata": {},
          "output_type": "display_data"
        }
      ],
      "source": [
        "import pandas as pd\n",
        "import matplotlib.pyplot as plt\n",
        "\n",
        "pd.DataFrame(history.history).plot(figsize=(8,5))\n",
        "plt.grid(True)\n",
        "plt.gca().set_ylim(0,3)\n",
        "plt.show()"
      ]
    },
    {
      "cell_type": "code",
      "execution_count": 16,
      "id": "a64ddbba",
      "metadata": {},
      "outputs": [
        {
          "data": {
            "text/plain": [
              "(10000, 48, 48, 3)"
            ]
          },
          "execution_count": 16,
          "metadata": {},
          "output_type": "execute_result"
        }
      ],
      "source": [
        "X_test=np.dstack([X_test]*3)\n",
        "X_test = X_test.reshape(-1, 28, 28, 3)\n",
        "X_test = np.asarray(\n",
        "    [img_to_array(array_to_img(im, scale=False).resize((48,48)))\n",
        "    for im in X_test]\n",
        "    )\n",
        "X_test.shape"
      ]
    },
    {
      "cell_type": "code",
      "execution_count": 17,
      "id": "03ddfa6c",
      "metadata": {},
      "outputs": [
        {
          "name": "stdout",
          "output_type": "stream",
          "text": [
            "313/313 [==============================] - 8s 26ms/step - loss: 3.8770 - accuracy: 0.3840\n"
          ]
        },
        {
          "data": {
            "text/plain": [
              "[3.8770387172698975, 0.3840000033378601]"
            ]
          },
          "execution_count": 17,
          "metadata": {},
          "output_type": "execute_result"
        }
      ],
      "source": [
        "modelo_final.evaluate(X_test/255.,y_test)"
      ]
    },
    {
      "cell_type": "code",
      "execution_count": null,
      "id": "7947414a",
      "metadata": {},
      "outputs": [],
      "source": []
    }
  ],
  "metadata": {
    "colab": {
      "provenance": []
    },
    "kernelspec": {
      "display_name": "Python 3 (ipykernel)",
      "language": "python",
      "name": "python3"
    },
    "language_info": {
      "codemirror_mode": {
        "name": "ipython",
        "version": 3
      },
      "file_extension": ".py",
      "mimetype": "text/x-python",
      "name": "python",
      "nbconvert_exporter": "python",
      "pygments_lexer": "ipython3",
      "version": "3.10.14"
    }
  },
  "nbformat": 4,
  "nbformat_minor": 5
}
