{
 "cells": [
  {
   "cell_type": "markdown",
   "metadata": {},
   "source": [
    "## <center>**Atividade Avaliativa 1**</center>"
   ]
  },
  {
   "cell_type": "markdown",
   "metadata": {},
   "source": [
    "### *Uma empresa de seguros de automóveis decide utilizar algoritmos de aprendizado de máquina para auxiliar na estimativa de preços do seguro. Diferentes tarefas e algoritmos de aprendizado pode ser utilizado nesse contexto.*"
   ]
  },
  {
   "cell_type": "markdown",
   "metadata": {},
   "source": [
    "### **1-Com relação ao exemplo dado, conceitue e exemplifique o uso de técnicas de pré-processamento dos dados.**"
   ]
  },
  {
   "cell_type": "markdown",
   "metadata": {},
   "source": [
    "<p style='text-align: justify'>Nem sempre os algoritmos de aprendizado de máquina podem utilizar os dados em sua forma original, os dados podem ter valores faltantes, incorretos, ou distorcidos, talvez esses dados estejam espalhados por mais de uma base de dados ou a dimensionalidade desses dados seja muito grande. Portanto, são necessárias medidas para ajustar esses dados de forma que os algoritmos sejam capazes de gerar respostas generalistas. É possível que seja necessário a troca de valores qualitativos para numéricos binários, por exemplo. Outra substituição pode ser de valores qualitativos ordinais para numéricos para representar essa ordem. A integração de base de dados separadas em uma única a partir de uma coluna de identificação. Pode-se utilizar técnicas de amostragem para reduzir a dimensionalidade de forma a representar uma base de dados grande através de uma amostra reduzida.</p>"
   ]
  },
  {
   "cell_type": "markdown",
   "metadata": {},
   "source": [
    "### **2-Relacione os conceitos de tarefas, desempenho e experiência em aprendizado de máquina com o exemplo dado. Na discussão sobre as tarefas, conceitue e apresente como o problema poderia ser modelado nas tarefas de: regressão, classificação, agrupamento e sumarização.**"
   ]
  },
  {
   "cell_type": "markdown",
   "metadata": {},
   "source": [
    "<p style='text-align: justify'>As experiências são as informações ou observações do problema sobre as quais serão feitas os estudos e treinamentos em busca de obter os objetivos definidos, no exemplo citado estas podem ser: modelo do veículo, ano de fabricação do veículo, idade do condutor, gênero do condutor, histórico do condutor, etc.\n",
    "\n",
    "Já as tarefas são os tipos de estudos que serão feitos sobre os dados das experiências. Existem os treinamentos supervisionados, onde se tem dados sobre os objetivos e não supervisionados, onde se quer extrair informações sobre esse conjunto de dados sem uma regra prévia definida. Dentre estes estão:\n",
    "- Regressão (supervisionado): busca obter uma função que descreva bem o problema, dentro do problema apresentado, pode-se retornar o valor numérico individualizado do preço do seguro para um veículo.\n",
    "- Classificação (supervisionado): busca definir um rótulo para o conjunto de dados, a partir de rótulos definidos. Dentro do problema apresentado, encaixar o veículo dentro de uma classe, por exemplo, baixo risco, médio risco e alto risco.\n",
    "- Agrupamento (não supervisionado): busca definir a partir dos dados por similaridade, grupos ou clusters, para agrupar os dados tentando explicar os mesmos. Dentro do problema apresentado, a partir desses grupos definir faixas de valores para o seguro.\n",
    "- Sumarização (não supervisionado): busca trazer as informações mais importantes dos dados. Dentro do problema apresentado, trazer as informações mais relevantes para definir o preço do seguro.\n",
    "\n",
    "Já o desempenho é o quão apropriado o modelo de aprendizado de máquina para o problema em questão. O modelo se mantém estável com mudanças nos dados e não produz respostas discrepantes para observações similares.</p>"
   ]
  },
  {
   "cell_type": "markdown",
   "metadata": {},
   "source": [
    "### **3-Um dos pontos chave no aprendizado de máquina é a capacidade de generalização do modelo. Explique essa afirmativa, utilizando o exemplo inicial.**"
   ]
  },
  {
   "cell_type": "markdown",
   "metadata": {},
   "source": [
    "<p style='text-align: justify'>O modelo precisa ser capaz de gerar uma resposta generalista a partir dos dados de treinamento. Isto é, ele deve ser capaz de a partir de novas entradas conseguir produzir resultados semelhantes aos que foram obtidos durante os treinamentos. Não deve ser sobreajustado sobre os dados, isto é decorá-los, e gerar respostas ótimas para os dados de treinamento, mas quando do momento de uso em novos dados esse modelo gerar respostas não esperadas/satisfatórias. Ou então ser insuficiente e simplista, e não gerar respostas suficientes nem durante o treinamento.</p>"
   ]
  },
  {
   "cell_type": "markdown",
   "metadata": {},
   "source": [
    "### **4-As amostras obtidas precisam passar pelo processo de \"split\". Qual o objetivo desse processo? Por que ele é necessário em tarefas de aprendizado de máquina? Cite e explique cuidados que devem ser tomados no split e por que a amostragem aleatória pode não ser a melhor decisão.**"
   ]
  },
  {
   "cell_type": "markdown",
   "metadata": {},
   "source": [
    "<p style='text-align: justify'>O objetivo desse processo é separar os dados para treino e teste. É necessário para avaliar a performance do modelo com novos dados diferentes dos dados utilizados para treinamento. É necessário que o equilíbrio dos dados seja mantido nessa separação de forma que as métricas desses dados sejam mantidas. É possível separar os dados em treinamento e teste, e separar os dados de treinamento em treino e validação.\n",
    "\n",
    "A amostragem aleatória pode não ser a melhor decisão pois é possível que durante essa amostragem, os dados não sejam separados uniformemente e algumas características sejam realçadas durante o treinamento que não representam o todo dos dados e isso cause problemas durante os testes.</p>"
   ]
  },
  {
   "cell_type": "markdown",
   "metadata": {},
   "source": [
    "### **5-Explique os algoritmos Naive Bayes, KNN e Árvore de Decisão e suas limitações no contexto do problema enumerado.**"
   ]
  },
  {
   "cell_type": "markdown",
   "metadata": {},
   "source": [
    "<p style='text-align: justify'>Naive Bayes é um algoritmo para classificação que faz uso das probabilidades das classes dentre as observações e dadas as variáveis destas observações pertencerem a uma das classes. Tem como princípio a independência entre as variáveis. Dentro do problema apresentado, caso a independência entre as variáveis não seja bem definida, o modelo pode não ter uma performance satisfatória.\n",
    "\n",
    "K-NN é um algoritmo para classificação que utiliza a similaridade para definir agrupamentos das amostras durante o processo de treinamento. Define-se um valor inteiro de k e com a inserção de uma nova observação são tomadas as medidas dessa observação com as demais presentes no modelo, quando se encontra as k mais próximas, é feita uma votação para determinar como será classificada essa nova observação. Essa votação pode ser uniforme, ou por pesos a depender do problema. Ao se inserir uma nova observação, o modelo é atualizado. É um algoritmo simples, mas a depender da dimensionalidade do problema pode ser pesado computacionalmente. Quando o problema possui muitas variáveis, para se obter resultados satisfatórios é necessário uma grande quantidade de amostras. Dentro do problema apresentado, o K-NN pode não apresentar performance interessante pois como boa parte das variáveis será categórica, serão necessárias muitas variáveis para se obter resultados satisfatórios.\n",
    "\n",
    "Árvore de Decisão é um algoritmo para classificação que utiliza a estratégia de dividir o problema em problemas menores, e faz uso de métricas de contribuição para fazer a construção dessa árvore de decisões. Essa árvore possui dois tipos de nós, o de tomada de decisão e o de rotulação. Quando um no de decisão não conseguir dividir as observações, este se torna um nó de rotulação. Podem ser utilizadas medidas de ganho de informação ou de impureza feitas para cada variável. Dentro do problema apresentado, caso as observações não sejam bem definidas, é possível que seja necessárias árvores profundas ou se forem muitas variáveis a largura da árvore seja grand, isso pode fazer com que os modelos se tornem instáveis a mudanças nos dados.</p>"
   ]
  },
  {
   "cell_type": "markdown",
   "metadata": {},
   "source": [
    "### **6-Com a escolha do algoritmo de classificação segue a etapa de construção de modelo. Supondo que você está utilizando o algoritmo k-folds, e o algoritmo ligeiramente diferentes resultados de desempenho, explique diferentes maneiras de escolher o modelo dentre os gerados pelo K-Folds e por que a escolha do que obteve a melhor performance é uma má ideia.**"
   ]
  },
  {
   "cell_type": "markdown",
   "metadata": {},
   "source": [
    "<p style='text-align: justify'>Uma das maneiras de escolher o modelo dentre os gerados pelo K-Folds pode ser pelo que tiver a performance mediana, pois este modelos estaria mais próximo do centro da performance da maioria dos modelos. Outra forma de determinar a escolha pode ser através da medida da média da performance e escolher o que mais se aproxima desta.\n",
    "\n",
    "A escolha do modelo que obteve a melhor performance é uma má ideia se dá pois não necessariamente este resultado traduz a realidade para o todo dos dados. Quando um modelo se destaca dos demais, uma das razões pode ser que dentre as amostras na divisão do k-folds estas eram mais fáceis de se estimar/prever, mas quando este modelo seja testado com as demais observações, pode não ter uma performance boa.</p>"
   ]
  },
  {
   "cell_type": "markdown",
   "metadata": {},
   "source": [
    "### **7-Ao modelar o problema para o uso do KNN. Duas estratégias podem ser utilizadas: cada um dos k vizinhos mais próximos vota em uma classe, com peso 1; os vizinhos votam com pesos diferentes. Como a distância entre os vizinhos pode ser utilizada na etapa de votação? Quais situações podem ser beneficiadas com o uso de diferentes pesos para vizinhos distintos?**"
   ]
  },
  {
   "cell_type": "markdown",
   "metadata": {},
   "source": [
    "<p style='text-align: justify'>A distância entre os vizinhos pode ser utilizada na etapa de votação como peso nessa votação, por exemplo, quanto maior a distância menor o peso recebe esse vizinho (1/distância). O uso de diferentes pesos para vizinhos distintos pode beneficiar o modelo no caso onde há uma classe predominante e com o uso de pesos iguais, a classe com maior quantidade tende a dominar as votações.</p>"
   ]
  },
  {
   "cell_type": "markdown",
   "metadata": {},
   "source": [
    "### **8-No contexto do problema enunciado, encontre dimensões com a qual poderiamos utilizar o GaussianNB (Naive Bayes Gaussiano).**"
   ]
  },
  {
   "cell_type": "markdown",
   "metadata": {},
   "source": [
    "<p style='text-align: justify'>O Naive Bayes Gaussiano utiliza variáveis contínuas e suas distribuições, obrigatoriamente normais ou Gaussianas, para os cálculos das probabilidades nas classificações. Dentro do problema apresentado, algumas variáveis que podem se comportar dessa forma podem ser: o valor do veículo, a distância média percorrida com o veículo por semana, o tempo de experiência do condutor, a frequência com que condutores precisam acionar o seguro, a idade do condutor.</p>"
   ]
  },
  {
   "cell_type": "markdown",
   "metadata": {},
   "source": [
    "### **9-Com respeito à árvores de decisão, qual a relação entre o nível do nó de seleção e a discriminancia do atributo? Explique por que podem ser úteis métodos de poda.**"
   ]
  },
  {
   "cell_type": "markdown",
   "metadata": {},
   "source": [
    "<p style='text-align: justify'>A relação entre o nível do nó de seleção e a discriminancia do atributo é de quanto maior o nível do nó, menor a contribuição deste para o modelo. Isto é, quanto mais próximo da raiz mais esse atributo divide os dados e gera ganho de informação ao modelo. Métodos de poda podem ser úteis na redução da dimensionalidade dos problemas modelados em árvores de decisão, quando a performance de um nó de decisão é semelhante à sua sub-árvore é melhor manter esse nó de decisão como um nó folha à estender a árvore de decisão.</p>"
   ]
  }
 ],
 "metadata": {
  "language_info": {
   "name": "python"
  }
 },
 "nbformat": 4,
 "nbformat_minor": 2
}
