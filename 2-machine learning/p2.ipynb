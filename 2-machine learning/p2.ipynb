{
 "cells": [
  {
   "cell_type": "markdown",
   "metadata": {},
   "source": [
    "## <center>**Atividade Avaliativa 2**</center>"
   ]
  },
  {
   "cell_type": "markdown",
   "metadata": {},
   "source": [
    "### **1-Explique as diferenças contextuais do algoritmo Apriori, para a inferência de regras de associação. E o algoritmo de inferência de Decision Trees..**"
   ]
  },
  {
   "cell_type": "markdown",
   "metadata": {},
   "source": [
    "<p style='text-align: justify'>Os algoritmos Apriori e Árvores de Decisão possuem naturezas e objetivos diferentes. O algoritmo Apriori é um algoritmo aprendizado não supervisionado, uma tarefa descritiva que gera regras de associação. Já o algoritmo Árvores de Decisão é um algoritmo de aprendizado supervisionado que pode fazer classificação e regressão. Porém, a forma da construção desses algoritmos se assemelha, pois utilizam probabilidades para determinar as suas regras.</p>"
   ]
  },
  {
   "cell_type": "markdown",
   "metadata": {},
   "source": [
    "### **2-Sobre o algoritmo Apriori, diferencie Itens de Itemsets. Qual o objetivo dos hiperparâmetros: min_sup e min_conf?**"
   ]
  },
  {
   "cell_type": "markdown",
   "metadata": {},
   "source": [
    "<p style='text-align: justify'>Itens são os elementos individuais, e itemsets são as ocorrências desses itens individualmente ou em conjunto com outros itens. O hiperparâmetro min_sup tem como objetivo determinar qual o valor mínimo de suporte, ou seja, de ocorrência de um itemsets para que este seja considerado frequente. Já o hiperparâmetro min_conf determina qual a confiança mínima para determinar uma regra de associação como forte dado um itemset antecedente e a sua união com o itemset consequente.</p>"
   ]
  },
  {
   "cell_type": "markdown",
   "metadata": {},
   "source": [
    "### **3-Com relação ao exemplo dado, conceitue e exemplifique o uso de técnicas de pré-processamento dos dados.**"
   ]
  },
  {
   "cell_type": "markdown",
   "metadata": {},
   "source": [
    "<p style='text-align: justify'>Como o algoritmo K-Means utiliza distâncias para determinar os agrupamentos, diferentes métricas de distância no algoritmo k-means são necessárias para determinar os agrupamentos apropriados para diferentes tipos de dados. </p>"
   ]
  },
  {
   "cell_type": "markdown",
   "metadata": {},
   "source": [
    "### **4-Com relação ao exemplo dado, conceitue e exemplifique o uso de técnicas de pré-processamento dos dados.**"
   ]
  },
  {
   "cell_type": "markdown",
   "metadata": {},
   "source": [
    "<p style='text-align: justify'>Os centróides iniciais podem ser ajustados de diferentes formas. Uma das formas é gerar de forma aleatória os pontos desses centróides. Outra forma é utilizar algoritmos de inicialização, como k-means++ e naive sharding. Por exemplo, o algoritmo de inicialização k-means++ escolhe o primeiro centróide aleatoriamente e determina os demais de acordo com a distribuição dos dados de forma a deixar os centróides mais afastados quanto possível. Esse ajuste inicial pode determinar o resultado final da distribuição dos agrupamentos. É recomendado a execução do algoritmo múltiplas vezes para obter um resultado mais confiável.</p>"
   ]
  }
 ],
 "metadata": {
  "language_info": {
   "name": "python"
  }
 },
 "nbformat": 4,
 "nbformat_minor": 2
}
